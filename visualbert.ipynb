{
  "cells": [
    {
      "cell_type": "markdown",
      "metadata": {
        "id": "view-in-github",
        "colab_type": "text"
      },
      "source": [
        "<a href=\"https://colab.research.google.com/github/cahitcanuzman/Explainability-in-MMSD/blob/firstbranch/visualbert.ipynb\" target=\"_parent\"><img src=\"https://colab.research.google.com/assets/colab-badge.svg\" alt=\"Open In Colab\"/></a>"
      ]
    },
    {
      "cell_type": "markdown",
      "metadata": {
        "id": "LjkCRlY6cLRT"
      },
      "source": [
        "#Imports\n"
      ]
    },
    {
      "cell_type": "code",
      "execution_count": null,
      "metadata": {
        "colab": {
          "base_uri": "https://localhost:8080/"
        },
        "id": "rqRn6QhZcbDa",
        "outputId": "c68bc59b-1227-401b-afb6-d3e0937ce2c9"
      },
      "outputs": [
        {
          "output_type": "stream",
          "name": "stdout",
          "text": [
            "Mounted at /content/gdrive\n"
          ]
        }
      ],
      "source": [
        "from google.colab import drive\n",
        "drive.mount('/content/gdrive', force_remount=True)"
      ]
    },
    {
      "cell_type": "code",
      "execution_count": null,
      "metadata": {
        "id": "jeLAhmiOcoPN"
      },
      "outputs": [],
      "source": [
        "!unzip -q /content/gdrive/MyDrive/Data_Filming/data.zip\n",
        "!cp /content/gdrive/MyDrive/Data_Filming/im_data.pickle /content/data\n",
        "#!mkdir /content/models\n",
        "#!cp /content/gdrive/MyDrive/visbert_models/first_model.pth /content/models"
      ]
    },
    {
      "cell_type": "code",
      "execution_count": null,
      "metadata": {
        "id": "ma_73e90cLRV"
      },
      "outputs": [],
      "source": [
        "import torch\n",
        "import os\n",
        "import pickle\n",
        "import time\n",
        "import numpy as np\n",
        "import pandas as pd\n",
        "import tensorflow as tf\n",
        "import matplotlib.pyplot as plt\n",
        "import torch.nn.functional as F\n",
        "import torch.optim as optim\n",
        "import torchvision.models as models\n",
        "import cv2 #opencv_python\n",
        "import re\n",
        "import spacy\n",
        "\n",
        "from tqdm import tqdm\n",
        "from torch.utils.data import Dataset, Subset\n",
        "from torch.utils.data import DataLoader\n",
        "from torchvision import transforms\n",
        "from torch import nn\n",
        "from torch.autograd import Variable\n",
        "from torch.nn.utils.clip_grad import clip_grad_norm_\n",
        "from PIL import Image"
      ]
    },
    {
      "cell_type": "code",
      "execution_count": null,
      "metadata": {
        "id": "xxz9aY-N22bS"
      },
      "outputs": [],
      "source": [
        "device = 'cuda:0' if torch.cuda.is_available() else 'cpu'\n",
        "# t = torch.cuda.get_device_properties(0).total_memory\n",
        "# print(t/(1024*1024*1024))"
      ]
    },
    {
      "cell_type": "markdown",
      "metadata": {
        "id": "UIi40LfKcLRW"
      },
      "source": [
        "# Load Data"
      ]
    },
    {
      "cell_type": "code",
      "execution_count": null,
      "metadata": {
        "id": "8H7fJ-hycLRX"
      },
      "outputs": [],
      "source": [
        "def load_file(file):\n",
        "    \"\"\"A helper function to load a pickle dump of a given file.\"\"\"\n",
        "    with open(file, 'rb') as f:\n",
        "       return pickle.load(f)"
      ]
    },
    {
      "cell_type": "code",
      "execution_count": null,
      "metadata": {
        "id": "U9SBp6YRcLRX"
      },
      "outputs": [],
      "source": [
        "train_data = load_file('data/train_data')\n",
        "valid_data = load_file('data/valid_data')\n",
        "test_data = load_file('data/test_data')\n",
        "image_top = load_file('data/image_top')\n",
        "im_data = load_file('data/im_data.pickle')\n",
        "\n",
        "train_text = [str(item['text']) for item in train_data.values()]\n",
        "valid_text = [str(item['text']) for item in valid_data.values()]\n",
        "test_text = [str(item['text']) for item in test_data.values()]\n",
        "top_text = [ \" \".join(item) for item in image_top.values()]\n",
        "\n",
        "train_labels = [int(item['label']) for item in train_data.values()]\n",
        "valid_labels = [int(item['label']) for item in valid_data.values()]\n",
        "test_labels = [int(item['label']) for item in test_data.values()]\n",
        "\n",
        "train_id = [str(item) for item in train_data.keys()]\n",
        "valid_id = [str(item) for item in valid_data.keys()]\n",
        "test_id = [str(item) for item in test_data.keys()]\n",
        "top_id = [ str(item) for item in image_top.keys()]\n",
        "\n",
        "texts = train_text + valid_text + test_text + top_text"
      ]
    },
    {
      "cell_type": "code",
      "execution_count": null,
      "metadata": {
        "colab": {
          "base_uri": "https://localhost:8080/"
        },
        "id": "TzWjefBacLRX",
        "outputId": "65857ce8-d1b7-41bc-e583-d9c87c6aa9d8"
      },
      "outputs": [
        {
          "output_type": "stream",
          "name": "stdout",
          "text": [
            "36468\n",
            "19816\n",
            "2410\n",
            "2409\n"
          ]
        }
      ],
      "source": [
        "print(len(top_text))\n",
        "print(len(train_data))\n",
        "print(len(valid_data))\n",
        "print(len(test_data))\n"
      ]
    },
    {
      "cell_type": "code",
      "execution_count": null,
      "metadata": {
        "id": "IbCzcFvpcLRY"
      },
      "outputs": [],
      "source": [
        "train_text = load_file(\"data/train_text\")\n",
        "train_labels = load_file(\"data/train_labels\")\n",
        "train_id = load_file(\"data/train_id\")\n",
        "image_top = load_file(\"data/image_top\") #top 5 attributes\n",
        "valid_text = load_file(\"data/valid_text\")\n",
        "valid_labels = load_file(\"data/valid_labels\")\n",
        "valid_id = load_file(\"data/valid_id\")\n",
        "test_text = load_file(\"data/test_text\")\n",
        "test_labels = load_file(\"data/test_labels\")\n",
        "test_id = load_file(\"data/test_id\")"
      ]
    },
    {
      "cell_type": "code",
      "execution_count": null,
      "metadata": {
        "colab": {
          "base_uri": "https://localhost:8080/"
        },
        "id": "6GHhfK2OcLRZ",
        "outputId": "fea84e23-ab74-445b-b3c7-8adfb619e740"
      },
      "outputs": [
        {
          "output_type": "stream",
          "name": "stdout",
          "text": [
            "19816 2410 2409\n",
            "19816 2410 2409\n",
            "19816 2410 2409\n",
            "36468 36468\n",
            "24635\n"
          ]
        }
      ],
      "source": [
        "print(len(train_text), len(valid_text), len(test_text))\n",
        "print(len(train_labels), len(valid_labels), len(test_labels))\n",
        "print(len(train_id), len(valid_id), len(test_id))\n",
        "print(len(top_text),len(top_id))\n",
        "\n",
        "print((len(train_id) + len(valid_id) + len(test_id)))\n",
        "\n"
      ]
    },
    {
      "cell_type": "markdown",
      "metadata": {
        "id": "9sczGia5BdvI"
      },
      "source": [
        "# Prepare & Process Data"
      ]
    },
    {
      "cell_type": "code",
      "execution_count": null,
      "metadata": {
        "id": "_NAM3w3a3w4F"
      },
      "outputs": [],
      "source": [
        "import locale\n",
        "locale.getpreferredencoding = lambda: \"UTF-8\""
      ]
    },
    {
      "cell_type": "code",
      "execution_count": null,
      "metadata": {
        "colab": {
          "base_uri": "https://localhost:8080/",
          "height": 754,
          "referenced_widgets": [
            "105e2e05e93148328008ae3d003fa875",
            "967ecd726d5c41c9b41e1b5edfd32eae",
            "75d9babde561499c9a0206ca8122fe49",
            "b2120f6c44c34d429e6fa80b81e3ee11",
            "f954ea2c3a9e4ff4860ddc59b81fcf86",
            "18f5501e31234277a75a09ed4efbcd0f",
            "3e8bce35cbe74f0495437c502efcf88d",
            "ee9b5c7be256431c92737d9433b56f56",
            "a4f4b3ded485473a85c2d906012ab757",
            "b73b13f514fe464f8e30315ef6e131b4",
            "5c6abecc27ea499da1a83b796d982085",
            "8a7d6d40e223449ca50224eb3c05f25e",
            "23246d8c16d54ecc99ae672263d39c28",
            "43243d6804624ed4b3ea3f3d4c33ec12",
            "7747e1cdb6874cdc87d1980c2657e59c",
            "521b0986ca83491883fa90b6319fa194",
            "d636db3693a54d2ca40e97ec7a980102",
            "2f24e5300efb4531bc36e6df4faed938",
            "7ad1d3b22809448f8a54716cfd7f88fd",
            "9fbfcc7f6b554cc9b4dfe16786e92c03",
            "7d39c004a4cc4813827993b337995e22",
            "909387337e464246849cb835e5f09c23",
            "037601bacffc4ee89171064394cc7367",
            "259d66bf6f65477cb069251d7db19cef",
            "5c608855e21145e38cccf5f56dc4fcce",
            "83276ceb3ec3412590ee6534ef1bc348",
            "0352b680e78541d3a3eb6bfcb70455e7",
            "ad68c29eca7b42a49a158096acd33daf",
            "e0f4ecdf8dc0418aa631db3d61c90bb3",
            "89f32feaa4654c838040ced7f1bba9c3",
            "cb1051b9b25b4cf19b609c8def66ef98",
            "25883c9ebb6241229758c803bb1588dd",
            "b423517a7595420283f06696ac9395c0",
            "fde9f2d52902448fa2e7b66c8fe9e219",
            "beec33caa472446aa5a711d6e18fb414",
            "06b5ecb3c65042c2b027058e11bef1f5",
            "3a76750d503c4faa9937bc338179d385",
            "5f690246bef740b4b5c3e1d4f16429a9",
            "b087bed3b27040d1908afffa8e6bd6e8",
            "e39d6da02860456eb8f38d09e19cb07c",
            "a6c14f55f318459ebc1a7fa9752d0ede",
            "d62dd0e20fa547019cee57fa580b5116",
            "9626267c9cd448a5af51d726ac3a7892",
            "14030d2f6c5c4dd893c605a28cdc9e23",
            "8939d4d749c947aab217b692c53015b8",
            "5c5fa164b2f04e2eaa459349e5307f5c",
            "10939f5ff34d46a0b31cd54e1c6e9d12",
            "744d65e348304557bbcf16aa5d96dec4",
            "3f99b0b72fc441be8f564dab540d58dd",
            "f592696e531b417da96f47145ab61c5c",
            "d8073cf90a2b4f95ae1da00737d07315",
            "7475fc92877b412ca485c5ffff903fc6",
            "4704f529623f49569394d8d9878a1ad2",
            "4043fa66bdf84daf9baf437824b01734",
            "89b0a440a5144b60b2c1e2b3d22cf89e",
            "039573ef2da345ccbd0be73425b00ae8",
            "f910725e9d42456f8c29acf4f7c8974b",
            "95477ee8df4e480b9e6290450708f88f",
            "dfad7666c2914f639bcd5e7af619d707",
            "b508c26691614b66aed2bde6bc243525",
            "c86bfa69a7d24131b9a42b4dd7751a87",
            "9b14a004630449f6a107849ec257b062",
            "3e6bd4da7b734304853ecb6f83493eca",
            "a70da428d6a9412e8e43d544d7f04f94",
            "e2ae40e486234d1b868e4fc329d7c80b",
            "9a6587f839eb44c49e33e3fc18289c46"
          ]
        },
        "id": "-NXca0idNbq_",
        "outputId": "e32a57d7-44c4-435f-f3f4-9d5c0be2d663"
      },
      "outputs": [
        {
          "output_type": "stream",
          "name": "stdout",
          "text": [
            "Collecting transformers\n",
            "  Downloading transformers-4.33.1-py3-none-any.whl (7.6 MB)\n",
            "\u001b[2K     \u001b[90m━━━━━━━━━━━━━━━━━━━━━━━━━━━━━━━━━━━━━━━━\u001b[0m \u001b[32m7.6/7.6 MB\u001b[0m \u001b[31m17.0 MB/s\u001b[0m eta \u001b[36m0:00:00\u001b[0m\n",
            "\u001b[?25hRequirement already satisfied: filelock in /usr/local/lib/python3.10/dist-packages (from transformers) (3.12.2)\n",
            "Collecting huggingface-hub<1.0,>=0.15.1 (from transformers)\n",
            "  Downloading huggingface_hub-0.16.4-py3-none-any.whl (268 kB)\n",
            "\u001b[2K     \u001b[90m━━━━━━━━━━━━━━━━━━━━━━━━━━━━━━━━━━━━━━\u001b[0m \u001b[32m268.8/268.8 kB\u001b[0m \u001b[31m24.8 MB/s\u001b[0m eta \u001b[36m0:00:00\u001b[0m\n",
            "\u001b[?25hRequirement already satisfied: numpy>=1.17 in /usr/local/lib/python3.10/dist-packages (from transformers) (1.23.5)\n",
            "Requirement already satisfied: packaging>=20.0 in /usr/local/lib/python3.10/dist-packages (from transformers) (23.1)\n",
            "Requirement already satisfied: pyyaml>=5.1 in /usr/local/lib/python3.10/dist-packages (from transformers) (6.0.1)\n",
            "Requirement already satisfied: regex!=2019.12.17 in /usr/local/lib/python3.10/dist-packages (from transformers) (2023.6.3)\n",
            "Requirement already satisfied: requests in /usr/local/lib/python3.10/dist-packages (from transformers) (2.31.0)\n",
            "Collecting tokenizers!=0.11.3,<0.14,>=0.11.1 (from transformers)\n",
            "  Downloading tokenizers-0.13.3-cp310-cp310-manylinux_2_17_x86_64.manylinux2014_x86_64.whl (7.8 MB)\n",
            "\u001b[2K     \u001b[90m━━━━━━━━━━━━━━━━━━━━━━━━━━━━━━━━━━━━━━━━\u001b[0m \u001b[32m7.8/7.8 MB\u001b[0m \u001b[31m40.8 MB/s\u001b[0m eta \u001b[36m0:00:00\u001b[0m\n",
            "\u001b[?25hCollecting safetensors>=0.3.1 (from transformers)\n",
            "  Downloading safetensors-0.3.3-cp310-cp310-manylinux_2_17_x86_64.manylinux2014_x86_64.whl (1.3 MB)\n",
            "\u001b[2K     \u001b[90m━━━━━━━━━━━━━━━━━━━━━━━━━━━━━━━━━━━━━━━━\u001b[0m \u001b[32m1.3/1.3 MB\u001b[0m \u001b[31m48.9 MB/s\u001b[0m eta \u001b[36m0:00:00\u001b[0m\n",
            "\u001b[?25hRequirement already satisfied: tqdm>=4.27 in /usr/local/lib/python3.10/dist-packages (from transformers) (4.66.1)\n",
            "Requirement already satisfied: fsspec in /usr/local/lib/python3.10/dist-packages (from huggingface-hub<1.0,>=0.15.1->transformers) (2023.6.0)\n",
            "Requirement already satisfied: typing-extensions>=3.7.4.3 in /usr/local/lib/python3.10/dist-packages (from huggingface-hub<1.0,>=0.15.1->transformers) (4.5.0)\n",
            "Requirement already satisfied: charset-normalizer<4,>=2 in /usr/local/lib/python3.10/dist-packages (from requests->transformers) (3.2.0)\n",
            "Requirement already satisfied: idna<4,>=2.5 in /usr/local/lib/python3.10/dist-packages (from requests->transformers) (3.4)\n",
            "Requirement already satisfied: urllib3<3,>=1.21.1 in /usr/local/lib/python3.10/dist-packages (from requests->transformers) (2.0.4)\n",
            "Requirement already satisfied: certifi>=2017.4.17 in /usr/local/lib/python3.10/dist-packages (from requests->transformers) (2023.7.22)\n",
            "Installing collected packages: tokenizers, safetensors, huggingface-hub, transformers\n",
            "Successfully installed huggingface-hub-0.16.4 safetensors-0.3.3 tokenizers-0.13.3 transformers-4.33.1\n"
          ]
        },
        {
          "output_type": "display_data",
          "data": {
            "text/plain": [
              "Downloading (…)solve/main/vocab.txt:   0%|          | 0.00/232k [00:00<?, ?B/s]"
            ],
            "application/vnd.jupyter.widget-view+json": {
              "version_major": 2,
              "version_minor": 0,
              "model_id": "105e2e05e93148328008ae3d003fa875"
            }
          },
          "metadata": {}
        },
        {
          "output_type": "display_data",
          "data": {
            "text/plain": [
              "Downloading (…)okenizer_config.json:   0%|          | 0.00/28.0 [00:00<?, ?B/s]"
            ],
            "application/vnd.jupyter.widget-view+json": {
              "version_major": 2,
              "version_minor": 0,
              "model_id": "8a7d6d40e223449ca50224eb3c05f25e"
            }
          },
          "metadata": {}
        },
        {
          "output_type": "display_data",
          "data": {
            "text/plain": [
              "Downloading (…)lve/main/config.json:   0%|          | 0.00/570 [00:00<?, ?B/s]"
            ],
            "application/vnd.jupyter.widget-view+json": {
              "version_major": 2,
              "version_minor": 0,
              "model_id": "037601bacffc4ee89171064394cc7367"
            }
          },
          "metadata": {}
        },
        {
          "output_type": "display_data",
          "data": {
            "text/plain": [
              "Downloading (…)olve/main/vocab.json:   0%|          | 0.00/899k [00:00<?, ?B/s]"
            ],
            "application/vnd.jupyter.widget-view+json": {
              "version_major": 2,
              "version_minor": 0,
              "model_id": "fde9f2d52902448fa2e7b66c8fe9e219"
            }
          },
          "metadata": {}
        },
        {
          "output_type": "display_data",
          "data": {
            "text/plain": [
              "Downloading (…)olve/main/merges.txt:   0%|          | 0.00/456k [00:00<?, ?B/s]"
            ],
            "application/vnd.jupyter.widget-view+json": {
              "version_major": 2,
              "version_minor": 0,
              "model_id": "8939d4d749c947aab217b692c53015b8"
            }
          },
          "metadata": {}
        },
        {
          "output_type": "display_data",
          "data": {
            "text/plain": [
              "Downloading (…)lve/main/config.json:   0%|          | 0.00/481 [00:00<?, ?B/s]"
            ],
            "application/vnd.jupyter.widget-view+json": {
              "version_major": 2,
              "version_minor": 0,
              "model_id": "039573ef2da345ccbd0be73425b00ae8"
            }
          },
          "metadata": {}
        }
      ],
      "source": [
        "!pip install transformers\n",
        "from transformers import DistilBertTokenizer, BertTokenizer, RobertaTokenizer\n",
        "visualbert_tokenizer = BertTokenizer.from_pretrained(\"bert-base-uncased\") # BERT tokenizer is compatible with VisualBERT\n",
        "#distilbert_tokenizer = DistilBertTokenizer.from_pretrained(\"distilbert-base-uncased\")\n",
        "roberta_tokenizer = RobertaTokenizer.from_pretrained('roberta-base')"
      ]
    },
    {
      "cell_type": "markdown",
      "metadata": {
        "id": "HL5y6NT3CCP4"
      },
      "source": [
        "## Custom Dataset and Data Loaders\n"
      ]
    },
    {
      "cell_type": "code",
      "execution_count": null,
      "metadata": {
        "id": "9jx2jEL08I9i"
      },
      "outputs": [],
      "source": [
        "# TODO: functionize the dataset\n",
        "class CustomDataset(Dataset):\n",
        "    \"\"\"\n",
        "    This is our custom dataset class which will load the images, perform transforms on them,\n",
        "    and load their corresponding labels.\n",
        "    \"\"\"\n",
        "    def __init__(self, img_dir, labels, image_ids, texts, roberta_tokenizer, visualbert_tokenizer, im_data, attrs) -> None:\n",
        "        \"\"\"\n",
        "        img_dir = dir in which images are located\n",
        "        labels = list containing true (0/1) values\n",
        "        text = list containing all the texts\n",
        "        filenames = list containing the names of images\n",
        "        transform = transformer to preprocess images\n",
        "        \"\"\"\n",
        "        self.img_dir = img_dir\n",
        "        self.labels = labels\n",
        "        self.texts = texts\n",
        "        self.roberta_tokenizer = roberta_tokenizer\n",
        "        self.im_data = im_data\n",
        "        self.attrs = attrs\n",
        "        self.image_ids = image_ids\n",
        "        self.visualbert_tokenizer = visualbert_tokenizer\n",
        "\n",
        "    def __len__(self):\n",
        "        return len(self.labels)\n",
        "\n",
        "    def get_merged_attrs(self, attr_list):\n",
        "      #create a list that stores merged versions of strings\n",
        "        return str(' '.join(attr_list))\n",
        "\n",
        "    def __getitem__(self, idx):\n",
        "        # retrieve image\n",
        "        im_idx = self.image_ids[idx]\n",
        "        try:\n",
        "            img_path = os.path.join(\n",
        "                self.img_dir, \"{}.jpg\".format(str(im_idx))\n",
        "            )\n",
        "            img = Image.open(img_path)\n",
        "\n",
        "        except Exception as e:\n",
        "            print(e)\n",
        "\n",
        "        # apply text processing\n",
        "        text = re.sub(r'(\\s)emoji\\w+', '', self.texts[idx]) # filter emojis from text\n",
        "\n",
        "        ##### VISUALBERT PROCESSING #####\n",
        "\n",
        "        # apply image processing\n",
        "        im_dict = self.im_data[str(im_idx)] # apply transformation pipeline to image\n",
        "        visual_embeds = im_dict['pooled_feat'][:10]\n",
        "        visual_token_type_ids = torch.ones(visual_embeds.shape[:-1], dtype=torch.long)\n",
        "        visual_attention_mask = torch.ones(visual_embeds.shape[:-1], dtype=torch.float)\n",
        "\n",
        "        # for visualbert\n",
        "        visbert_text = self.visualbert_tokenizer.encode_plus(\n",
        "            text=text,  # the text to be encoded\n",
        "            add_special_tokens=True,  # add [CLS] and [SEP]\n",
        "            max_length = 180,\n",
        "            padding='max_length',\n",
        "            return_attention_mask = True,  # return the attention mask\n",
        "            return_tensors = 'pt',  # return tensor\n",
        "        )\n",
        "\n",
        "        ##### CO-ATTENTION PROCESSING #####\n",
        "\n",
        "        # #for co-attention module\n",
        "        # coatt_text = self.roberta_tokenizer.encode_plus(\n",
        "        #     text=text,  # the text to be encoded\n",
        "        #     add_special_tokens=True,  # add [CLS] and [SEP]\n",
        "        #     max_length = 180,\n",
        "        #     padding='max_length',\n",
        "        #     return_attention_mask = True,  # return the attention mask\n",
        "        #     return_tensors = 'pt',  # return tensor\n",
        "        # )\n",
        "\n",
        "        # #apply attribute processing for co-attention module\n",
        "        # attr = self.get_merged_attrs(self.attrs[int(im_idx)]) # prevent tokenizer to recognize five attrs as a whole\n",
        "        # tokenized_attr = self.roberta_tokenizer.encode_plus(\n",
        "        #     text=attr,  # the attribute list to be encoded\n",
        "        #     add_special_tokens=True,  # add [CLS] and [SEP]\n",
        "        #     max_length = 15,\n",
        "        #     padding='max_length',\n",
        "        #     return_attention_mask = True,  # return the attention mask\n",
        "        #     return_tensors = 'pt',  # return tensor\n",
        "        # )\n",
        "\n",
        "        indexed_tokens_for_text = self.roberta_tokenizer(text)['input_ids']\n",
        "        while len(indexed_tokens_for_text) < 180:\n",
        "            indexed_tokens_for_text.append(1)\n",
        "        tokens_tensor_text = torch.tensor(indexed_tokens_for_text)\n",
        "\n",
        "        # attribute tokens for transformer pipeline\n",
        "        attribute =  self.get_merged_attrs(self.attrs[int(im_idx)])\n",
        "        #attribute = ' '.join(attribute)\n",
        "        indexed_tokens_for_attribute = self.roberta_tokenizer(attribute)['input_ids']\n",
        "        while len(indexed_tokens_for_attribute) < 15:\n",
        "            indexed_tokens_for_attribute.append(1)\n",
        "        tokens_tensor_attribute = torch.tensor(indexed_tokens_for_attribute)\n",
        "\n",
        "\n",
        "        # construct data dict\n",
        "        data_dict = {}\n",
        "\n",
        "        visbert_text[\"input_ids\"] = torch.squeeze(visbert_text[\"input_ids\"], 0)\n",
        "        visbert_text[\"token_type_ids\"] = torch.squeeze(visbert_text[\"token_type_ids\"], 0)\n",
        "        visbert_text[\"attention_mask\"] = torch.squeeze(visbert_text[\"attention_mask\"], 0)\n",
        "        visbert_inputs = visbert_text\n",
        "\n",
        "\n",
        "        visbert_inputs[\"visual_embeds\"] = visual_embeds.cpu()\n",
        "        visbert_inputs[\"visual_token_type_ids\"] = visual_token_type_ids\n",
        "        visbert_inputs[\"visual_attention_mask\"] = visual_attention_mask\n",
        "\n",
        "        data_dict[\"label\"] = self.labels[idx]\n",
        "        # data_dict[\"texts\"] = torch.squeeze(coatt_text[\"input_ids\"], 0)\n",
        "        # data_dict[\"attrs\"] = torch.squeeze(tokenized_attr[\"input_ids\"], 0)\n",
        "        data_dict[\"texts\"] = tokens_tensor_text\n",
        "        data_dict[\"attrs\"] = tokens_tensor_attribute\n",
        "        data_dict[\"visualbert_inputs\"] = visbert_inputs\n",
        "        data_dict[\"idx\"] = im_idx\n",
        "\n",
        "        # # to be deleted\n",
        "        # data_dict[\"texts_o\"] = text\n",
        "        # data_dict[\"attrs_o\"] = attr\n",
        "\n",
        "\n",
        "        #data_dict[\"bbox\"] = im_dict['bbox']\n",
        "        # data_dict[\"text_attention_mask\"] = tokenized_text[\"attention_mask\"]\n",
        "        # data_dict[\"attr_attention_mask\"] = tokenized_attr[\"attention_mask\"]\n",
        "\n",
        "        return data_dict"
      ]
    },
    {
      "cell_type": "code",
      "execution_count": null,
      "metadata": {
        "id": "siYCxihBgq10"
      },
      "outputs": [],
      "source": [
        "# Data Loaders\n",
        "BATCH_SIZE = 64\n",
        "\n",
        "# img_dir, labels, image_ids, texts, roberta_tokenizer, visualbert_tokenizer, img_transformer, im_data, attrs\n",
        "processed_train = CustomDataset(img_dir = 'data/dataset_image/',\n",
        "                                labels = train_labels,\n",
        "                                texts = train_text,\n",
        "                                image_ids = train_id,\n",
        "                                roberta_tokenizer = roberta_tokenizer,\n",
        "                                visualbert_tokenizer = visualbert_tokenizer,\n",
        "                                im_data = im_data,\n",
        "                                attrs = image_top\n",
        "                                )\n",
        "\n",
        "processed_valid = CustomDataset(img_dir = 'data/dataset_image/',\n",
        "                                labels = valid_labels,\n",
        "                                texts = valid_text,\n",
        "                                image_ids = valid_id,\n",
        "                                roberta_tokenizer = roberta_tokenizer,\n",
        "                                visualbert_tokenizer = visualbert_tokenizer,\n",
        "                                im_data = im_data,\n",
        "                                attrs = image_top\n",
        "                                )\n",
        "\n",
        "processed_test = CustomDataset(img_dir = 'data/dataset_image/',\n",
        "                                labels = test_labels,\n",
        "                                texts = test_text,\n",
        "                                image_ids = test_id,\n",
        "                                roberta_tokenizer = roberta_tokenizer,\n",
        "                                visualbert_tokenizer = visualbert_tokenizer,\n",
        "                                im_data = im_data,\n",
        "                                attrs = image_top\n",
        "                                )\n",
        "# indices = np.arange(100, 9188)\n",
        "# reduced_dataset = Subset(processed_train, indices)\n",
        "# TODO: PLAY WITH THIS\n",
        "dataloader_train = DataLoader(processed_train,\n",
        "                              batch_size = BATCH_SIZE,\n",
        "                              pin_memory=True,\n",
        "                              shuffle = True,\n",
        "                              num_workers=0,\n",
        "                              drop_last = True)\n",
        "\n",
        "dataloader_valid = DataLoader(processed_valid,\n",
        "                              batch_size = BATCH_SIZE,\n",
        "                              pin_memory=True,\n",
        "                              shuffle = True,\n",
        "                              num_workers=0,\n",
        "                              drop_last = True)\n",
        "\n",
        "dataloader_test  = DataLoader(processed_test,\n",
        "                              batch_size = BATCH_SIZE,\n",
        "                              pin_memory=True,\n",
        "                              shuffle = True,\n",
        "                              num_workers=0,\n",
        "                              drop_last = True)\n"
      ]
    },
    {
      "cell_type": "markdown",
      "metadata": {
        "id": "qstIyuQT3W0q"
      },
      "source": [
        "# Model Implementation"
      ]
    },
    {
      "cell_type": "markdown",
      "metadata": {
        "id": "iEMLh1HHwxao"
      },
      "source": [
        "## Encoders\n"
      ]
    },
    {
      "cell_type": "code",
      "execution_count": null,
      "metadata": {
        "colab": {
          "base_uri": "https://localhost:8080/",
          "height": 538,
          "referenced_widgets": [
            "f6a0b19dee67435996da8673cf69d30d",
            "cc34538acda547dfb195d4df7a6c3e1d",
            "20a3d2af839a423ba87c62a268b926b8",
            "83418c9e2af642d38fb6068de75a9655",
            "d1671043da834de5bbdb4ddf8fec9ce5",
            "046fb0792ae447a688f8305b5520a50b",
            "6608d271c1e74e3d93970325349bab4a",
            "6fa63771e987437d94ae08278586de43",
            "a19882bbebf74b81b5c87a9e37ed615c",
            "4b48a5f6958f4702b64392a9a70976dd",
            "6041f2849d1445faa981f453a85fb45e"
          ]
        },
        "id": "mUtl7mTNw1s0",
        "outputId": "7f491620-5ea1-4b1c-8dea-b4ff5c968fa2"
      },
      "outputs": [
        {
          "output_type": "display_data",
          "data": {
            "text/plain": [
              "Downloading model.safetensors:   0%|          | 0.00/499M [00:00<?, ?B/s]"
            ],
            "application/vnd.jupyter.widget-view+json": {
              "version_major": 2,
              "version_minor": 0,
              "model_id": "f6a0b19dee67435996da8673cf69d30d"
            }
          },
          "metadata": {}
        },
        {
          "output_type": "stream",
          "name": "stderr",
          "text": [
            "Some weights of RobertaModel were not initialized from the model checkpoint at roberta-base and are newly initialized: ['roberta.pooler.dense.bias', 'roberta.pooler.dense.weight']\n",
            "You should probably TRAIN this model on a down-stream task to be able to use it for predictions and inference.\n",
            "Some weights of RobertaModel were not initialized from the model checkpoint at roberta-base and are newly initialized: ['roberta.pooler.dense.bias', 'roberta.pooler.dense.weight']\n",
            "You should probably TRAIN this model on a down-stream task to be able to use it for predictions and inference.\n"
          ]
        },
        {
          "output_type": "stream",
          "name": "stdout",
          "text": [
            "VisualBertConfig {\n",
            "  \"attention_probs_dropout_prob\": 0.1,\n",
            "  \"bos_token_id\": 0,\n",
            "  \"bypass_transformer\": false,\n",
            "  \"eos_token_id\": 2,\n",
            "  \"hidden_act\": \"gelu\",\n",
            "  \"hidden_dropout_prob\": 0.1,\n",
            "  \"hidden_size\": 768,\n",
            "  \"initializer_range\": 0.02,\n",
            "  \"intermediate_size\": 3072,\n",
            "  \"layer_norm_eps\": 1e-12,\n",
            "  \"max_position_embeddings\": 512,\n",
            "  \"model_type\": \"visual_bert\",\n",
            "  \"num_attention_heads\": 12,\n",
            "  \"num_hidden_layers\": 6,\n",
            "  \"pad_token_id\": 1,\n",
            "  \"special_visual_initialize\": true,\n",
            "  \"transformers_version\": \"4.33.1\",\n",
            "  \"type_vocab_size\": 2,\n",
            "  \"visual_embedding_dim\": 2048,\n",
            "  \"vocab_size\": 30522\n",
            "}\n",
            "\n"
          ]
        }
      ],
      "source": [
        "## Text and Image Attribute Encoders\n",
        "from transformers import DistilBertModel, VisualBertModel, VisualBertConfig, RobertaModel, XLNetModel\n",
        "\n",
        "text_encoder = RobertaModel.from_pretrained('roberta-base')\n",
        "attr_encoder = RobertaModel.from_pretrained('roberta-base')\n",
        "# xlnet_encoder = XLNetModel.from_pretrained(\"xlnet-base-cased\")\n",
        "\n",
        "# roberta_encoder = RobertaModel.from_pretrained('roberta-base')\n",
        "# attr_encoder = RobertaModel.from_pretrained('roberta-base')\n",
        "\n",
        "config = VisualBertConfig()\n",
        "\n",
        "# 10 - 8 % 78\n",
        "# 6 - 12  %81\n",
        "# 4 - 4  %80\n",
        "# 4 - 12\n",
        "# 8 - 16\n",
        "#config.intermediate_size = 3072 * 2\n",
        "#config.hidden_size = 1536\n",
        "#config.hidden_act = \"gelu_new\"\n",
        "#config.output_hidden_states= True\n",
        "#config.output_attentions= True\n",
        "\n",
        "\n",
        "config.num_hidden_layers = 6\n",
        "config.num_attention_heads = 12\n",
        "config.visual_embedding_dim = 2048\n",
        "\n",
        "\n",
        "# Print the configuration\n",
        "print(config)\n",
        "visualbert = VisualBertModel(config)"
      ]
    },
    {
      "cell_type": "markdown",
      "metadata": {
        "id": "KgZEP14v3cle"
      },
      "source": [
        "## Co-Attention Module\n"
      ]
    },
    {
      "cell_type": "code",
      "execution_count": null,
      "metadata": {
        "id": "eKevch1dsW2i"
      },
      "outputs": [],
      "source": [
        "import math\n",
        "class CoAttention(nn.Module):\n",
        "    def __init__(self, size_in, size_out):\n",
        "        super().__init__()\n",
        "        self.size_in, self.size_out = size_in, size_out\n",
        "        weights = torch.Tensor(size_out, size_in)\n",
        "        self.weights = torch.nn.Parameter(weights)  # nn.Parameter is a Tensor that's a module parameter.\n",
        "\n",
        "        # initialize weights and biases\n",
        "        torch.nn.init.kaiming_uniform_(self.weights, a=math.sqrt(5)) # weight init\n",
        "        fan_in, _ = torch.nn.init._calculate_fan_in_and_fan_out(self.weights)\n",
        "\n",
        "        self.tanh = torch.nn.Tanh()\n",
        "        self.max_pool = torch.nn.MaxPool2d(kernel_size = (180,1))\n",
        "\n",
        "    def forward(self, H, T, batch_size = BATCH_SIZE):\n",
        "        # H.shape = batch_size, 360, 768\n",
        "        # T.shape = batch_size, 13, 768\n",
        "        T_tmp = T.clone()\n",
        "        T = T.permute(0, 2, 1)\n",
        "        z_1 = torch.matmul(H, self.weights)\n",
        "        z_2 = torch.matmul(z_1, T)\n",
        "\n",
        "        # print(self.weights.shape) # [768, 768]\n",
        "\n",
        "        C = self.tanh(z_2)\n",
        "        alpha = self.max_pool(C)\n",
        "\n",
        "        # print(C.shape) batch_size, 360, 13\n",
        "        # print(alpha.shape) batch_size, 1, 13\n",
        "        HT = torch.matmul(alpha, T_tmp).resize(batch_size, self.size_in)\n",
        "\n",
        "        return HT\n",
        "\n",
        "    # def __init__(self, hidden_dim, k = 100):\n",
        "    #     super().__init__()\n",
        "    #     self.hidden_dim = hidden_dim\n",
        "\n",
        "    #     self.tanh = nn.Tanh()\n",
        "\n",
        "    #     self.W = nn.Parameter(torch.randn(self.hidden_dim, self.hidden_dim)) # parameterized (learnable) weight matrix\n",
        "    #     self.W_v = nn.Parameter(torch.randn(k, self.hidden_dim)) # k x 768\n",
        "    #     self.W_q = nn.Parameter(torch.randn(k, self.hidden_dim)) # k x 768\n",
        "\n",
        "    #     self.w_hv = nn.Parameter(torch.randn(k, 1))\n",
        "    #     self.w_hq = nn.Parameter(torch.randn(k, 1))\n",
        "\n",
        "    # def forward(self, V, Q):\n",
        "    #     #   Q: B x 15 x 768     V: B x 250 x 768\n",
        "    #     Q_T = Q.permute(0, 2, 1)\n",
        "    #     V_T = V.permute(0, 2, 1)\n",
        "\n",
        "    #     C = self.tanh(torch.matmul(torch.matmul(V, self.W) , Q_T)) # B x 250 x 15\n",
        "    #     #print(C.shape)\n",
        "\n",
        "    #     H_v = self.tanh(torch.matmul(self.W_q, Q_T) + torch.matmul(torch.matmul(self.W_v, V_T), C)) # B x k x 15\n",
        "\n",
        "    #     a_v = F.softmax(torch.matmul(torch.t(self.w_hv), H_v), dim=2) # B x 1 x 150\n",
        "\n",
        "    #     v = torch.squeeze(torch.matmul(a_v, Q)) # B x 768\n",
        "\n",
        "    #     return v"
      ]
    },
    {
      "cell_type": "markdown",
      "metadata": {
        "id": "mt8RW1lkFFAK"
      },
      "source": [
        "## Main Model\n"
      ]
    },
    {
      "cell_type": "code",
      "execution_count": null,
      "metadata": {
        "id": "dmXScuTGrjtt"
      },
      "outputs": [],
      "source": [
        "class MainModel(nn.Module):\n",
        "    \"\"\"Main model architecture that consists of two main parts: VisualBERT and a Co-attention mechanism.\"\"\"\n",
        "    def __init__(self):\n",
        "        super(MainModel, self).__init__()\n",
        "        self.visualbert = visualbert.to(device)\n",
        "\n",
        "        self.text_encoder = text_encoder.to(device)\n",
        "        self.attr_encoder = attr_encoder.to(device)\n",
        "        self.co_attention = CoAttention(768, 768).to(device)\n",
        "\n",
        "        self.fc_end = nn.Linear(768+768+768, 2)\n",
        "        self.sig = nn.Sigmoid()\n",
        "\n",
        "\n",
        "    def forward(self, text, attr, visualbert_inputs, batch_size = BATCH_SIZE):\n",
        "        #for visualbert\n",
        "        out_visbert = self.visualbert(**visualbert_inputs)\n",
        "        out1 = out_visbert.pooler_output\n",
        "\n",
        "        #for co-attention\n",
        "        text_embed = self.text_encoder.embeddings(input_ids=text)\n",
        "        attr_embed = self.attr_encoder.embeddings(input_ids=attr)\n",
        "\n",
        "        # output of co-attention module\n",
        "        out3 = self.co_attention(text_embed, attr_embed, batch_size)\n",
        "\n",
        "        # if len(out2.shape) == 1: # for running lime on single datapoint\n",
        "        #   out2 = torch.unsqueeze(out2, 0)\n",
        "        # [CLS] tokens to be used\n",
        "\n",
        "        out2 = text_embed[:,0,:] # [B, 768]\n",
        "\n",
        "        concat_out = torch.cat((out1, out2, out3), dim = 1)\n",
        "        concat_out = self.fc_end(concat_out)\n",
        "        final_out = self.sig(concat_out)\n",
        "\n",
        "        return final_out"
      ]
    },
    {
      "cell_type": "code",
      "execution_count": null,
      "metadata": {
        "id": "vBZIXlpHqVks"
      },
      "outputs": [],
      "source": [
        "def save_checkpoint(save_path, model, optimizer, val_loss):\n",
        "    if save_path==None:\n",
        "        return\n",
        "    state_dict = {'model_state_dict': model.state_dict(),\n",
        "                  'optimizer_state_dict': optimizer.state_dict(),\n",
        "                  'val_loss': val_loss}\n",
        "\n",
        "    torch.save(state_dict, save_path)\n",
        "\n",
        "def load_checkpoint(save_path, model, optimizer):\n",
        "    state_dict = torch.load(save_path)\n",
        "    model.load_state_dict(state_dict['model_state_dict'], strict=False)\n",
        "    optimizer.load_state_dict(state_dict['optimizer_state_dict'], strict=False)\n",
        "    val_loss = state_dict['val_loss']\n",
        "    print(f'Model loaded from <== {save_path}')\n",
        "\n",
        "    return val_loss\n",
        "\n",
        "\n"
      ]
    },
    {
      "cell_type": "markdown",
      "metadata": {
        "id": "vjKAC_OKDNb9"
      },
      "source": [
        "## Model Instance, Loss Functions and Optimizer"
      ]
    },
    {
      "cell_type": "code",
      "execution_count": null,
      "metadata": {
        "id": "T5V1mb_MDNut"
      },
      "outputs": [],
      "source": [
        "model = MainModel()\n",
        "model = model.to(device)\n",
        "\n",
        "optimizer = optim.Adam(\n",
        "    [\n",
        "        {'params': model.visualbert.parameters(), 'lr': 1e-5, 'weight_decay': 1e-3},\n",
        "        {'params': model.text_encoder.parameters(), 'lr': 1e-3},\n",
        "        {'params': model.attr_encoder.parameters(), 'lr': 1e-3},\n",
        "        {'params': model.co_attention.parameters()},\n",
        "        {'params': model.fc_end.parameters()},\n",
        "    ], lr = 1e-4 , weight_decay = 1e-2\n",
        ")\n",
        "\n",
        "criterion = nn.CrossEntropyLoss().to(device)"
      ]
    },
    {
      "cell_type": "code",
      "execution_count": null,
      "metadata": {
        "id": "jnS5XSNuBIJf"
      },
      "outputs": [],
      "source": [
        "torch.cuda.empty_cache()"
      ]
    },
    {
      "cell_type": "code",
      "execution_count": null,
      "metadata": {
        "id": "oTOpB6PPNBvZ"
      },
      "outputs": [],
      "source": [
        "!mkdir '/content/models'\n",
        "!cp '/content/gdrive/MyDrive/third_model.pth ' '/content/models/third_model.pth'"
      ]
    },
    {
      "cell_type": "code",
      "execution_count": null,
      "metadata": {
        "colab": {
          "base_uri": "https://localhost:8080/"
        },
        "id": "quIbbzWSBVIF",
        "outputId": "2b31a91d-9b45-4e01-d37a-048a5952edb2"
      },
      "outputs": [
        {
          "name": "stdout",
          "output_type": "stream",
          "text": [
            "Model loaded from <== /content/models/third_model.pth\n"
          ]
        }
      ],
      "source": [
        "save_path = '/content/models/third_model.pth'\n",
        "loaded_model_loss =  load_checkpoint(save_path, model, criterion)"
      ]
    },
    {
      "cell_type": "markdown",
      "metadata": {
        "id": "Nqqqx1tGrlmY"
      },
      "source": [
        "## Training Loop"
      ]
    },
    {
      "cell_type": "code",
      "execution_count": null,
      "metadata": {
        "colab": {
          "base_uri": "https://localhost:8080/"
        },
        "id": "OGiddDTvrsuB",
        "outputId": "ee4fdbd6-870d-43ea-e6e8-f7fcb3ad3d47"
      },
      "outputs": [
        {
          "output_type": "stream",
          "name": "stdout",
          "text": [
            "----------\n",
            "Epoch 1/35\n"
          ]
        },
        {
          "output_type": "stream",
          "name": "stderr",
          "text": [
            "\r  0%|          | 0/309 [00:00<?, ?it/s]/usr/local/lib/python3.10/dist-packages/torch/_tensor.py:775: UserWarning: non-inplace resize is deprecated\n",
            "  warnings.warn(\"non-inplace resize is deprecated\")\n",
            " 32%|███▏      | 100/309 [00:44<01:26,  2.41it/s]"
          ]
        },
        {
          "output_type": "stream",
          "name": "stdout",
          "text": [
            "Epoch [1/35], Batch Step [100/309]%\n"
          ]
        },
        {
          "output_type": "stream",
          "name": "stderr",
          "text": [
            " 65%|██████▍   | 200/309 [01:26<00:45,  2.39it/s]"
          ]
        },
        {
          "output_type": "stream",
          "name": "stdout",
          "text": [
            "Epoch [1/35], Batch Step [200/309]%\n"
          ]
        },
        {
          "output_type": "stream",
          "name": "stderr",
          "text": [
            " 97%|█████████▋| 300/309 [02:07<00:03,  2.43it/s]"
          ]
        },
        {
          "output_type": "stream",
          "name": "stdout",
          "text": [
            "Epoch [1/35], Batch Step [300/309]%\n"
          ]
        },
        {
          "output_type": "stream",
          "name": "stderr",
          "text": [
            "100%|██████████| 309/309 [02:11<00:00,  2.35it/s]\n"
          ]
        },
        {
          "output_type": "stream",
          "name": "stdout",
          "text": [
            "Epoch: 1, Training Loss: 0.676\n",
            "Validation Loss: 0.591, Validation Accuracy: 70.35%\n",
            "Epoch Time:  138.17325401306152\n",
            "Model saved at epoch 0\n",
            "----------\n",
            "Epoch 2/35\n"
          ]
        },
        {
          "output_type": "stream",
          "name": "stderr",
          "text": [
            " 32%|███▏      | 100/309 [00:40<01:25,  2.46it/s]"
          ]
        },
        {
          "output_type": "stream",
          "name": "stdout",
          "text": [
            "Epoch [2/35], Batch Step [100/309]%\n"
          ]
        },
        {
          "output_type": "stream",
          "name": "stderr",
          "text": [
            " 65%|██████▍   | 200/309 [01:21<00:44,  2.45it/s]"
          ]
        },
        {
          "output_type": "stream",
          "name": "stdout",
          "text": [
            "Epoch [2/35], Batch Step [200/309]%\n"
          ]
        },
        {
          "output_type": "stream",
          "name": "stderr",
          "text": [
            " 97%|█████████▋| 300/309 [02:02<00:03,  2.44it/s]"
          ]
        },
        {
          "output_type": "stream",
          "name": "stdout",
          "text": [
            "Epoch [2/35], Batch Step [300/309]%\n"
          ]
        },
        {
          "output_type": "stream",
          "name": "stderr",
          "text": [
            "100%|██████████| 309/309 [02:05<00:00,  2.46it/s]\n"
          ]
        },
        {
          "output_type": "stream",
          "name": "stdout",
          "text": [
            "Epoch: 2, Training Loss: 0.376\n",
            "Validation Loss: 0.363, Validation Accuracy: 95.10%\n",
            "Epoch Time:  132.5730333328247\n",
            "Model saved at epoch 1\n",
            "----------\n",
            "Epoch 3/35\n"
          ]
        },
        {
          "output_type": "stream",
          "name": "stderr",
          "text": [
            " 32%|███▏      | 100/309 [00:40<01:24,  2.47it/s]"
          ]
        },
        {
          "output_type": "stream",
          "name": "stdout",
          "text": [
            "Epoch [3/35], Batch Step [100/309]%\n"
          ]
        },
        {
          "output_type": "stream",
          "name": "stderr",
          "text": [
            " 65%|██████▍   | 200/309 [01:21<00:44,  2.47it/s]"
          ]
        },
        {
          "output_type": "stream",
          "name": "stdout",
          "text": [
            "Epoch [3/35], Batch Step [200/309]%\n"
          ]
        },
        {
          "output_type": "stream",
          "name": "stderr",
          "text": [
            " 97%|█████████▋| 300/309 [02:02<00:03,  2.47it/s]"
          ]
        },
        {
          "output_type": "stream",
          "name": "stdout",
          "text": [
            "Epoch [3/35], Batch Step [300/309]%\n"
          ]
        },
        {
          "output_type": "stream",
          "name": "stderr",
          "text": [
            "100%|██████████| 309/309 [02:05<00:00,  2.45it/s]\n"
          ]
        },
        {
          "output_type": "stream",
          "name": "stdout",
          "text": [
            "Epoch: 3, Training Loss: 0.333\n",
            "Validation Loss: 0.361, Validation Accuracy: 95.23%\n",
            "Epoch Time:  132.65478086471558\n",
            "Model saved at epoch 2\n",
            "----------\n",
            "Epoch 4/35\n"
          ]
        },
        {
          "output_type": "stream",
          "name": "stderr",
          "text": [
            " 32%|███▏      | 100/309 [00:40<01:24,  2.46it/s]"
          ]
        },
        {
          "output_type": "stream",
          "name": "stdout",
          "text": [
            "Epoch [4/35], Batch Step [100/309]%\n"
          ]
        },
        {
          "output_type": "stream",
          "name": "stderr",
          "text": [
            " 65%|██████▍   | 200/309 [01:21<00:44,  2.45it/s]"
          ]
        },
        {
          "output_type": "stream",
          "name": "stdout",
          "text": [
            "Epoch [4/35], Batch Step [200/309]%\n"
          ]
        },
        {
          "output_type": "stream",
          "name": "stderr",
          "text": [
            " 97%|█████████▋| 300/309 [02:01<00:03,  2.49it/s]"
          ]
        },
        {
          "output_type": "stream",
          "name": "stdout",
          "text": [
            "Epoch [4/35], Batch Step [300/309]%\n"
          ]
        },
        {
          "output_type": "stream",
          "name": "stderr",
          "text": [
            "100%|██████████| 309/309 [02:05<00:00,  2.46it/s]\n"
          ]
        },
        {
          "output_type": "stream",
          "name": "stdout",
          "text": [
            "Epoch: 4, Training Loss: 0.332\n",
            "Validation Loss: 0.362, Validation Accuracy: 95.14%\n",
            "Epoch Time:  132.21710968017578\n",
            "----------\n",
            "Epoch 5/35\n"
          ]
        },
        {
          "output_type": "stream",
          "name": "stderr",
          "text": [
            " 32%|███▏      | 100/309 [00:40<01:24,  2.47it/s]"
          ]
        },
        {
          "output_type": "stream",
          "name": "stdout",
          "text": [
            "Epoch [5/35], Batch Step [100/309]%\n"
          ]
        },
        {
          "output_type": "stream",
          "name": "stderr",
          "text": [
            " 65%|██████▍   | 200/309 [01:21<00:44,  2.45it/s]"
          ]
        },
        {
          "output_type": "stream",
          "name": "stdout",
          "text": [
            "Epoch [5/35], Batch Step [200/309]%\n"
          ]
        },
        {
          "output_type": "stream",
          "name": "stderr",
          "text": [
            " 97%|█████████▋| 300/309 [02:01<00:03,  2.47it/s]"
          ]
        },
        {
          "output_type": "stream",
          "name": "stdout",
          "text": [
            "Epoch [5/35], Batch Step [300/309]%\n"
          ]
        },
        {
          "output_type": "stream",
          "name": "stderr",
          "text": [
            "100%|██████████| 309/309 [02:05<00:00,  2.46it/s]\n"
          ]
        },
        {
          "output_type": "stream",
          "name": "stdout",
          "text": [
            "Epoch: 5, Training Loss: 0.332\n",
            "Validation Loss: 0.363, Validation Accuracy: 95.06%\n",
            "Epoch Time:  132.17684674263\n",
            "----------\n",
            "Epoch 6/35\n"
          ]
        },
        {
          "output_type": "stream",
          "name": "stderr",
          "text": [
            " 32%|███▏      | 100/309 [00:40<01:24,  2.47it/s]"
          ]
        },
        {
          "output_type": "stream",
          "name": "stdout",
          "text": [
            "Epoch [6/35], Batch Step [100/309]%\n"
          ]
        },
        {
          "output_type": "stream",
          "name": "stderr",
          "text": [
            " 65%|██████▍   | 200/309 [01:21<00:44,  2.45it/s]"
          ]
        },
        {
          "output_type": "stream",
          "name": "stdout",
          "text": [
            "Epoch [6/35], Batch Step [200/309]%\n"
          ]
        },
        {
          "output_type": "stream",
          "name": "stderr",
          "text": [
            " 97%|█████████▋| 300/309 [02:01<00:03,  2.47it/s]"
          ]
        },
        {
          "output_type": "stream",
          "name": "stdout",
          "text": [
            "Epoch [6/35], Batch Step [300/309]%\n"
          ]
        },
        {
          "output_type": "stream",
          "name": "stderr",
          "text": [
            "100%|██████████| 309/309 [02:05<00:00,  2.46it/s]\n"
          ]
        },
        {
          "output_type": "stream",
          "name": "stdout",
          "text": [
            "Epoch: 6, Training Loss: 0.332\n",
            "Validation Loss: 0.361, Validation Accuracy: 95.19%\n",
            "Epoch Time:  132.49119997024536\n",
            "Early stopping at epoch 5\n",
            "Training:  821.7834651470184\n",
            "TRAINING DONE\n"
          ]
        }
      ],
      "source": [
        "# training loop\n",
        "num_epochs = 35\n",
        "starttrain = time.time()\n",
        "min_val_loss = 123123123\n",
        "patience = 3\n",
        "# set up the training loop\n",
        "for epoch in range(num_epochs):\n",
        "\n",
        "    print('-'*10)\n",
        "    print('Epoch {}/{}'.format(epoch+1, num_epochs))\n",
        "    startepoch = time.time()\n",
        "    epoch_loss = 0.0\n",
        "    model.train()\n",
        "\n",
        "\n",
        "    for i, data_dict in enumerate(tqdm(dataloader_train)):\n",
        "        # retrieve data\n",
        "        labels = data_dict[\"label\"]\n",
        "        texts = data_dict[\"texts\"]\n",
        "        attrs = data_dict[\"attrs\"]\n",
        "        visualbert_inputs = data_dict['visualbert_inputs'].to(device)\n",
        "\n",
        "        labels = Variable(labels.to(device))\n",
        "        texts = Variable(texts.to(device))\n",
        "        attrs = Variable(attrs.to(device))\n",
        "\n",
        "        y_pred = model(texts, attrs, visualbert_inputs)\n",
        "        # print(y_pred)\n",
        "        # print(y_pred.shape)\n",
        "        # print(labels)\n",
        "        # print(labels.shape)\n",
        "        # compute the loss\n",
        "\n",
        "        loss = criterion(y_pred, labels)\n",
        "\n",
        "\n",
        "        # backpropagate the gradients\n",
        "        model.zero_grad() # or model\n",
        "        loss.backward()\n",
        "        torch.nn.utils.clip_grad_norm_(model.parameters(), 1)\n",
        "        optimizer.step()\n",
        "\n",
        "        _, predicted = torch.max(y_pred.data, 1)\n",
        "        epoch_loss += loss.item()\n",
        "\n",
        "        if (i + 1) % 100 == 0:\n",
        "            print('Epoch [{}/{}], Batch Step [{}/{}]%'\n",
        "                  .format(epoch+1, num_epochs, i+1, len(dataloader_train)))\n",
        "\n",
        "        del loss, y_pred, labels, texts, attrs, visualbert_inputs\n",
        "\n",
        "    epoch_loss /= len(dataloader_train)\n",
        "    print('Epoch: {}, Training Loss: {:.3f}'.format(epoch+1, epoch_loss))\n",
        "\n",
        "        ############## VALIDATION ##############\n",
        "    model.eval()\n",
        "\n",
        "    # Initialize variables for validation\n",
        "    val_loss = 0.0\n",
        "    correct = 0\n",
        "    total = 0\n",
        "\n",
        "\n",
        "    # Turn off gradient calculations\n",
        "    with torch.no_grad():\n",
        "        # Loop over validation data in batches\n",
        "        for i, data_dict in enumerate(dataloader_valid):\n",
        "            # retrieve data\n",
        "            labels = data_dict[\"label\"].to(device)\n",
        "            texts = data_dict[\"texts\"].to(device)\n",
        "            attrs = data_dict[\"attrs\"].to(device)\n",
        "            visualbert_inputs = data_dict['visualbert_inputs'].to(device)\n",
        "\n",
        "            y_pred = model(texts, attrs, visualbert_inputs)\n",
        "\n",
        "            # compute the loss\n",
        "            loss_model = criterion(y_pred, labels)\n",
        "            val_loss += loss_model\n",
        "\n",
        "            # Get predicted class\n",
        "            _, predicted = torch.max(y_pred.data, 1)\n",
        "\n",
        "            # Update total and correct counts\n",
        "            total += labels.size(0)\n",
        "            correct += (predicted == labels).sum().item()\n",
        "\n",
        "    # Calculate validation accuracy and loss\n",
        "    val_accuracy = 100. * correct / total\n",
        "    val_loss /= len(dataloader_valid)\n",
        "\n",
        "    print('Validation Loss: {:.3f}, Validation Accuracy: {:.2f}%'.format(val_loss, val_accuracy))\n",
        "    endepoch = time.time()\n",
        "    print(\"Epoch Time: \" , endepoch - startepoch)\n",
        "\n",
        "    if val_loss < min_val_loss:\n",
        "        min_val_loss = val_loss\n",
        "        no_improvement_count = 0\n",
        "        save_path = 'second_model.pth' #'first_model_epoch' + str(epoch) + '.pth'\n",
        "        save_checkpoint(save_path, model, optimizer, val_loss)\n",
        "        print(\"Model saved at epoch\", epoch)\n",
        "    else:\n",
        "        no_improvement_count += 1\n",
        "\n",
        "    if no_improvement_count >= patience:\n",
        "        print(\"Early stopping at epoch\", epoch)\n",
        "        break\n",
        "\n",
        "#data augmentation\n",
        "#metrics\n",
        "\n",
        "\n",
        "\n",
        "\n",
        "endtrain = time.time()\n",
        "print(\"Training: \" , endtrain - starttrain)\n",
        "print(\"TRAINING DONE\")"
      ]
    },
    {
      "cell_type": "code",
      "execution_count": null,
      "metadata": {
        "id": "Lm-5zRo8-Tjp"
      },
      "outputs": [],
      "source": [
        "model.eval()\n",
        "\n",
        "# Initialize variables for validation\n",
        "test_loss = 0.0\n",
        "correct = 0\n",
        "total = 0\n",
        "\n",
        "\n",
        "with torch.no_grad():\n",
        "    # Loop over validation data in batches\n",
        "    for i, data_dict in enumerate(dataloader_test):\n",
        "        # retrieve data\n",
        "        labels = data_dict[\"label\"].to(device)\n",
        "        texts = data_dict[\"texts\"].to(device)\n",
        "        attrs = data_dict[\"attrs\"].to(device)\n",
        "        visualbert_inputs = data_dict['visualbert_inputs'].to(device)\n",
        "\n",
        "        y_pred = model(texts, attrs, visualbert_inputs)\n",
        "        # compute the loss\n",
        "        # Get predicted class\n",
        "        _, predicted = torch.max(y_pred.data, 1)\n",
        "        loss_model = criterion(y_pred, labels)\n",
        "        test_loss += loss_model\n",
        "\n",
        "\n",
        "\n",
        "        # Update total and correct counts\n",
        "        total += labels.size(0)\n",
        "        correct += (predicted == labels).sum().item()\n",
        "\n",
        "# Calculate validation accuracy and loss\n",
        "test_accuracy = 100. * correct / total\n",
        "test_loss /= len(dataloader_test)"
      ]
    },
    {
      "cell_type": "code",
      "execution_count": null,
      "metadata": {
        "colab": {
          "base_uri": "https://localhost:8080/"
        },
        "id": "Qdts3flizyxV",
        "outputId": "c5b54882-8f40-4e5e-cf27-3844e6f728a0"
      },
      "outputs": [
        {
          "output_type": "stream",
          "name": "stdout",
          "text": [
            "93.49662162162163\n",
            "tensor(0.3783, device='cuda:0')\n"
          ]
        }
      ],
      "source": [
        "print(test_accuracy)\n",
        "print(test_loss)"
      ]
    },
    {
      "cell_type": "code",
      "execution_count": null,
      "metadata": {
        "colab": {
          "base_uri": "https://localhost:8080/"
        },
        "id": "khE5yRlFrpuM",
        "outputId": "8b592819-5a8f-4bd0-ca06-2487e7999e98"
      },
      "outputs": [
        {
          "name": "stdout",
          "output_type": "stream",
          "text": [
            "didn't save it\n"
          ]
        }
      ],
      "source": [
        "if test_accuracy > 82:\n",
        "    save_checkpoint(save_path, model, optimizer, min_val_loss)\n",
        "else:\n",
        "  print(\"didn't save it\")"
      ]
    },
    {
      "cell_type": "code",
      "execution_count": null,
      "metadata": {
        "id": "t8QNstoz-Os0"
      },
      "outputs": [],
      "source": [
        "!cp /content/best_model.pth /content/gdrive/MyDrive/visbert_models"
      ]
    },
    {
      "cell_type": "markdown",
      "metadata": {
        "id": "je-xMnPL5xxa"
      },
      "source": [
        "# Explainability\n"
      ]
    },
    {
      "cell_type": "code",
      "execution_count": null,
      "metadata": {
        "id": "OZnkAFJExdfW"
      },
      "outputs": [],
      "source": [
        "def unsqueezer(inputs) -> dict:\n",
        "    \"\"\"A helper function that takes a dict consisting of VisualBERT parameter\n",
        "    inputs, unsqueezes and returns them back.\n",
        "    (for single data points to give them batch size dimensionality)\"\"\"\n",
        "    inputs_copy = inputs.copy()\n",
        "    keys = list(inputs_copy.keys())\n",
        "    for i in range(len(inputs_copy)):\n",
        "      #if keys[i] != \"visual_embed\":\n",
        "      inputs_copy[keys[i]] = torch.unsqueeze(inputs[keys[i]], 0)\n",
        "\n",
        "    return inputs_copy"
      ]
    },
    {
      "cell_type": "code",
      "execution_count": null,
      "metadata": {
        "colab": {
          "base_uri": "https://localhost:8080/"
        },
        "id": "ZqSTRLMyIN5j",
        "outputId": "2431136b-f4d1-431f-b58f-a063f4397809"
      },
      "outputs": [
        {
          "output_type": "stream",
          "name": "stdout",
          "text": [
            "Collecting lime\n",
            "  Downloading lime-0.2.0.1.tar.gz (275 kB)\n",
            "\u001b[?25l     \u001b[90m━━━━━━━━━━━━━━━━━━━━━━━━━━━━━━━━━━━━━━━━\u001b[0m \u001b[32m0.0/275.7 kB\u001b[0m \u001b[31m?\u001b[0m eta \u001b[36m-:--:--\u001b[0m\r\u001b[2K     \u001b[91m━━━━━━━━━━\u001b[0m\u001b[90m╺\u001b[0m\u001b[90m━━━━━━━━━━━━━━━━━━━━━━━━━━━━━\u001b[0m \u001b[32m71.7/275.7 kB\u001b[0m \u001b[31m2.1 MB/s\u001b[0m eta \u001b[36m0:00:01\u001b[0m\r\u001b[2K     \u001b[90m━━━━━━━━━━━━━━━━━━━━━━━━━━━━━━━━━━━━━━━\u001b[0m \u001b[32m275.7/275.7 kB\u001b[0m \u001b[31m4.6 MB/s\u001b[0m eta \u001b[36m0:00:00\u001b[0m\n",
            "\u001b[?25h  Preparing metadata (setup.py) ... \u001b[?25l\u001b[?25hdone\n",
            "Requirement already satisfied: matplotlib in /usr/local/lib/python3.10/dist-packages (from lime) (3.7.1)\n",
            "Requirement already satisfied: numpy in /usr/local/lib/python3.10/dist-packages (from lime) (1.23.5)\n",
            "Requirement already satisfied: scipy in /usr/local/lib/python3.10/dist-packages (from lime) (1.10.1)\n",
            "Requirement already satisfied: tqdm in /usr/local/lib/python3.10/dist-packages (from lime) (4.66.1)\n",
            "Requirement already satisfied: scikit-learn>=0.18 in /usr/local/lib/python3.10/dist-packages (from lime) (1.2.2)\n",
            "Requirement already satisfied: scikit-image>=0.12 in /usr/local/lib/python3.10/dist-packages (from lime) (0.19.3)\n",
            "Requirement already satisfied: networkx>=2.2 in /usr/local/lib/python3.10/dist-packages (from scikit-image>=0.12->lime) (3.1)\n",
            "Requirement already satisfied: pillow!=7.1.0,!=7.1.1,!=8.3.0,>=6.1.0 in /usr/local/lib/python3.10/dist-packages (from scikit-image>=0.12->lime) (9.4.0)\n",
            "Requirement already satisfied: imageio>=2.4.1 in /usr/local/lib/python3.10/dist-packages (from scikit-image>=0.12->lime) (2.31.3)\n",
            "Requirement already satisfied: tifffile>=2019.7.26 in /usr/local/lib/python3.10/dist-packages (from scikit-image>=0.12->lime) (2023.8.30)\n",
            "Requirement already satisfied: PyWavelets>=1.1.1 in /usr/local/lib/python3.10/dist-packages (from scikit-image>=0.12->lime) (1.4.1)\n",
            "Requirement already satisfied: packaging>=20.0 in /usr/local/lib/python3.10/dist-packages (from scikit-image>=0.12->lime) (23.1)\n",
            "Requirement already satisfied: joblib>=1.1.1 in /usr/local/lib/python3.10/dist-packages (from scikit-learn>=0.18->lime) (1.3.2)\n",
            "Requirement already satisfied: threadpoolctl>=2.0.0 in /usr/local/lib/python3.10/dist-packages (from scikit-learn>=0.18->lime) (3.2.0)\n",
            "Requirement already satisfied: contourpy>=1.0.1 in /usr/local/lib/python3.10/dist-packages (from matplotlib->lime) (1.1.0)\n",
            "Requirement already satisfied: cycler>=0.10 in /usr/local/lib/python3.10/dist-packages (from matplotlib->lime) (0.11.0)\n",
            "Requirement already satisfied: fonttools>=4.22.0 in /usr/local/lib/python3.10/dist-packages (from matplotlib->lime) (4.42.1)\n",
            "Requirement already satisfied: kiwisolver>=1.0.1 in /usr/local/lib/python3.10/dist-packages (from matplotlib->lime) (1.4.5)\n",
            "Requirement already satisfied: pyparsing>=2.3.1 in /usr/local/lib/python3.10/dist-packages (from matplotlib->lime) (3.1.1)\n",
            "Requirement already satisfied: python-dateutil>=2.7 in /usr/local/lib/python3.10/dist-packages (from matplotlib->lime) (2.8.2)\n",
            "Requirement already satisfied: six>=1.5 in /usr/local/lib/python3.10/dist-packages (from python-dateutil>=2.7->matplotlib->lime) (1.16.0)\n",
            "Building wheels for collected packages: lime\n",
            "  Building wheel for lime (setup.py) ... \u001b[?25l\u001b[?25hdone\n",
            "  Created wheel for lime: filename=lime-0.2.0.1-py3-none-any.whl size=283834 sha256=aeb33352f408df4b1d8651a1e6a59b1b6b2ec691334a3956de4559639ba10f5c\n",
            "  Stored in directory: /root/.cache/pip/wheels/fd/a2/af/9ac0a1a85a27f314a06b39e1f492bee1547d52549a4606ed89\n",
            "Successfully built lime\n",
            "Installing collected packages: lime\n",
            "Successfully installed lime-0.2.0.1\n"
          ]
        }
      ],
      "source": [
        "!pip install lime"
      ]
    },
    {
      "cell_type": "code",
      "execution_count": null,
      "metadata": {
        "id": "QFxBWfZX0l5E"
      },
      "outputs": [],
      "source": [
        "from lime.lime_image import LimeImageExplainer\n",
        "from lime.lime_text import LimeTextExplainer\n",
        "\n",
        "def explain_image_instance(\n",
        "        predictor_fn,\n",
        "        input_arr,\n",
        "        init_params,\n",
        "        explanation_params,\n",
        "    ):\n",
        "        \"\"\"Explain image instance.\n",
        "\n",
        "        Args:\n",
        "            predictor_fn: Predictor function which takes in a batch of inputs (not single input).\n",
        "            input_arr: Input image as an array without a batch dimension.\n",
        "            init_params: Initialization parameters for LIME Explainer.\n",
        "            explanation_params: Parameters for LIME Explainer.\n",
        "\n",
        "        Returns:\n",
        "            lime.lime_image.ImageExplanation:\n",
        "                Explanation of the image with given arguments\n",
        "        \"\"\"\n",
        "\n",
        "        # Create LIME explainer\n",
        "        lime_explainer = LimeImageExplainer(**init_params)\n",
        "\n",
        "        # Run LIME explainer\n",
        "        exp = lime_explainer.explain_instance(\n",
        "            input_arr, predictor_fn, **explanation_params\n",
        "        )\n",
        "\n",
        "        return exp\n",
        "\n",
        "def explain_text_instance(\n",
        "        predictor_fn,\n",
        "        text,\n",
        "        init_params,\n",
        "        explanation_params,\n",
        "    ):\n",
        "        \"\"\"Explain text instance.\n",
        "\n",
        "        Args:\n",
        "            predictor_fn: Predictor function which takes in a batch of inputs (not single input).\n",
        "            text: Input text as a string.\n",
        "            init_params: Initialization parameters for LIME Explainer.\n",
        "            explanation_params: Parameters for LIME Explainer.\n",
        "\n",
        "        Returns:\n",
        "            lime.lime_text.TextExplanation:\n",
        "                Explanation of the text with given arguments\n",
        "        \"\"\"\n",
        "\n",
        "        # Create LIME explainer\n",
        "        lime_explainer = LimeTextExplainer(**init_params)\n",
        "\n",
        "        # Run LIME explainer\n",
        "        exp = lime_explainer.explain_instance(text, predictor_fn, **explanation_params)\n",
        "\n",
        "        return exp"
      ]
    },
    {
      "cell_type": "code",
      "source": [
        "dic = next(iter(dataloader_train))"
      ],
      "metadata": {
        "id": "DshTb_YYOwlB"
      },
      "execution_count": null,
      "outputs": []
    },
    {
      "cell_type": "code",
      "execution_count": null,
      "metadata": {
        "colab": {
          "base_uri": "https://localhost:8080/"
        },
        "id": "9KPcCcElBkKK",
        "outputId": "45872548-6d42-402c-8bd3-1ae1152fe0e2"
      },
      "outputs": [
        {
          "output_type": "stream",
          "name": "stdout",
          "text": [
            "torch.Size([64, 180])\n",
            "torch.Size([64, 180])\n",
            "torch.Size([64, 180])\n",
            "torch.Size([64, 10, 2048])\n",
            "torch.Size([64, 10])\n",
            "torch.Size([64, 10])\n"
          ]
        }
      ],
      "source": [
        "for i in dic['visualbert_inputs'].values():\n",
        "  #if len(i.shape) == 3 and i.shape[1] == 1:\n",
        "    print(i.shape)\n"
      ]
    },
    {
      "cell_type": "code",
      "execution_count": null,
      "metadata": {
        "colab": {
          "base_uri": "https://localhost:8080/"
        },
        "id": "DAkmRR1y58Dq",
        "outputId": "25cae323-fea4-4a88-eeda-b5e0bb1c0dac"
      },
      "outputs": [
        {
          "output_type": "stream",
          "name": "stdout",
          "text": [
            "torch.Size([1, 180])\n",
            "torch.Size([1, 180])\n",
            "torch.Size([1, 180])\n",
            "torch.Size([1, 10, 2048])\n",
            "torch.Size([1, 10])\n",
            "torch.Size([1, 10])\n",
            "------------------------------\n",
            "torch.Size([180])\n",
            "torch.Size([15])\n",
            "torch.Size([1, 180])\n",
            "torch.Size([1, 15])\n"
          ]
        }
      ],
      "source": [
        "idx = 125 #a random idx\n",
        "\n",
        "# necessary info of the data point\n",
        "ex_data = processed_valid[idx] # example data point dict\n",
        "#print(ex_data)\n",
        "im_idx = ex_data['idx'] # image index\n",
        "cor_label = ex_data['label'] #correct label\n",
        "texts = ex_data[\"texts\"] # tokenized texts\n",
        "attrs = ex_data[\"attrs\"] # tokenized image attrs\n",
        "visualbert_inputs = ex_data['visualbert_inputs'] # visualbert inputs\n",
        "\n",
        "\n",
        "\n",
        "for i in unsqueezer(visualbert_inputs).values():\n",
        "  #if len(i.shape) == 3 and i.shape[1] == 1:\n",
        "    print(i.shape)\n",
        "\n",
        "print(\"-\" * 30)\n",
        "print(texts.shape)\n",
        "print(attrs.shape)\n",
        "print(torch.unsqueeze(texts, 0).shape)\n",
        "print(torch.unsqueeze(attrs, 0).shape)"
      ]
    },
    {
      "cell_type": "code",
      "source": [
        "print(unsqueezer(visualbert_inputs)[\"input_ids\"].shape)"
      ],
      "metadata": {
        "colab": {
          "base_uri": "https://localhost:8080/"
        },
        "id": "V2JQGP7ZdeJP",
        "outputId": "3107487a-7b8c-47b9-ab4b-4b6e39583e7b"
      },
      "execution_count": null,
      "outputs": [
        {
          "output_type": "stream",
          "name": "stdout",
          "text": [
            "torch.Size([1, 180])\n"
          ]
        }
      ]
    },
    {
      "cell_type": "code",
      "execution_count": null,
      "metadata": {
        "colab": {
          "base_uri": "https://localhost:8080/"
        },
        "id": "PpSImJVdkksm",
        "outputId": "d54fd096-256e-4169-f008-7c57ed40aeb0"
      },
      "outputs": [
        {
          "output_type": "stream",
          "name": "stderr",
          "text": [
            "/usr/local/lib/python3.10/dist-packages/torch/_tensor.py:775: UserWarning: non-inplace resize is deprecated\n",
            "  warnings.warn(\"non-inplace resize is deprecated\")\n"
          ]
        }
      ],
      "source": [
        "model = model.to('cpu')\n",
        "with torch.no_grad():\n",
        "  y_pred = model(torch.unsqueeze(texts, 0), torch.unsqueeze(attrs, 0), unsqueezer(visualbert_inputs), batch_size=1)\n",
        "  _, predicted = torch.max(y_pred.data, 1)"
      ]
    },
    {
      "cell_type": "code",
      "execution_count": null,
      "metadata": {
        "colab": {
          "base_uri": "https://localhost:8080/"
        },
        "id": "5t8oyJ6WUPXV",
        "outputId": "e1b3b693-ce0d-4f4e-c28c-20b8537f1b8a"
      },
      "outputs": [
        {
          "output_type": "stream",
          "name": "stdout",
          "text": [
            "tensor([[5.5511e-05, 9.9996e-01]])\n",
            "tensor([1])\n"
          ]
        }
      ],
      "source": [
        "print(y_pred)\n",
        "print(predicted)\n"
      ]
    },
    {
      "cell_type": "code",
      "execution_count": null,
      "metadata": {
        "id": "O2GMVMVYAK-l"
      },
      "outputs": [],
      "source": [
        "img = retrieve_image(im_idx)\n",
        "im2 = retrieve_image(im_idx, False)\n",
        "im = cv2.cvtColor(np.asarray(img), cv2.COLOR_BGRA2BGR)\n",
        "\n",
        "print(type(im))\n",
        "print(im.shape)\n",
        "print(im)\n",
        "#plt.imshow(im)\n",
        "print(im_data[im_idx])\n",
        "print(valid_text[0:10])\n",
        "print(list(visualbert_inputs.keys()))"
      ]
    },
    {
      "cell_type": "code",
      "execution_count": null,
      "metadata": {
        "colab": {
          "base_uri": "https://localhost:8080/",
          "height": 489
        },
        "id": "QfEZxSlbqHNP",
        "outputId": "4e8d9dac-9d27-428a-f11a-0f6926d16012"
      },
      "outputs": [
        {
          "name": "stdout",
          "output_type": "stream",
          "text": [
            "true label 1\n",
            "predicted 1\n",
            "shame my city is so ugly . # chicago  # lovethiscity\n"
          ]
        },
        {
          "data": {
            "image/png": "[encoded data removed]",
            "text/plain": [
              "<Figure size 640x480 with 1 Axes>"
            ]
          },
          "metadata": {},
          "output_type": "display_data"
        }
      ],
      "source": [
        "plt.imshow(im)\n",
        "bboxes = im_data[im_idx]['bbox']\n",
        "for i in range(len(bboxes)):\n",
        "  bbox = bboxes[i]\n",
        "  cls = im_data[im_idx]['objs'][i]\n",
        "  conf = im_data[im_idx]['confs'][i]\n",
        "\n",
        "  plt.gca().add_patch(\n",
        "      plt.Rectangle((bbox[0], bbox[1]),\n",
        "                    bbox[2] - bbox[0],\n",
        "                    bbox[3] - bbox[1], fill=False,\n",
        "                    edgecolor='red', linewidth=2, alpha=0.5)\n",
        "          )\n",
        "  plt.gca().text(bbox[0], bbox[1] - 2,\n",
        "              '%s %.2f' % (cls, conf),\n",
        "              bbox=dict(facecolor='blue', alpha=0.5),\n",
        "              fontsize=10, color='white')\n",
        "\n",
        "print(\"true label\", cor_label)\n",
        "print(\"predicted\", predicted.item())\n",
        "print(valid_text[idx])"
      ]
    },
    {
      "cell_type": "markdown",
      "metadata": {
        "id": "8iWI7sDBScnw"
      },
      "source": [
        "## LIME Predictions\n"
      ]
    },
    {
      "cell_type": "code",
      "source": [
        "import random\n",
        "n_of_text_samples = 1000\n",
        "idxx_list = []\n",
        "\n",
        "while len(idxx_list) < n_of_text_samples:\n",
        "  rand = random.randint(0, 2000)\n",
        "\n",
        "  if rand not in idxx_list:\n",
        "    idxx_list.append(rand)\n",
        "\n"
      ],
      "metadata": {
        "id": "QctWV0Rr3S2q"
      },
      "execution_count": null,
      "outputs": []
    },
    {
      "cell_type": "code",
      "execution_count": null,
      "metadata": {
        "id": "Ff-9nvIUcLRZ"
      },
      "outputs": [],
      "source": [
        "def retrieve_image(idx, pillow=True): # with long index\n",
        "    img_dir = 'data/dataset_image/'\n",
        "    try:\n",
        "        img_path = os.path.join(\n",
        "            img_dir,\n",
        "            \"{}.jpg\".format(str(idx))\n",
        "        )\n",
        "    except Exception as e:\n",
        "        print(e)\n",
        "\n",
        "    if pillow:\n",
        "        img = Image.open(img_path)\n",
        "    else:\n",
        "        img = cv2.imread(img_path)\n",
        "    return img"
      ]
    },
    {
      "cell_type": "code",
      "source": [
        "def get_merged_attrs(attr_list):\n",
        "      #create a list that stores merged versions of strings\n",
        "    return str(' '.join(attr_list))\n",
        "\n",
        "def print_visbert(inp):\n",
        "  for i in inp.values():\n",
        "    print(i.shape)"
      ],
      "metadata": {
        "id": "CZl_LR2tKn-t"
      },
      "execution_count": null,
      "outputs": []
    },
    {
      "cell_type": "code",
      "source": [
        "idxx_list = sorted(idxx_list)\n",
        "print(idxx_list)\n",
        "print(len(idxx_list))\n",
        "ex_im_idxs = [valid_id[i] for i in idxx_list]\n",
        "print(ex_im_idxs)\n",
        "print(len(ex_im_idxs))\n",
        "\n",
        "ex_texts = [re.sub(r'(\\s)emoji\\w+', '', valid_text[i]) for i in idxx_list]\n",
        "print(ex_texts)\n",
        "ex_attrs = [get_merged_attrs(image_top[int(i)]) for i in ex_im_idxs]\n",
        "print(ex_attrs)"
      ],
      "metadata": {
        "colab": {
          "base_uri": "https://localhost:8080/"
        },
        "id": "wNID755E7PDQ",
        "outputId": "d147c14b-1bbb-483f-ba1d-17ba844c37ac"
      },
      "execution_count": null,
      "outputs": [
        {
          "output_type": "stream",
          "name": "stdout",
          "text": [
            "[39, 66, 81, 105, 108, 154, 161, 168, 246, 348, 360, 381, 387, 407, 487, 493, 495, 516, 537, 559, 573, 590, 595, 610, 629, 649, 654, 663, 701, 708, 709, 714, 715, 723, 728, 738, 744, 750, 795, 798, 814, 817, 821, 829, 834, 840, 857, 883, 913, 935, 949, 978, 996, 1019, 1053, 1064, 1104, 1123, 1146, 1150, 1192, 1205, 1211, 1229, 1275, 1287, 1308, 1356, 1409, 1441, 1447, 1460, 1479, 1484, 1517, 1579, 1620, 1629, 1640, 1649, 1655, 1699, 1703, 1727, 1732, 1737, 1753, 1786, 1794, 1801, 1805, 1832, 1833, 1853, 1870, 1893, 1945, 1948, 1981, 1989]\n",
            "100\n",
            "['733683602077048833', '712073195243737088', '719364179161980928', '709448351201230849', '907984892876742656', '687998090146496512', '933476808024043521', '852506690503274496', '712054527537455105', '883548554303754240', '822506680285921280', '823135852507308033', '923596397244448769', '913817050786566144', '907838901498335233', '923421319961513985', '731539431501500416', '894485890474663938', '903462968175689728', '830772099606208516', '895245047628681217', '828236271931699200', '861499605522960385', '890635522657234944', '893567578907561984', '864244475018784768', '854318610415800320', '849226111418593280', '722563320666959873', '933232497919430656', '820692046633697280', '820389563730448384', '910111711348236289', '717491364720549888', '846855718481281024', '928621097356054528', '918222999005806592', '702719592406216704', '925549702086578176', '722905541232594944', '690383035896823809', '716727615848116224', '695392140227059712', '709726890949476352', '726492675432697857', '908779777426956288', '712314666412810240', '874295305398878208', '930918866783318016', '822586646126333952', '821506741460488196', '819687832872742915', '822591992160985093', '818238441783783426', '820050245476380672', '821505630011883524', '820416704647938052', '818242377580036100', '820418989734133760', '822224488695623680', '819330441375285248', '821505544125091845', '821506396042723328', '822225732894081024', '817519629606285314', '818606962082533376', '823312587609632770', '819331742045638660', '818242383297048577', '819328779344613376', '820054851635834880', '819323457011875840', '816795971577323521', '822955482876887040', '819331197293756421', '822953278501699584', '816795211359653888', '820057795630399489', '823317233065754624', '821869779241738240', '819689165415559168', '821505493524971527', '823311905523638273', '816795418587709441', '820418413386268672', '817883437310889984', '818607213879107584', '822226535142850565', '823315731001606144', '820782197783150592', '822590168934809601', '818240558804111361', '818240514365472768', '817519802449330176', '819695000707600385', '820054092550578176', '822952201039581184', '823309330015469569', '822951864199249924', '819695217368514564']\n",
            "100\n",
            "['# bestpartofthe90swas when the clintons filled the white house with wall street allies . ', '<user> <user> nice to see <user> focusing on much needed and requested features , like unicorns .  # uxfail', 'this guy just trolled dominos xd :p # lol  # lolsarcasm # lolsarcasms  # fun # funny # funnypics', 'i am sure these times were far better  emoji_1109 emoji_117', 'thanks for the assistance , <user> !  # you_were_no_help_at_all', '<user> challenging preconceived notions about modern nation-state with their graduate employment survey ', \"i 've fallen to the memeristmatist level . # cartoons # memes # meme # funny # art # lol \", \"i mean , unless you 're super into limp , moist , overcooked food . # travelfoodie # traveltips # haiku # lol # meme # funny \", \"when people talk about their relationship i 'm like ...  # spiderman # spidermanmemes emoji_19\", 'greatest invention ever . ', 'class and decorum of the left .... # thelackof # sigh ', 'yep , god bless girls .. # fact # lol  # didyouknow # tweet # women # comedy  # rofl # girls', 'hitting sure has changed in <num> years . ', 'story of boys nowadays pic <num> : before falling in love pic <num> : after falling in love # billasharabi # sunilgrover  emoji_193 emoji_517 emoji_297 emoji_2338', 'rt adorablepupp : three shades but all beautiful  # funny', 'hostel life # hostel # life # friends # family # birthdaywishes # justforkicks # laugh  # memories # goodtimes', 'cat is most helpful with productivity !  # amwriting', 'ha ... ha ... ha ! ! ! # brexit # youwantedout and must still pay a sh * t load of money to . # bestdecisionever  # eu # euro emoji_2803 emoji_4513 emoji_4515', \"hey <user> nice effort  in helping # harvey flood victim . # fail # customerservice i 'm disappointed in half-assed effort . # shame\", \"you think i 'm a kindergarten kids that need off to bed by 2117h ?  emoji_75\", \"my birthday was recently and i didn 't get my car ! * sad * # shinnydanielle  # mitsubishi # autoservice\", \"you wouldn 't believe how often this happens to me !  # donuts # firstworldproblems # catsoftwitter # sundaylunch\", 'when you obey your elders # mondaymotivation  emoji_220 emoji_220', 'rt <user> : having fun with <user> # quoteoftheday  # artificialintelligence mt <user> emoji_15 emoji_15 emoji_15', \"lol ! ! i just rephrased highlighted line from <user> 's book and some are cursing me for pity life . \", 'everyone needs to realize this # fun # reality ', \"no one 's going to call me a quitter ! # cantstopwontstop # neverquit # haiku # meme # funny # lol # relationshipgoals \", 'this one is for you <user> <user> , i know how much you love peeps !  hahaha', 'only <user> would post the closing times for manitoba election polls in edt . thanks , toronto , for caring . ', '\" <user> : when you finally find that guy that is so good at everything .  \" lol !', 'best # obamabiden meme yet ! # harrypotter # obamalegacy # bidenmemes # literacy ', 'i truly do not understand how we survived this ice storm hellscape . # mdweather ', '# mumbairains  # itmovie you will float too of this rain continues emoji_15 emoji_1930 emoji_2139', '<user> first time this has happened . looks great in the middle of my driveway ', '<user> i # suggest you fix this # spam # junk # adverts # block # seemslegit ', \"go to <user> # devops talk they say , it 's going to be fun they say . full house . # devops is so popular on # devoxx # devoxx2017  emoji_5175\", 'da real ', 'gee , i know exactly what episode this is . thanks cox guide . # castle ', '<user> picked up this guy afterward ( thanks for the tip ); great stuff today ! ( p . s . please don ’ t predict my income ) # pca ', 'thanks <user> for providing me room service with <user> instead of your own homemade pizza ! ! ', 'as you can see my dog scout just loves having her picture taken . ', 'it cannot be helped ', 'back when selfie is among one of my obsessions & is essential in sustaining my life # flaskbackfriday ', 'pancoran , one of the biggest parking lot in jakarta . ', '<user> came out much better after cooking ...  # quality', 'if only equifax had a cute vulpine cartoon character like carfax . it would be harder to be so outraged at them , right ?  $ efx', \"let 's not overreact . all muslims are good except these 3 . no need to blame them all . \", \"good to see <user> 's cabinet is so representative of our society  the <user> look desperate clinging on emoji_2715\", 'congrats malcolm ... that took effort ! ', '. <user> right . low turnout . # idiot . # cnn / # bakari = # fakenews emoji_19 emoji_19', '\" i remember when i first arrived on this planet ... \" # meetthetrumps', 'good point', \"tonight 's <user> starting lineups . # wethenorth\", 'this is so beautiful', 'this is why i barely respond to dms .', 'amem britney', 'haha dude please stop or', '. <user> also in <user> like wow # goldenglobes emoji_787 emoji_787', 'tomorrow ! # chiefskingdom', 'robynlively : \" and congrats to these hot ladies for their win & destroying their performance ! work work workin \\' it ! ;) and to my bro ( ... ) \"', \"we 're beyond excited to present the baby borg trophy to <user> tonight at # anworldcongress !\", \"epic sunset tonight at coastal ... it 's great to be back # chantsup emoji_229 emoji_334\", '# loveflowers facts hippeastrum is greek for horseman ’ s star or knight ’ s star , as the flowers have a star-like shape . emoji_70', 'the purpose of facebook live is to watch a piss-drunk alex jones stand around and cry', \"in pulp fiction , every time vince goes to the bathroom , something bad happen ... the restaurant robbery , mia 's od , and butch kills him .\", 'anitta com eduardo bravin , via snapchat . emoji_238', 'just chillin', '<user> does one hell of a trump impression .', 'in a world full of trends , i want to remain a classic . emoji_412', 'it is ok to be afraid . it is ok to feel pain , or grief . literally the definition of courage is having these feelings and overcoming them .', \"a guy : i 'm tired of the overlining lip trend . i prefer when girls go more natural me , a person who certainly did not ask :\", 'anyone wanna hang out', 'when bae . . . i mean . . . bay . . . is there to support you from backstage . ( yesterday at korakuen hall ) # ddtpro emoji_1495 emoji_792 emoji_1498', \"yes i have a symbol-shaped guitar and stage . doesn 't everyone ? emoji_36\", 'gorgeous oklahoma sunset this evening ! # okwx # livingontulsatime <user>', '\" grammy nominated , multi-platinum selling recording artist demi lovato \" # lovatics # bestfanarmy # iheartawards', '\" focus on where you want to be , not where you were or not where you are . \" # riseup_ # befierce # gobeavs', \"on who this ain 't the president emoji_0 emoji_19\", 'thank you so much <user> for marching with us ! and ty for all your amazing work on behalf of ma ! # wickedawesome # bostonwomensmarch emoji_623', 'wanna meet february 2016 pet <user> ? swing by the penthouse booth now until 8p m to get an autograph ! # getthegirl # aee', 'happy birthday jana . emoji_426', '31 days ... emoji_562', 'warm ups ! !', 'why does buzzfeed always find my messiest tweets hejsksh this is an article about men wearing chokers', 'how many retweets for some real heroes ?', 'retweet if you mf cried ! !', 'still hoping and praying for a miracle before jan 20 , 2017 ! # trumpunfit # trumpleaks', '<user> look at papa . he dressed and did not want to take my brother . he said that loves lauren . <user>', \"one spot remains in super bowl li . let 's go !\", 'get you girls that can do it all emoji_46', \"anyone else capture the smug look of elation on hanson 's face after being told by ashby a terrorist attack had just occurred ?\", 'beyond blessed and honored to receive an invitation to the opening regionals # getopen emoji_1858 emoji_423 emoji_53', 'nutella filled donuts', 'waiting for you . # bear', \"4 more hours ... the wait is killing me ( but not as much as it 's killed mario ) # nintendoswitch # nintendoswitchpresentation\", \"the only kpop grp who got 2mv 's that suppassed 200million views in yt . vips good job emoji_1486 emoji_202 emoji_332 emoji_64\", \"my beautiful , smart , funny and amazing kid @ the miami women 's rally\", \"let 's go , <user> ! # onemore !\", 'breaking stereotypes tee . limited quantities !', 'app size limit increased to 4gb — huge step towards legitimizing tvos as a possible gaming platform , along with allowing gamepad-only games']\n",
            "['brushing face look eyes clean', 'blue stacked bright sign sailing', 'beneath bathroom picture mother lays', 'standing group tree large ocean', 'sky picture flying colors kite', 'scissors bathroom cut sink picture', 'scissors stacked photo commuter gray', 'control photograph picture shown screen', 'sign red swing baseball displayed', 'opened sheet white herd airplane', 'bathroom picture vintage bright showing', 'screen bathroom eyes vintage showing', 'player baseball holding running standing', 'standing woman man posing young', 'dog brown laying sitting large', 'photos picture people man photo', 'cat laptop desk papers cup', 'photos bag surfboard pictures book', 'showing picture skateboard bright screen', 'people bed keyboard reads picture', 'woman passenger man sitting car', 'carpet gray bird vintage bathroom', 'man photo picture woman pictures', 'sign directions reads city buildings', 'screen clocks showing bird bathroom', 'screen sign sale use tv', 'holding woman smiling outfit wearing', 'yellow black sitting pair scissors', 'posing picture office photo showing', 'vintage different picture display book', 'man wearing picture men event', 'trees standing grass forest horse', 'sitting painting sign monitor tiled', 'sitting park sidewalk street bench', 'woman pictures holding video posing', 'man cell cellphone phone messy', 'red man surfboard player wearing', 'pillows screen giving tv dark', 'cover clouds red center green', 'box peppers pizza pieces sitting', 'dog sweater man holding black', 'sign eyes black sunset cellphone', 'man smiles young shirt camera', 'night lights colorful city christmas', 'plate topped sitting table banana', 'bear brown white eyes wearing', 'people group riding man sitting', 'group people men table cake', 'man sign suit jacket posing', 'yard tracks area view group', 'man smiling wearing camera glasses', 'bathroom picture cellphone black eyes', 'sign picture posing photo ties', 'dress red posing woman dressed', 'ripe picture sky photo scissors', 'white laying bed cat black', 'woman umbrella holding motorcycle lady', 'dress posing prepared books woman', 'table team group display decorated', 'girls beautiful group smiling women', 'man sitting people business table', 'harbor near sitting tracks sky', 'red vase flowers pink inside', 'man glasses apple signs dark', 'sign man picture photo sitting', 'woman female women lady beautiful', 'water lake boat floating body', 'man wearing red jacket flag', 'woman sitting women wearing phone', 'bathroom picture eyes gray says', 'face mouth girl wearing man', 'laid bag doughnuts sitting filled', 'dock tied object man holding', 'purple man holding white player', 'sunset sun sky setting view', 'woman black holding wearing girl', 'woman holding posing standing photo', 'dark yellow table head sitting', 'city street crowd people large', 'woman person white sitting man', 'brick town bicycle sign building', 'night dark time traveling building', 'sitting room young man black', 'bathroom ripe picture pictures bright', 'group men standing fun guy', 'woman girl head black white', 'white colors sitting blue silver', 'holding posing woman young wearing', 'motorcycle motor track round vintage', 'sitting kids children young little', 'man sitting couple business wearing', 'people group grass men playing', 'chocolate glove brown doughnuts baked', 'drawn old picture hand white', 'phone sitting cell man red', 'photo red standing woman bedroom', 'crowd people group large baseball', 'woman flag people holding person', 'brick wall man wearing standing', 'picture bathroom bright showing sky']\n"
          ]
        }
      ]
    },
    {
      "cell_type": "markdown",
      "source": [
        "### LIME text explanations"
      ],
      "metadata": {
        "id": "pQ891DixmahJ"
      }
    },
    {
      "cell_type": "code",
      "source": [
        "coatt_attr = roberta_tokenizer.batch_encode_plus(\n",
        "    batch_text_or_text_pairs=ex_attrs,  # the text to be encoded\n",
        "    add_special_tokens=True,  # add [CLS] and [SEP]\n",
        "    max_length = 15,\n",
        "    padding='max_length',\n",
        "    return_attention_mask = True,  # return the attention mask\n",
        "    return_tensors = 'pt',  # return tensor\n",
        "  )\n",
        "\n",
        "vis_embeds = [im_data[i]['pooled_feat'][:10].cpu() for i in ex_im_idxs]\n",
        "ex_vis_embeds = torch.stack(vis_embeds)\n",
        "\n",
        "visual_token_type_ids = torch.ones(ex_vis_embeds.shape[:-1], dtype=torch.long)\n",
        "visual_attention_mask = torch.ones(ex_vis_embeds.shape[:-1], dtype=torch.float)\n",
        "\n",
        "model = model.to('cpu')"
      ],
      "metadata": {
        "id": "9sqsxbokkVSi"
      },
      "execution_count": null,
      "outputs": []
    },
    {
      "cell_type": "code",
      "execution_count": null,
      "metadata": {
        "id": "jlzq96TZ6k8I"
      },
      "outputs": [],
      "source": [
        "def text_predictor_fn(texts):\n",
        "\n",
        "    visbert_text = visualbert_tokenizer.batch_encode_plus(\n",
        "      batch_text_or_text_pairs=texts,  # the text to be encoded\n",
        "      add_special_tokens=True,  # add [CLS] and [SEP]\n",
        "      max_length = 180,\n",
        "      padding='max_length',\n",
        "      return_attention_mask = True,  # return the attention mask\n",
        "      return_tensors = 'pt',  # return tensor\n",
        "    )\n",
        "\n",
        "    coatt_text = roberta_tokenizer.batch_encode_plus(\n",
        "      batch_text_or_text_pairs=texts,  # the text to be encoded\n",
        "      add_special_tokens=True,  # add [CLS] and [SEP]\n",
        "      max_length = 180,\n",
        "      padding='max_length',\n",
        "      return_attention_mask = True,  # return the attention mask\n",
        "      return_tensors = 'pt',  # return tensor\n",
        "    )\n",
        "\n",
        "    visbert_inputs = visbert_text.copy()\n",
        "    visbert_inputs[\"visual_embeds\"] = ex_vis_embeds\n",
        "    visbert_inputs[\"visual_token_type_ids\"] = visual_token_type_ids\n",
        "    visbert_inputs[\"visual_attention_mask\"] = visual_attention_mask\n",
        "\n",
        "    # print(visbert_text)\n",
        "    # print(visbert_text['input_ids'].shape)\n",
        "    # print(coatt_text)\n",
        "    # print(coatt_text['input_ids'].shape)\n",
        "\n",
        "    # print(print_visbert(visbert_inputs))\n",
        "    with torch.no_grad():\n",
        "\n",
        "        y_pred = model(coatt_text[\"input_ids\"], coatt_attr['input_ids'],\n",
        "                       visbert_inputs, n_of_text_samples)\n",
        "    return y_pred\n",
        "\n",
        "#text_predictor_fn(ex_texts)"
      ]
    },
    {
      "cell_type": "code",
      "execution_count": null,
      "metadata": {
        "colab": {
          "base_uri": "https://localhost:8080/"
        },
        "id": "5hKMFAjTVjT0",
        "outputId": "88ebb8f1-617f-41de-f0f4-7de7f6aca94f"
      },
      "outputs": [
        {
          "output_type": "stream",
          "name": "stderr",
          "text": [
            "/usr/local/lib/python3.10/dist-packages/torch/_tensor.py:775: UserWarning: non-inplace resize is deprecated\n",
            "  warnings.warn(\"non-inplace resize is deprecated\")\n"
          ]
        }
      ],
      "source": [
        "rand_idx = 512\n",
        "text_to_explain = re.sub(r'(\\s)emoji\\w+', '', valid_text[rand_idx])\n",
        "corr_label = valid_labels[rand_idx]\n",
        "init_params = {}\n",
        "\n",
        "explanation_params = {\n",
        "    \"labels\": (corr_label,),\n",
        "    \"num_samples\": n_of_text_samples,\n",
        "}\n",
        "\n",
        "\n",
        "\n",
        "text_exp = explain_text_instance(text_predictor_fn, text_to_explain, init_params, explanation_params)"
      ]
    },
    {
      "cell_type": "code",
      "execution_count": null,
      "metadata": {
        "colab": {
          "base_uri": "https://localhost:8080/"
        },
        "id": "QwjCBcS9q5iH",
        "outputId": "7e25c495-db70-45fb-e502-bc05335a9d74"
      },
      "outputs": [
        {
          "output_type": "execute_result",
          "data": {
            "text/plain": [
              "{1: [(0, 3.4680693007304748e-06),\n",
              "  (6, -2.716251902578984e-06),\n",
              "  (5, -1.7453844386763523e-06),\n",
              "  (9, -1.7396866606422896e-06),\n",
              "  (7, -1.7196134735218213e-06),\n",
              "  (3, 1.692725950407321e-06),\n",
              "  (1, -1.4735707608913103e-06),\n",
              "  (4, -1.1404245937827727e-06),\n",
              "  (8, 2.702272695272813e-07),\n",
              "  (2, 1.2737757633766658e-07)]}"
            ]
          },
          "metadata": {},
          "execution_count": 85
        }
      ],
      "source": [
        "text_exp.local_exp"
      ]
    },
    {
      "cell_type": "code",
      "execution_count": null,
      "metadata": {
        "colab": {
          "base_uri": "https://localhost:8080/",
          "height": 470
        },
        "id": "cV8Fjs2Up9JW",
        "outputId": "dd821c75-2550-41b5-c20d-594396cb475b"
      },
      "outputs": [
        {
          "output_type": "display_data",
          "data": {
            "text/plain": [
              "<Figure size 640x480 with 1 Axes>"
            ],
            "image/png": "[encoded data removed]"
          },
          "metadata": {}
        }
      ],
      "source": [
        "text_bar = text_exp.as_pyplot_figure(label=corr_label)"
      ]
    },
    {
      "cell_type": "markdown",
      "source": [
        "### LIME image explanations"
      ],
      "metadata": {
        "id": "RAmPQ1CtjEsW"
      }
    },
    {
      "cell_type": "code",
      "execution_count": null,
      "metadata": {
        "id": "llxsvFwRxzyJ"
      },
      "outputs": [],
      "source": [
        "!mkdir data/tmp_img"
      ]
    },
    {
      "cell_type": "code",
      "source": [
        "n_of_im_samples = 5"
      ],
      "metadata": {
        "id": "vptxsYKYRRAt"
      },
      "execution_count": null,
      "outputs": []
    },
    {
      "cell_type": "code",
      "source": [
        "text_for_im = valid_text[rand_idx]\n",
        "visbert_text_im = visualbert_tokenizer.batch_encode_plus(\n",
        "    batch_text_or_text_pairs= text_for_im,  # the text to be encoded\n",
        "    add_special_tokens=True,  # add [CLS] and [SEP]\n",
        "    max_length = 180,\n",
        "    padding='max_length',\n",
        "    return_attention_mask = True,  # return the attention mask\n",
        "    return_tensors = 'pt',  # return tensor\n",
        "  )\n",
        "\n",
        "coatt_text_im = roberta_tokenizer.batch_encode_plus(\n",
        "    batch_text_or_text_pairs= text_for_im,  # the text to be encoded\n",
        "    add_special_tokens=True,  # add [CLS] and [SEP]\n",
        "    max_length = 180,\n",
        "    padding='max_length',\n",
        "    return_attention_mask = True,  # return the attention mask\n",
        "    return_tensors = 'pt',  # return tensor\n",
        "  )\n",
        "\n",
        "coatt_attr_im = roberta_tokenizer.batch_encode_plus(\n",
        "    batch_text_or_text_pairs=ex_attrs,  # the text to be encoded\n",
        "    add_special_tokens=True,  # add [CLS] and [SEP]\n",
        "    max_length = 15,\n",
        "    padding='max_length',\n",
        "    return_attention_mask = True,  # return the attention mask\n",
        "    return_tensors = 'pt',  # return tensor\n",
        "  )\n"
      ],
      "metadata": {
        "id": "IhWm8Tn2mMNV"
      },
      "execution_count": null,
      "outputs": []
    },
    {
      "cell_type": "code",
      "source": [],
      "metadata": {
        "id": "rNqIPrPie5dc"
      },
      "execution_count": null,
      "outputs": []
    },
    {
      "cell_type": "code",
      "execution_count": null,
      "metadata": {
        "id": "diY6PI2ezfrz"
      },
      "outputs": [],
      "source": [
        "def image_predictor_fn(images):\n",
        "    im_dirs = []\n",
        "    im_idxs = []\n",
        "    print(images)\n",
        "    print(len(images))\n",
        "    for i in range(len(images)):\n",
        "        plt.imsave(f\"data/tmp_img/{i}.jpg\", images[i])\n",
        "        im_dirs.append(f\"data/tmp_img/{i}.jpg\")\n",
        "\n",
        "    # vis_embeds = [im_data[i]['pooled_feat'][:10].cpu() for i in ex_im_idxs]\n",
        "    # ex_vis_embeds = torch.stack(vis_embeds)\n",
        "\n",
        "    # visual_token_type_ids = torch.ones(ex_vis_embeds.shape[:-1], dtype=torch.long)\n",
        "    # visual_attention_mask = torch.ones(ex_vis_embeds.shape[:-1], dtype=torch.float)\n",
        "\n",
        "    # visbert_inputs_im = visbert_text_im.copy()\n",
        "    # visbert_inputs_im[\"visual_embeds\"] = ex_vis_embeds\n",
        "    # visbert_inputs_im[\"visual_token_type_ids\"] = visual_token_type_ids\n",
        "    # visbert_inputs_im[\"visual_attention_mask\"] = visual_attention_mask\n",
        "\n",
        "\n",
        "    # with torch.no_grad():\n",
        "    #     y_pred = model(coatt_text_im[\"input_ids\"], coatt_attr_im['input_ids'],\n",
        "    #                    visbert_inputs_im, n_of_im_samples)\n",
        "\n",
        "    # return y_pred\n",
        "\n"
      ]
    },
    {
      "cell_type": "code",
      "execution_count": null,
      "metadata": {
        "colab": {
          "base_uri": "https://localhost:8080/",
          "height": 1000,
          "referenced_widgets": [
            "caf80a293b0e4ef48ad3550bf3641395",
            "c8354ca71bb4404aa6e10a375835c345",
            "5f3be920e4fb4b57826affefb6e2304f",
            "a1f7f6f35c3f4f5f8d8efbe6161250a5",
            "5bbada8628944ffbaa051be5d01e4cd6",
            "2e426e11e14743cb852751c078ed931e",
            "cecdcf3344524f4d90a73b5e2c4a762f",
            "4a26f892986e4bd2b01ea7c0bedc662b",
            "012b5deba64345508317751f0d2a7901",
            "8200bd931989469fb36018a3077efa36",
            "85c07df419f547f1909436fb4cd08f75"
          ]
        },
        "id": "Osmf28as2xU8",
        "outputId": "795aca8e-d577-4eec-cf44-84001db51ae1"
      },
      "outputs": [
        {
          "output_type": "display_data",
          "data": {
            "text/plain": [
              "  0%|          | 0/5 [00:00<?, ?it/s]"
            ],
            "application/vnd.jupyter.widget-view+json": {
              "version_major": 2,
              "version_minor": 0,
              "model_id": "caf80a293b0e4ef48ad3550bf3641395"
            }
          },
          "metadata": {}
        },
        {
          "output_type": "stream",
          "name": "stdout",
          "text": [
            "[[[[123 123 131]\n",
            "   [123 123 131]\n",
            "   [123 123 131]\n",
            "   ...\n",
            "   [123 124 129]\n",
            "   [123 124 129]\n",
            "   [123 124 129]]\n",
            "\n",
            "  [[123 123 131]\n",
            "   [123 123 131]\n",
            "   [123 123 131]\n",
            "   ...\n",
            "   [123 124 129]\n",
            "   [123 124 129]\n",
            "   [123 124 129]]\n",
            "\n",
            "  [[123 123 131]\n",
            "   [123 123 131]\n",
            "   [123 123 131]\n",
            "   ...\n",
            "   [123 124 129]\n",
            "   [123 124 129]\n",
            "   [123 124 129]]\n",
            "\n",
            "  ...\n",
            "\n",
            "  [[ 17   0  18]\n",
            "   [ 17   0  18]\n",
            "   [ 17   0  18]\n",
            "   ...\n",
            "   [ 17   0  18]\n",
            "   [ 17   0  18]\n",
            "   [ 17   0  18]]\n",
            "\n",
            "  [[ 17   0  18]\n",
            "   [ 17   0  18]\n",
            "   [ 17   0  18]\n",
            "   ...\n",
            "   [ 17   0  18]\n",
            "   [ 17   0  18]\n",
            "   [ 17   0  18]]\n",
            "\n",
            "  [[ 17   0  18]\n",
            "   [ 17   0  18]\n",
            "   [ 17   0  18]\n",
            "   ...\n",
            "   [ 17   0  18]\n",
            "   [ 17   0  18]\n",
            "   [ 17   0  18]]]\n",
            "\n",
            "\n",
            " [[[123 123 131]\n",
            "   [123 123 131]\n",
            "   [123 123 131]\n",
            "   ...\n",
            "   [123 124 129]\n",
            "   [123 124 129]\n",
            "   [123 124 129]]\n",
            "\n",
            "  [[123 123 131]\n",
            "   [123 123 131]\n",
            "   [123 123 131]\n",
            "   ...\n",
            "   [123 124 129]\n",
            "   [123 124 129]\n",
            "   [123 124 129]]\n",
            "\n",
            "  [[123 123 131]\n",
            "   [123 123 131]\n",
            "   [123 123 131]\n",
            "   ...\n",
            "   [123 124 129]\n",
            "   [123 124 129]\n",
            "   [123 124 129]]\n",
            "\n",
            "  ...\n",
            "\n",
            "  [[  0   0   0]\n",
            "   [  0   0   0]\n",
            "   [  0   0   0]\n",
            "   ...\n",
            "   [ 17   0  18]\n",
            "   [ 17   0  18]\n",
            "   [ 17   0  18]]\n",
            "\n",
            "  [[  0   0   0]\n",
            "   [  0   0   0]\n",
            "   [  0   0   0]\n",
            "   ...\n",
            "   [ 17   0  18]\n",
            "   [ 17   0  18]\n",
            "   [ 17   0  18]]\n",
            "\n",
            "  [[  0   0   0]\n",
            "   [  0   0   0]\n",
            "   [  0   0   0]\n",
            "   ...\n",
            "   [ 17   0  18]\n",
            "   [ 17   0  18]\n",
            "   [ 17   0  18]]]\n",
            "\n",
            "\n",
            " [[[  0   0   0]\n",
            "   [  0   0   0]\n",
            "   [  0   0   0]\n",
            "   ...\n",
            "   [  0   0   0]\n",
            "   [  0   0   0]\n",
            "   [  0   0   0]]\n",
            "\n",
            "  [[  0   0   0]\n",
            "   [  0   0   0]\n",
            "   [  0   0   0]\n",
            "   ...\n",
            "   [  0   0   0]\n",
            "   [  0   0   0]\n",
            "   [  0   0   0]]\n",
            "\n",
            "  [[  0   0   0]\n",
            "   [  0   0   0]\n",
            "   [  0   0   0]\n",
            "   ...\n",
            "   [  0   0   0]\n",
            "   [  0   0   0]\n",
            "   [  0   0   0]]\n",
            "\n",
            "  ...\n",
            "\n",
            "  [[  0   0   0]\n",
            "   [  0   0   0]\n",
            "   [  0   0   0]\n",
            "   ...\n",
            "   [  0   0   0]\n",
            "   [  0   0   0]\n",
            "   [  0   0   0]]\n",
            "\n",
            "  [[  0   0   0]\n",
            "   [  0   0   0]\n",
            "   [  0   0   0]\n",
            "   ...\n",
            "   [  0   0   0]\n",
            "   [  0   0   0]\n",
            "   [  0   0   0]]\n",
            "\n",
            "  [[  0   0   0]\n",
            "   [  0   0   0]\n",
            "   [  0   0   0]\n",
            "   ...\n",
            "   [  0   0   0]\n",
            "   [  0   0   0]\n",
            "   [  0   0   0]]]\n",
            "\n",
            "\n",
            " [[[  0   0   0]\n",
            "   [  0   0   0]\n",
            "   [  0   0   0]\n",
            "   ...\n",
            "   [123 124 129]\n",
            "   [123 124 129]\n",
            "   [123 124 129]]\n",
            "\n",
            "  [[  0   0   0]\n",
            "   [  0   0   0]\n",
            "   [  0   0   0]\n",
            "   ...\n",
            "   [123 124 129]\n",
            "   [123 124 129]\n",
            "   [123 124 129]]\n",
            "\n",
            "  [[  0   0   0]\n",
            "   [  0   0   0]\n",
            "   [  0   0   0]\n",
            "   ...\n",
            "   [123 124 129]\n",
            "   [123 124 129]\n",
            "   [123 124 129]]\n",
            "\n",
            "  ...\n",
            "\n",
            "  [[ 17   0  18]\n",
            "   [ 17   0  18]\n",
            "   [ 17   0  18]\n",
            "   ...\n",
            "   [ 17   0  18]\n",
            "   [ 17   0  18]\n",
            "   [ 17   0  18]]\n",
            "\n",
            "  [[ 17   0  18]\n",
            "   [ 17   0  18]\n",
            "   [ 17   0  18]\n",
            "   ...\n",
            "   [ 17   0  18]\n",
            "   [ 17   0  18]\n",
            "   [ 17   0  18]]\n",
            "\n",
            "  [[ 17   0  18]\n",
            "   [ 17   0  18]\n",
            "   [ 17   0  18]\n",
            "   ...\n",
            "   [ 17   0  18]\n",
            "   [ 17   0  18]\n",
            "   [ 17   0  18]]]\n",
            "\n",
            "\n",
            " [[[123 123 131]\n",
            "   [123 123 131]\n",
            "   [123 123 131]\n",
            "   ...\n",
            "   [  0   0   0]\n",
            "   [  0   0   0]\n",
            "   [  0   0   0]]\n",
            "\n",
            "  [[123 123 131]\n",
            "   [123 123 131]\n",
            "   [123 123 131]\n",
            "   ...\n",
            "   [  0   0   0]\n",
            "   [  0   0   0]\n",
            "   [  0   0   0]]\n",
            "\n",
            "  [[123 123 131]\n",
            "   [123 123 131]\n",
            "   [123 123 131]\n",
            "   ...\n",
            "   [  0   0   0]\n",
            "   [  0   0   0]\n",
            "   [  0   0   0]]\n",
            "\n",
            "  ...\n",
            "\n",
            "  [[ 17   0  18]\n",
            "   [ 17   0  18]\n",
            "   [ 17   0  18]\n",
            "   ...\n",
            "   [ 17   0  18]\n",
            "   [ 17   0  18]\n",
            "   [ 17   0  18]]\n",
            "\n",
            "  [[ 17   0  18]\n",
            "   [ 17   0  18]\n",
            "   [ 17   0  18]\n",
            "   ...\n",
            "   [ 17   0  18]\n",
            "   [ 17   0  18]\n",
            "   [ 17   0  18]]\n",
            "\n",
            "  [[ 17   0  18]\n",
            "   [ 17   0  18]\n",
            "   [ 17   0  18]\n",
            "   ...\n",
            "   [ 17   0  18]\n",
            "   [ 17   0  18]\n",
            "   [ 17   0  18]]]]\n",
            "5\n"
          ]
        },
        {
          "output_type": "error",
          "ename": "TypeError",
          "evalue": "ignored",
          "traceback": [
            "\u001b[0;31m---------------------------------------------------------------------------\u001b[0m",
            "\u001b[0;31mTypeError\u001b[0m                                 Traceback (most recent call last)",
            "\u001b[0;32m<ipython-input-104-fec19720401a>\u001b[0m in \u001b[0;36m<cell line: 11>\u001b[0;34m()\u001b[0m\n\u001b[1;32m      9\u001b[0m     \u001b[0;34m\"batch_size\"\u001b[0m\u001b[0;34m:\u001b[0m \u001b[0;36m5\u001b[0m\u001b[0;34m\u001b[0m\u001b[0;34m\u001b[0m\u001b[0m\n\u001b[1;32m     10\u001b[0m }\n\u001b[0;32m---> 11\u001b[0;31m \u001b[0mimage_exp\u001b[0m \u001b[0;34m=\u001b[0m \u001b[0mexplain_image_instance\u001b[0m\u001b[0;34m(\u001b[0m\u001b[0mimage_predictor_fn\u001b[0m\u001b[0;34m,\u001b[0m \u001b[0mim\u001b[0m\u001b[0;34m,\u001b[0m \u001b[0minit_params\u001b[0m\u001b[0;34m,\u001b[0m \u001b[0mexplanation_params\u001b[0m\u001b[0;34m)\u001b[0m\u001b[0;34m\u001b[0m\u001b[0;34m\u001b[0m\u001b[0m\n\u001b[0m",
            "\u001b[0;32m<ipython-input-25-c38b33454a72>\u001b[0m in \u001b[0;36mexplain_image_instance\u001b[0;34m(predictor_fn, input_arr, init_params, explanation_params)\u001b[0m\n\u001b[1;32m     25\u001b[0m \u001b[0;34m\u001b[0m\u001b[0m\n\u001b[1;32m     26\u001b[0m         \u001b[0;31m# Run LIME explainer\u001b[0m\u001b[0;34m\u001b[0m\u001b[0;34m\u001b[0m\u001b[0m\n\u001b[0;32m---> 27\u001b[0;31m         exp = lime_explainer.explain_instance(\n\u001b[0m\u001b[1;32m     28\u001b[0m             \u001b[0minput_arr\u001b[0m\u001b[0;34m,\u001b[0m \u001b[0mpredictor_fn\u001b[0m\u001b[0;34m,\u001b[0m \u001b[0;34m**\u001b[0m\u001b[0mexplanation_params\u001b[0m\u001b[0;34m\u001b[0m\u001b[0;34m\u001b[0m\u001b[0m\n\u001b[1;32m     29\u001b[0m         )\n",
            "\u001b[0;32m/usr/local/lib/python3.10/dist-packages/lime/lime_image.py\u001b[0m in \u001b[0;36mexplain_instance\u001b[0;34m(self, image, classifier_fn, labels, hide_color, top_labels, num_features, num_samples, batch_size, segmentation_fn, distance_metric, model_regressor, random_seed)\u001b[0m\n\u001b[1;32m    196\u001b[0m         \u001b[0mtop\u001b[0m \u001b[0;34m=\u001b[0m \u001b[0mlabels\u001b[0m\u001b[0;34m\u001b[0m\u001b[0;34m\u001b[0m\u001b[0m\n\u001b[1;32m    197\u001b[0m \u001b[0;34m\u001b[0m\u001b[0m\n\u001b[0;32m--> 198\u001b[0;31m         data, labels = self.data_labels(image, fudged_image, segments,\n\u001b[0m\u001b[1;32m    199\u001b[0m                                         \u001b[0mclassifier_fn\u001b[0m\u001b[0;34m,\u001b[0m \u001b[0mnum_samples\u001b[0m\u001b[0;34m,\u001b[0m\u001b[0;34m\u001b[0m\u001b[0;34m\u001b[0m\u001b[0m\n\u001b[1;32m    200\u001b[0m                                         batch_size=batch_size)\n",
            "\u001b[0;32m/usr/local/lib/python3.10/dist-packages/lime/lime_image.py\u001b[0m in \u001b[0;36mdata_labels\u001b[0;34m(self, image, fudged_image, segments, classifier_fn, num_samples, batch_size)\u001b[0m\n\u001b[1;32m    260\u001b[0m             \u001b[0;32mif\u001b[0m \u001b[0mlen\u001b[0m\u001b[0;34m(\u001b[0m\u001b[0mimgs\u001b[0m\u001b[0;34m)\u001b[0m \u001b[0;34m==\u001b[0m \u001b[0mbatch_size\u001b[0m\u001b[0;34m:\u001b[0m\u001b[0;34m\u001b[0m\u001b[0;34m\u001b[0m\u001b[0m\n\u001b[1;32m    261\u001b[0m                 \u001b[0mpreds\u001b[0m \u001b[0;34m=\u001b[0m \u001b[0mclassifier_fn\u001b[0m\u001b[0;34m(\u001b[0m\u001b[0mnp\u001b[0m\u001b[0;34m.\u001b[0m\u001b[0marray\u001b[0m\u001b[0;34m(\u001b[0m\u001b[0mimgs\u001b[0m\u001b[0;34m)\u001b[0m\u001b[0;34m)\u001b[0m\u001b[0;34m\u001b[0m\u001b[0;34m\u001b[0m\u001b[0m\n\u001b[0;32m--> 262\u001b[0;31m                 \u001b[0mlabels\u001b[0m\u001b[0;34m.\u001b[0m\u001b[0mextend\u001b[0m\u001b[0;34m(\u001b[0m\u001b[0mpreds\u001b[0m\u001b[0;34m)\u001b[0m\u001b[0;34m\u001b[0m\u001b[0;34m\u001b[0m\u001b[0m\n\u001b[0m\u001b[1;32m    263\u001b[0m                 \u001b[0mimgs\u001b[0m \u001b[0;34m=\u001b[0m \u001b[0;34m[\u001b[0m\u001b[0;34m]\u001b[0m\u001b[0;34m\u001b[0m\u001b[0;34m\u001b[0m\u001b[0m\n\u001b[1;32m    264\u001b[0m         \u001b[0;32mif\u001b[0m \u001b[0mlen\u001b[0m\u001b[0;34m(\u001b[0m\u001b[0mimgs\u001b[0m\u001b[0;34m)\u001b[0m \u001b[0;34m>\u001b[0m \u001b[0;36m0\u001b[0m\u001b[0;34m:\u001b[0m\u001b[0;34m\u001b[0m\u001b[0;34m\u001b[0m\u001b[0m\n",
            "\u001b[0;31mTypeError\u001b[0m: 'NoneType' object is not iterable"
          ]
        }
      ],
      "source": [
        "init_params = {}\n",
        "ex_im_idx = ex_im_idxs[11]\n",
        "img = retrieve_image(ex_im_idx)\n",
        "im = cv2.cvtColor(np.asarray(img), cv2.COLOR_BGRA2BGR)\n",
        "explanation_params = {\n",
        "    \"labels\": (cor_label,),\n",
        "    \"hide_color\": 0,\n",
        "    \"num_samples\": n_of_im_samples,\n",
        "    \"batch_size\": 5\n",
        "}\n",
        "image_exp = explain_image_instance(image_predictor_fn, im, init_params, explanation_params)"
      ]
    },
    {
      "cell_type": "markdown",
      "metadata": {
        "id": "Nx-DUpXflZq8"
      },
      "source": [
        "# Google OCR and Unused"
      ]
    },
    {
      "cell_type": "code",
      "execution_count": null,
      "metadata": {
        "id": "mk6piAMccLRa"
      },
      "outputs": [],
      "source": [
        "import pytesseract\n",
        "from pytesseract import Output\n",
        "\n",
        "\n",
        "# for i in range(14): # page segmentation mode\n",
        "#     for j in range(4): # ocr engine mode\n",
        "try:\n",
        "    myconfig = \"--psm 12 --oem 3\"\n",
        "    text = pytesseract.image_to_string(img,config=myconfig) # 11-0 , 12-1,\n",
        "    print(text)\n",
        "\n",
        "except:\n",
        "    print(\"error\")\n",
        "    pass # doing nothing on exception\n",
        "\n",
        "i += 1\n",
        "\n"
      ]
    },
    {
      "cell_type": "code",
      "execution_count": null,
      "metadata": {
        "id": "xCW1BaRKcLRb"
      },
      "outputs": [],
      "source": [
        "# # boxes for chars\n",
        "# imgg = retrieve_image(im_idx, False)\n",
        "# hei, wid, _ = img.shape\n",
        "# boxes = pytesseract.image_to_boxes(img) # ,config=myconfig\n",
        "# print(boxes)\n",
        "\n",
        "# for box in boxes.splitlines():\n",
        "#     box = box.split(\" \")\n",
        "#     img = cv2.rectangle(img, (int(box[1]), hei - int(box[2]), int(box[3]), hei - int(box[4])), (0, 255, 0), 1) #bgr\n",
        "\n",
        "# cv2.imshow(\"img\", img)\n",
        "# cv2.waitKey(0)\n",
        "\n",
        "\n",
        "# data = pytesseract.image_to_data(img, config = myconfig, output_type= Output.DICT)\n",
        "# print(data.keys())\n",
        "\n",
        "#  # confidence for words\n",
        "# boxam = len(data['text'])\n",
        "\n",
        "# for i in range(boxam):\n",
        "#     if float(data['conf'][i]) > 80:\n",
        "#         (x, y, w, h) = (data['left'][i], data['top'][i], data['width'][i], data['height'][i],)\n",
        "#         img = cv2.rectangle(img, (x, y), (x + w, y + h), (0, 255, 0), 2)\n",
        "#         img = cv2.putText(img, data['text'][i], (x, y+h+20), cv2.FONT_HERSHEY_SIMPLEX, 0.7, (0, 255, 0), 2, cv2.LINE_AA)\n"
      ]
    },
    {
      "cell_type": "markdown",
      "metadata": {
        "id": "QBqfJr5NCmD2"
      },
      "source": [
        "# Playing data"
      ]
    },
    {
      "cell_type": "code",
      "execution_count": null,
      "metadata": {
        "id": "enBn3OLccLRd"
      },
      "outputs": [],
      "source": [
        "print(train_text[train_id.index(str(im_idx))])\n",
        "print(train_labels[train_id.index(str(im_idx))])\n",
        "\n",
        "indices = [i for i, x in enumerate(train_labels) if x == 0] #non sarcastic indices\n",
        "print(indices[0:10])\n",
        "print(len(indices))"
      ]
    },
    {
      "cell_type": "code",
      "execution_count": null,
      "metadata": {
        "id": "e4vXg6TAcLRd"
      },
      "outputs": [],
      "source": [
        "import matplotlib.pyplot as plt\n",
        "\n",
        "plt.figure(figsize=(30, 30))\n",
        "for i in range(9):\n",
        "    ax = plt.subplot(3, 3, i + 1)\n",
        "    im_idx = int(train_id[i + 1080])\n",
        "    plt.imshow(retrieve_image(im_idx))\n",
        "    plt.title(str(train_text[train_id.index(str(im_idx))]) + \" -- \" + str(train_labels[train_id.index(str(im_idx))]))\n",
        "    plt.axis(\"off\")"
      ]
    },
    {
      "cell_type": "code",
      "execution_count": null,
      "metadata": {
        "id": "mRtw4e0acLRd"
      },
      "outputs": [],
      "source": [
        "\n"
      ]
    }
  ],
  "metadata": {
    "accelerator": "GPU",
    "colab": {
      "collapsed_sections": [
        "KgZEP14v3cle",
        "Nx-DUpXflZq8",
        "QBqfJr5NCmD2"
      ],
      "machine_shape": "hm",
      "provenance": [],
      "gpuType": "V100",
      "include_colab_link": true
    },
    "kernelspec": {
      "display_name": "Python 3",
      "name": "python3"
    },
    "language_info": {
      "codemirror_mode": {
        "name": "ipython",
        "version": 3
      },
      "file_extension": ".py",
      "mimetype": "text/x-python",
      "name": "python",
      "nbconvert_exporter": "python",
      "pygments_lexer": "ipython3",
      "version": "3.8.7"
    },
    "vscode": {
      "interpreter": {
        "hash": "084db29042c679e12fccf506236b0365ddcef3bbaa752b1fbae43c098bd6e330"
      }
    },
    "widgets": {
      "application/vnd.jupyter.widget-state+json": {
        "105e2e05e93148328008ae3d003fa875": {
          "model_module": "@jupyter-widgets/controls",
          "model_name": "HBoxModel",
          "model_module_version": "1.5.0",
          "state": {
            "_dom_classes": [],
            "_model_module": "@jupyter-widgets/controls",
            "_model_module_version": "1.5.0",
            "_model_name": "HBoxModel",
            "_view_count": null,
            "_view_module": "@jupyter-widgets/controls",
            "_view_module_version": "1.5.0",
            "_view_name": "HBoxView",
            "box_style": "",
            "children": [
              "IPY_MODEL_967ecd726d5c41c9b41e1b5edfd32eae",
              "IPY_MODEL_75d9babde561499c9a0206ca8122fe49",
              "IPY_MODEL_b2120f6c44c34d429e6fa80b81e3ee11"
            ],
            "layout": "IPY_MODEL_f954ea2c3a9e4ff4860ddc59b81fcf86"
          }
        },
        "967ecd726d5c41c9b41e1b5edfd32eae": {
          "model_module": "@jupyter-widgets/controls",
          "model_name": "HTMLModel",
          "model_module_version": "1.5.0",
          "state": {
            "_dom_classes": [],
            "_model_module": "@jupyter-widgets/controls",
            "_model_module_version": "1.5.0",
            "_model_name": "HTMLModel",
            "_view_count": null,
            "_view_module": "@jupyter-widgets/controls",
            "_view_module_version": "1.5.0",
            "_view_name": "HTMLView",
            "description": "",
            "description_tooltip": null,
            "layout": "IPY_MODEL_18f5501e31234277a75a09ed4efbcd0f",
            "placeholder": "​",
            "style": "IPY_MODEL_3e8bce35cbe74f0495437c502efcf88d",
            "value": "Downloading (…)solve/main/vocab.txt: 100%"
          }
        },
        "75d9babde561499c9a0206ca8122fe49": {
          "model_module": "@jupyter-widgets/controls",
          "model_name": "FloatProgressModel",
          "model_module_version": "1.5.0",
          "state": {
            "_dom_classes": [],
            "_model_module": "@jupyter-widgets/controls",
            "_model_module_version": "1.5.0",
            "_model_name": "FloatProgressModel",
            "_view_count": null,
            "_view_module": "@jupyter-widgets/controls",
            "_view_module_version": "1.5.0",
            "_view_name": "ProgressView",
            "bar_style": "success",
            "description": "",
            "description_tooltip": null,
            "layout": "IPY_MODEL_ee9b5c7be256431c92737d9433b56f56",
            "max": 231508,
            "min": 0,
            "orientation": "horizontal",
            "style": "IPY_MODEL_a4f4b3ded485473a85c2d906012ab757",
            "value": 231508
          }
        },
        "b2120f6c44c34d429e6fa80b81e3ee11": {
          "model_module": "@jupyter-widgets/controls",
          "model_name": "HTMLModel",
          "model_module_version": "1.5.0",
          "state": {
            "_dom_classes": [],
            "_model_module": "@jupyter-widgets/controls",
            "_model_module_version": "1.5.0",
            "_model_name": "HTMLModel",
            "_view_count": null,
            "_view_module": "@jupyter-widgets/controls",
            "_view_module_version": "1.5.0",
            "_view_name": "HTMLView",
            "description": "",
            "description_tooltip": null,
            "layout": "IPY_MODEL_b73b13f514fe464f8e30315ef6e131b4",
            "placeholder": "​",
            "style": "IPY_MODEL_5c6abecc27ea499da1a83b796d982085",
            "value": " 232k/232k [00:00&lt;00:00, 595kB/s]"
          }
        },
        "f954ea2c3a9e4ff4860ddc59b81fcf86": {
          "model_module": "@jupyter-widgets/base",
          "model_name": "LayoutModel",
          "model_module_version": "1.2.0",
          "state": {
            "_model_module": "@jupyter-widgets/base",
            "_model_module_version": "1.2.0",
            "_model_name": "LayoutModel",
            "_view_count": null,
            "_view_module": "@jupyter-widgets/base",
            "_view_module_version": "1.2.0",
            "_view_name": "LayoutView",
            "align_content": null,
            "align_items": null,
            "align_self": null,
            "border": null,
            "bottom": null,
            "display": null,
            "flex": null,
            "flex_flow": null,
            "grid_area": null,
            "grid_auto_columns": null,
            "grid_auto_flow": null,
            "grid_auto_rows": null,
            "grid_column": null,
            "grid_gap": null,
            "grid_row": null,
            "grid_template_areas": null,
            "grid_template_columns": null,
            "grid_template_rows": null,
            "height": null,
            "justify_content": null,
            "justify_items": null,
            "left": null,
            "margin": null,
            "max_height": null,
            "max_width": null,
            "min_height": null,
            "min_width": null,
            "object_fit": null,
            "object_position": null,
            "order": null,
            "overflow": null,
            "overflow_x": null,
            "overflow_y": null,
            "padding": null,
            "right": null,
            "top": null,
            "visibility": null,
            "width": null
          }
        },
        "18f5501e31234277a75a09ed4efbcd0f": {
          "model_module": "@jupyter-widgets/base",
          "model_name": "LayoutModel",
          "model_module_version": "1.2.0",
          "state": {
            "_model_module": "@jupyter-widgets/base",
            "_model_module_version": "1.2.0",
            "_model_name": "LayoutModel",
            "_view_count": null,
            "_view_module": "@jupyter-widgets/base",
            "_view_module_version": "1.2.0",
            "_view_name": "LayoutView",
            "align_content": null,
            "align_items": null,
            "align_self": null,
            "border": null,
            "bottom": null,
            "display": null,
            "flex": null,
            "flex_flow": null,
            "grid_area": null,
            "grid_auto_columns": null,
            "grid_auto_flow": null,
            "grid_auto_rows": null,
            "grid_column": null,
            "grid_gap": null,
            "grid_row": null,
            "grid_template_areas": null,
            "grid_template_columns": null,
            "grid_template_rows": null,
            "height": null,
            "justify_content": null,
            "justify_items": null,
            "left": null,
            "margin": null,
            "max_height": null,
            "max_width": null,
            "min_height": null,
            "min_width": null,
            "object_fit": null,
            "object_position": null,
            "order": null,
            "overflow": null,
            "overflow_x": null,
            "overflow_y": null,
            "padding": null,
            "right": null,
            "top": null,
            "visibility": null,
            "width": null
          }
        },
        "3e8bce35cbe74f0495437c502efcf88d": {
          "model_module": "@jupyter-widgets/controls",
          "model_name": "DescriptionStyleModel",
          "model_module_version": "1.5.0",
          "state": {
            "_model_module": "@jupyter-widgets/controls",
            "_model_module_version": "1.5.0",
            "_model_name": "DescriptionStyleModel",
            "_view_count": null,
            "_view_module": "@jupyter-widgets/base",
            "_view_module_version": "1.2.0",
            "_view_name": "StyleView",
            "description_width": ""
          }
        },
        "ee9b5c7be256431c92737d9433b56f56": {
          "model_module": "@jupyter-widgets/base",
          "model_name": "LayoutModel",
          "model_module_version": "1.2.0",
          "state": {
            "_model_module": "@jupyter-widgets/base",
            "_model_module_version": "1.2.0",
            "_model_name": "LayoutModel",
            "_view_count": null,
            "_view_module": "@jupyter-widgets/base",
            "_view_module_version": "1.2.0",
            "_view_name": "LayoutView",
            "align_content": null,
            "align_items": null,
            "align_self": null,
            "border": null,
            "bottom": null,
            "display": null,
            "flex": null,
            "flex_flow": null,
            "grid_area": null,
            "grid_auto_columns": null,
            "grid_auto_flow": null,
            "grid_auto_rows": null,
            "grid_column": null,
            "grid_gap": null,
            "grid_row": null,
            "grid_template_areas": null,
            "grid_template_columns": null,
            "grid_template_rows": null,
            "height": null,
            "justify_content": null,
            "justify_items": null,
            "left": null,
            "margin": null,
            "max_height": null,
            "max_width": null,
            "min_height": null,
            "min_width": null,
            "object_fit": null,
            "object_position": null,
            "order": null,
            "overflow": null,
            "overflow_x": null,
            "overflow_y": null,
            "padding": null,
            "right": null,
            "top": null,
            "visibility": null,
            "width": null
          }
        },
        "a4f4b3ded485473a85c2d906012ab757": {
          "model_module": "@jupyter-widgets/controls",
          "model_name": "ProgressStyleModel",
          "model_module_version": "1.5.0",
          "state": {
            "_model_module": "@jupyter-widgets/controls",
            "_model_module_version": "1.5.0",
            "_model_name": "ProgressStyleModel",
            "_view_count": null,
            "_view_module": "@jupyter-widgets/base",
            "_view_module_version": "1.2.0",
            "_view_name": "StyleView",
            "bar_color": null,
            "description_width": ""
          }
        },
        "b73b13f514fe464f8e30315ef6e131b4": {
          "model_module": "@jupyter-widgets/base",
          "model_name": "LayoutModel",
          "model_module_version": "1.2.0",
          "state": {
            "_model_module": "@jupyter-widgets/base",
            "_model_module_version": "1.2.0",
            "_model_name": "LayoutModel",
            "_view_count": null,
            "_view_module": "@jupyter-widgets/base",
            "_view_module_version": "1.2.0",
            "_view_name": "LayoutView",
            "align_content": null,
            "align_items": null,
            "align_self": null,
            "border": null,
            "bottom": null,
            "display": null,
            "flex": null,
            "flex_flow": null,
            "grid_area": null,
            "grid_auto_columns": null,
            "grid_auto_flow": null,
            "grid_auto_rows": null,
            "grid_column": null,
            "grid_gap": null,
            "grid_row": null,
            "grid_template_areas": null,
            "grid_template_columns": null,
            "grid_template_rows": null,
            "height": null,
            "justify_content": null,
            "justify_items": null,
            "left": null,
            "margin": null,
            "max_height": null,
            "max_width": null,
            "min_height": null,
            "min_width": null,
            "object_fit": null,
            "object_position": null,
            "order": null,
            "overflow": null,
            "overflow_x": null,
            "overflow_y": null,
            "padding": null,
            "right": null,
            "top": null,
            "visibility": null,
            "width": null
          }
        },
        "5c6abecc27ea499da1a83b796d982085": {
          "model_module": "@jupyter-widgets/controls",
          "model_name": "DescriptionStyleModel",
          "model_module_version": "1.5.0",
          "state": {
            "_model_module": "@jupyter-widgets/controls",
            "_model_module_version": "1.5.0",
            "_model_name": "DescriptionStyleModel",
            "_view_count": null,
            "_view_module": "@jupyter-widgets/base",
            "_view_module_version": "1.2.0",
            "_view_name": "StyleView",
            "description_width": ""
          }
        },
        "8a7d6d40e223449ca50224eb3c05f25e": {
          "model_module": "@jupyter-widgets/controls",
          "model_name": "HBoxModel",
          "model_module_version": "1.5.0",
          "state": {
            "_dom_classes": [],
            "_model_module": "@jupyter-widgets/controls",
            "_model_module_version": "1.5.0",
            "_model_name": "HBoxModel",
            "_view_count": null,
            "_view_module": "@jupyter-widgets/controls",
            "_view_module_version": "1.5.0",
            "_view_name": "HBoxView",
            "box_style": "",
            "children": [
              "IPY_MODEL_23246d8c16d54ecc99ae672263d39c28",
              "IPY_MODEL_43243d6804624ed4b3ea3f3d4c33ec12",
              "IPY_MODEL_7747e1cdb6874cdc87d1980c2657e59c"
            ],
            "layout": "IPY_MODEL_521b0986ca83491883fa90b6319fa194"
          }
        },
        "23246d8c16d54ecc99ae672263d39c28": {
          "model_module": "@jupyter-widgets/controls",
          "model_name": "HTMLModel",
          "model_module_version": "1.5.0",
          "state": {
            "_dom_classes": [],
            "_model_module": "@jupyter-widgets/controls",
            "_model_module_version": "1.5.0",
            "_model_name": "HTMLModel",
            "_view_count": null,
            "_view_module": "@jupyter-widgets/controls",
            "_view_module_version": "1.5.0",
            "_view_name": "HTMLView",
            "description": "",
            "description_tooltip": null,
            "layout": "IPY_MODEL_d636db3693a54d2ca40e97ec7a980102",
            "placeholder": "​",
            "style": "IPY_MODEL_2f24e5300efb4531bc36e6df4faed938",
            "value": "Downloading (…)okenizer_config.json: 100%"
          }
        },
        "43243d6804624ed4b3ea3f3d4c33ec12": {
          "model_module": "@jupyter-widgets/controls",
          "model_name": "FloatProgressModel",
          "model_module_version": "1.5.0",
          "state": {
            "_dom_classes": [],
            "_model_module": "@jupyter-widgets/controls",
            "_model_module_version": "1.5.0",
            "_model_name": "FloatProgressModel",
            "_view_count": null,
            "_view_module": "@jupyter-widgets/controls",
            "_view_module_version": "1.5.0",
            "_view_name": "ProgressView",
            "bar_style": "success",
            "description": "",
            "description_tooltip": null,
            "layout": "IPY_MODEL_7ad1d3b22809448f8a54716cfd7f88fd",
            "max": 28,
            "min": 0,
            "orientation": "horizontal",
            "style": "IPY_MODEL_9fbfcc7f6b554cc9b4dfe16786e92c03",
            "value": 28
          }
        },
        "7747e1cdb6874cdc87d1980c2657e59c": {
          "model_module": "@jupyter-widgets/controls",
          "model_name": "HTMLModel",
          "model_module_version": "1.5.0",
          "state": {
            "_dom_classes": [],
            "_model_module": "@jupyter-widgets/controls",
            "_model_module_version": "1.5.0",
            "_model_name": "HTMLModel",
            "_view_count": null,
            "_view_module": "@jupyter-widgets/controls",
            "_view_module_version": "1.5.0",
            "_view_name": "HTMLView",
            "description": "",
            "description_tooltip": null,
            "layout": "IPY_MODEL_7d39c004a4cc4813827993b337995e22",
            "placeholder": "​",
            "style": "IPY_MODEL_909387337e464246849cb835e5f09c23",
            "value": " 28.0/28.0 [00:00&lt;00:00, 2.51kB/s]"
          }
        },
        "521b0986ca83491883fa90b6319fa194": {
          "model_module": "@jupyter-widgets/base",
          "model_name": "LayoutModel",
          "model_module_version": "1.2.0",
          "state": {
            "_model_module": "@jupyter-widgets/base",
            "_model_module_version": "1.2.0",
            "_model_name": "LayoutModel",
            "_view_count": null,
            "_view_module": "@jupyter-widgets/base",
            "_view_module_version": "1.2.0",
            "_view_name": "LayoutView",
            "align_content": null,
            "align_items": null,
            "align_self": null,
            "border": null,
            "bottom": null,
            "display": null,
            "flex": null,
            "flex_flow": null,
            "grid_area": null,
            "grid_auto_columns": null,
            "grid_auto_flow": null,
            "grid_auto_rows": null,
            "grid_column": null,
            "grid_gap": null,
            "grid_row": null,
            "grid_template_areas": null,
            "grid_template_columns": null,
            "grid_template_rows": null,
            "height": null,
            "justify_content": null,
            "justify_items": null,
            "left": null,
            "margin": null,
            "max_height": null,
            "max_width": null,
            "min_height": null,
            "min_width": null,
            "object_fit": null,
            "object_position": null,
            "order": null,
            "overflow": null,
            "overflow_x": null,
            "overflow_y": null,
            "padding": null,
            "right": null,
            "top": null,
            "visibility": null,
            "width": null
          }
        },
        "d636db3693a54d2ca40e97ec7a980102": {
          "model_module": "@jupyter-widgets/base",
          "model_name": "LayoutModel",
          "model_module_version": "1.2.0",
          "state": {
            "_model_module": "@jupyter-widgets/base",
            "_model_module_version": "1.2.0",
            "_model_name": "LayoutModel",
            "_view_count": null,
            "_view_module": "@jupyter-widgets/base",
            "_view_module_version": "1.2.0",
            "_view_name": "LayoutView",
            "align_content": null,
            "align_items": null,
            "align_self": null,
            "border": null,
            "bottom": null,
            "display": null,
            "flex": null,
            "flex_flow": null,
            "grid_area": null,
            "grid_auto_columns": null,
            "grid_auto_flow": null,
            "grid_auto_rows": null,
            "grid_column": null,
            "grid_gap": null,
            "grid_row": null,
            "grid_template_areas": null,
            "grid_template_columns": null,
            "grid_template_rows": null,
            "height": null,
            "justify_content": null,
            "justify_items": null,
            "left": null,
            "margin": null,
            "max_height": null,
            "max_width": null,
            "min_height": null,
            "min_width": null,
            "object_fit": null,
            "object_position": null,
            "order": null,
            "overflow": null,
            "overflow_x": null,
            "overflow_y": null,
            "padding": null,
            "right": null,
            "top": null,
            "visibility": null,
            "width": null
          }
        },
        "2f24e5300efb4531bc36e6df4faed938": {
          "model_module": "@jupyter-widgets/controls",
          "model_name": "DescriptionStyleModel",
          "model_module_version": "1.5.0",
          "state": {
            "_model_module": "@jupyter-widgets/controls",
            "_model_module_version": "1.5.0",
            "_model_name": "DescriptionStyleModel",
            "_view_count": null,
            "_view_module": "@jupyter-widgets/base",
            "_view_module_version": "1.2.0",
            "_view_name": "StyleView",
            "description_width": ""
          }
        },
        "7ad1d3b22809448f8a54716cfd7f88fd": {
          "model_module": "@jupyter-widgets/base",
          "model_name": "LayoutModel",
          "model_module_version": "1.2.0",
          "state": {
            "_model_module": "@jupyter-widgets/base",
            "_model_module_version": "1.2.0",
            "_model_name": "LayoutModel",
            "_view_count": null,
            "_view_module": "@jupyter-widgets/base",
            "_view_module_version": "1.2.0",
            "_view_name": "LayoutView",
            "align_content": null,
            "align_items": null,
            "align_self": null,
            "border": null,
            "bottom": null,
            "display": null,
            "flex": null,
            "flex_flow": null,
            "grid_area": null,
            "grid_auto_columns": null,
            "grid_auto_flow": null,
            "grid_auto_rows": null,
            "grid_column": null,
            "grid_gap": null,
            "grid_row": null,
            "grid_template_areas": null,
            "grid_template_columns": null,
            "grid_template_rows": null,
            "height": null,
            "justify_content": null,
            "justify_items": null,
            "left": null,
            "margin": null,
            "max_height": null,
            "max_width": null,
            "min_height": null,
            "min_width": null,
            "object_fit": null,
            "object_position": null,
            "order": null,
            "overflow": null,
            "overflow_x": null,
            "overflow_y": null,
            "padding": null,
            "right": null,
            "top": null,
            "visibility": null,
            "width": null
          }
        },
        "9fbfcc7f6b554cc9b4dfe16786e92c03": {
          "model_module": "@jupyter-widgets/controls",
          "model_name": "ProgressStyleModel",
          "model_module_version": "1.5.0",
          "state": {
            "_model_module": "@jupyter-widgets/controls",
            "_model_module_version": "1.5.0",
            "_model_name": "ProgressStyleModel",
            "_view_count": null,
            "_view_module": "@jupyter-widgets/base",
            "_view_module_version": "1.2.0",
            "_view_name": "StyleView",
            "bar_color": null,
            "description_width": ""
          }
        },
        "7d39c004a4cc4813827993b337995e22": {
          "model_module": "@jupyter-widgets/base",
          "model_name": "LayoutModel",
          "model_module_version": "1.2.0",
          "state": {
            "_model_module": "@jupyter-widgets/base",
            "_model_module_version": "1.2.0",
            "_model_name": "LayoutModel",
            "_view_count": null,
            "_view_module": "@jupyter-widgets/base",
            "_view_module_version": "1.2.0",
            "_view_name": "LayoutView",
            "align_content": null,
            "align_items": null,
            "align_self": null,
            "border": null,
            "bottom": null,
            "display": null,
            "flex": null,
            "flex_flow": null,
            "grid_area": null,
            "grid_auto_columns": null,
            "grid_auto_flow": null,
            "grid_auto_rows": null,
            "grid_column": null,
            "grid_gap": null,
            "grid_row": null,
            "grid_template_areas": null,
            "grid_template_columns": null,
            "grid_template_rows": null,
            "height": null,
            "justify_content": null,
            "justify_items": null,
            "left": null,
            "margin": null,
            "max_height": null,
            "max_width": null,
            "min_height": null,
            "min_width": null,
            "object_fit": null,
            "object_position": null,
            "order": null,
            "overflow": null,
            "overflow_x": null,
            "overflow_y": null,
            "padding": null,
            "right": null,
            "top": null,
            "visibility": null,
            "width": null
          }
        },
        "909387337e464246849cb835e5f09c23": {
          "model_module": "@jupyter-widgets/controls",
          "model_name": "DescriptionStyleModel",
          "model_module_version": "1.5.0",
          "state": {
            "_model_module": "@jupyter-widgets/controls",
            "_model_module_version": "1.5.0",
            "_model_name": "DescriptionStyleModel",
            "_view_count": null,
            "_view_module": "@jupyter-widgets/base",
            "_view_module_version": "1.2.0",
            "_view_name": "StyleView",
            "description_width": ""
          }
        },
        "037601bacffc4ee89171064394cc7367": {
          "model_module": "@jupyter-widgets/controls",
          "model_name": "HBoxModel",
          "model_module_version": "1.5.0",
          "state": {
            "_dom_classes": [],
            "_model_module": "@jupyter-widgets/controls",
            "_model_module_version": "1.5.0",
            "_model_name": "HBoxModel",
            "_view_count": null,
            "_view_module": "@jupyter-widgets/controls",
            "_view_module_version": "1.5.0",
            "_view_name": "HBoxView",
            "box_style": "",
            "children": [
              "IPY_MODEL_259d66bf6f65477cb069251d7db19cef",
              "IPY_MODEL_5c608855e21145e38cccf5f56dc4fcce",
              "IPY_MODEL_83276ceb3ec3412590ee6534ef1bc348"
            ],
            "layout": "IPY_MODEL_0352b680e78541d3a3eb6bfcb70455e7"
          }
        },
        "259d66bf6f65477cb069251d7db19cef": {
          "model_module": "@jupyter-widgets/controls",
          "model_name": "HTMLModel",
          "model_module_version": "1.5.0",
          "state": {
            "_dom_classes": [],
            "_model_module": "@jupyter-widgets/controls",
            "_model_module_version": "1.5.0",
            "_model_name": "HTMLModel",
            "_view_count": null,
            "_view_module": "@jupyter-widgets/controls",
            "_view_module_version": "1.5.0",
            "_view_name": "HTMLView",
            "description": "",
            "description_tooltip": null,
            "layout": "IPY_MODEL_ad68c29eca7b42a49a158096acd33daf",
            "placeholder": "​",
            "style": "IPY_MODEL_e0f4ecdf8dc0418aa631db3d61c90bb3",
            "value": "Downloading (…)lve/main/config.json: 100%"
          }
        },
        "5c608855e21145e38cccf5f56dc4fcce": {
          "model_module": "@jupyter-widgets/controls",
          "model_name": "FloatProgressModel",
          "model_module_version": "1.5.0",
          "state": {
            "_dom_classes": [],
            "_model_module": "@jupyter-widgets/controls",
            "_model_module_version": "1.5.0",
            "_model_name": "FloatProgressModel",
            "_view_count": null,
            "_view_module": "@jupyter-widgets/controls",
            "_view_module_version": "1.5.0",
            "_view_name": "ProgressView",
            "bar_style": "success",
            "description": "",
            "description_tooltip": null,
            "layout": "IPY_MODEL_89f32feaa4654c838040ced7f1bba9c3",
            "max": 570,
            "min": 0,
            "orientation": "horizontal",
            "style": "IPY_MODEL_cb1051b9b25b4cf19b609c8def66ef98",
            "value": 570
          }
        },
        "83276ceb3ec3412590ee6534ef1bc348": {
          "model_module": "@jupyter-widgets/controls",
          "model_name": "HTMLModel",
          "model_module_version": "1.5.0",
          "state": {
            "_dom_classes": [],
            "_model_module": "@jupyter-widgets/controls",
            "_model_module_version": "1.5.0",
            "_model_name": "HTMLModel",
            "_view_count": null,
            "_view_module": "@jupyter-widgets/controls",
            "_view_module_version": "1.5.0",
            "_view_name": "HTMLView",
            "description": "",
            "description_tooltip": null,
            "layout": "IPY_MODEL_25883c9ebb6241229758c803bb1588dd",
            "placeholder": "​",
            "style": "IPY_MODEL_b423517a7595420283f06696ac9395c0",
            "value": " 570/570 [00:00&lt;00:00, 52.7kB/s]"
          }
        },
        "0352b680e78541d3a3eb6bfcb70455e7": {
          "model_module": "@jupyter-widgets/base",
          "model_name": "LayoutModel",
          "model_module_version": "1.2.0",
          "state": {
            "_model_module": "@jupyter-widgets/base",
            "_model_module_version": "1.2.0",
            "_model_name": "LayoutModel",
            "_view_count": null,
            "_view_module": "@jupyter-widgets/base",
            "_view_module_version": "1.2.0",
            "_view_name": "LayoutView",
            "align_content": null,
            "align_items": null,
            "align_self": null,
            "border": null,
            "bottom": null,
            "display": null,
            "flex": null,
            "flex_flow": null,
            "grid_area": null,
            "grid_auto_columns": null,
            "grid_auto_flow": null,
            "grid_auto_rows": null,
            "grid_column": null,
            "grid_gap": null,
            "grid_row": null,
            "grid_template_areas": null,
            "grid_template_columns": null,
            "grid_template_rows": null,
            "height": null,
            "justify_content": null,
            "justify_items": null,
            "left": null,
            "margin": null,
            "max_height": null,
            "max_width": null,
            "min_height": null,
            "min_width": null,
            "object_fit": null,
            "object_position": null,
            "order": null,
            "overflow": null,
            "overflow_x": null,
            "overflow_y": null,
            "padding": null,
            "right": null,
            "top": null,
            "visibility": null,
            "width": null
          }
        },
        "ad68c29eca7b42a49a158096acd33daf": {
          "model_module": "@jupyter-widgets/base",
          "model_name": "LayoutModel",
          "model_module_version": "1.2.0",
          "state": {
            "_model_module": "@jupyter-widgets/base",
            "_model_module_version": "1.2.0",
            "_model_name": "LayoutModel",
            "_view_count": null,
            "_view_module": "@jupyter-widgets/base",
            "_view_module_version": "1.2.0",
            "_view_name": "LayoutView",
            "align_content": null,
            "align_items": null,
            "align_self": null,
            "border": null,
            "bottom": null,
            "display": null,
            "flex": null,
            "flex_flow": null,
            "grid_area": null,
            "grid_auto_columns": null,
            "grid_auto_flow": null,
            "grid_auto_rows": null,
            "grid_column": null,
            "grid_gap": null,
            "grid_row": null,
            "grid_template_areas": null,
            "grid_template_columns": null,
            "grid_template_rows": null,
            "height": null,
            "justify_content": null,
            "justify_items": null,
            "left": null,
            "margin": null,
            "max_height": null,
            "max_width": null,
            "min_height": null,
            "min_width": null,
            "object_fit": null,
            "object_position": null,
            "order": null,
            "overflow": null,
            "overflow_x": null,
            "overflow_y": null,
            "padding": null,
            "right": null,
            "top": null,
            "visibility": null,
            "width": null
          }
        },
        "e0f4ecdf8dc0418aa631db3d61c90bb3": {
          "model_module": "@jupyter-widgets/controls",
          "model_name": "DescriptionStyleModel",
          "model_module_version": "1.5.0",
          "state": {
            "_model_module": "@jupyter-widgets/controls",
            "_model_module_version": "1.5.0",
            "_model_name": "DescriptionStyleModel",
            "_view_count": null,
            "_view_module": "@jupyter-widgets/base",
            "_view_module_version": "1.2.0",
            "_view_name": "StyleView",
            "description_width": ""
          }
        },
        "89f32feaa4654c838040ced7f1bba9c3": {
          "model_module": "@jupyter-widgets/base",
          "model_name": "LayoutModel",
          "model_module_version": "1.2.0",
          "state": {
            "_model_module": "@jupyter-widgets/base",
            "_model_module_version": "1.2.0",
            "_model_name": "LayoutModel",
            "_view_count": null,
            "_view_module": "@jupyter-widgets/base",
            "_view_module_version": "1.2.0",
            "_view_name": "LayoutView",
            "align_content": null,
            "align_items": null,
            "align_self": null,
            "border": null,
            "bottom": null,
            "display": null,
            "flex": null,
            "flex_flow": null,
            "grid_area": null,
            "grid_auto_columns": null,
            "grid_auto_flow": null,
            "grid_auto_rows": null,
            "grid_column": null,
            "grid_gap": null,
            "grid_row": null,
            "grid_template_areas": null,
            "grid_template_columns": null,
            "grid_template_rows": null,
            "height": null,
            "justify_content": null,
            "justify_items": null,
            "left": null,
            "margin": null,
            "max_height": null,
            "max_width": null,
            "min_height": null,
            "min_width": null,
            "object_fit": null,
            "object_position": null,
            "order": null,
            "overflow": null,
            "overflow_x": null,
            "overflow_y": null,
            "padding": null,
            "right": null,
            "top": null,
            "visibility": null,
            "width": null
          }
        },
        "cb1051b9b25b4cf19b609c8def66ef98": {
          "model_module": "@jupyter-widgets/controls",
          "model_name": "ProgressStyleModel",
          "model_module_version": "1.5.0",
          "state": {
            "_model_module": "@jupyter-widgets/controls",
            "_model_module_version": "1.5.0",
            "_model_name": "ProgressStyleModel",
            "_view_count": null,
            "_view_module": "@jupyter-widgets/base",
            "_view_module_version": "1.2.0",
            "_view_name": "StyleView",
            "bar_color": null,
            "description_width": ""
          }
        },
        "25883c9ebb6241229758c803bb1588dd": {
          "model_module": "@jupyter-widgets/base",
          "model_name": "LayoutModel",
          "model_module_version": "1.2.0",
          "state": {
            "_model_module": "@jupyter-widgets/base",
            "_model_module_version": "1.2.0",
            "_model_name": "LayoutModel",
            "_view_count": null,
            "_view_module": "@jupyter-widgets/base",
            "_view_module_version": "1.2.0",
            "_view_name": "LayoutView",
            "align_content": null,
            "align_items": null,
            "align_self": null,
            "border": null,
            "bottom": null,
            "display": null,
            "flex": null,
            "flex_flow": null,
            "grid_area": null,
            "grid_auto_columns": null,
            "grid_auto_flow": null,
            "grid_auto_rows": null,
            "grid_column": null,
            "grid_gap": null,
            "grid_row": null,
            "grid_template_areas": null,
            "grid_template_columns": null,
            "grid_template_rows": null,
            "height": null,
            "justify_content": null,
            "justify_items": null,
            "left": null,
            "margin": null,
            "max_height": null,
            "max_width": null,
            "min_height": null,
            "min_width": null,
            "object_fit": null,
            "object_position": null,
            "order": null,
            "overflow": null,
            "overflow_x": null,
            "overflow_y": null,
            "padding": null,
            "right": null,
            "top": null,
            "visibility": null,
            "width": null
          }
        },
        "b423517a7595420283f06696ac9395c0": {
          "model_module": "@jupyter-widgets/controls",
          "model_name": "DescriptionStyleModel",
          "model_module_version": "1.5.0",
          "state": {
            "_model_module": "@jupyter-widgets/controls",
            "_model_module_version": "1.5.0",
            "_model_name": "DescriptionStyleModel",
            "_view_count": null,
            "_view_module": "@jupyter-widgets/base",
            "_view_module_version": "1.2.0",
            "_view_name": "StyleView",
            "description_width": ""
          }
        },
        "fde9f2d52902448fa2e7b66c8fe9e219": {
          "model_module": "@jupyter-widgets/controls",
          "model_name": "HBoxModel",
          "model_module_version": "1.5.0",
          "state": {
            "_dom_classes": [],
            "_model_module": "@jupyter-widgets/controls",
            "_model_module_version": "1.5.0",
            "_model_name": "HBoxModel",
            "_view_count": null,
            "_view_module": "@jupyter-widgets/controls",
            "_view_module_version": "1.5.0",
            "_view_name": "HBoxView",
            "box_style": "",
            "children": [
              "IPY_MODEL_beec33caa472446aa5a711d6e18fb414",
              "IPY_MODEL_06b5ecb3c65042c2b027058e11bef1f5",
              "IPY_MODEL_3a76750d503c4faa9937bc338179d385"
            ],
            "layout": "IPY_MODEL_5f690246bef740b4b5c3e1d4f16429a9"
          }
        },
        "beec33caa472446aa5a711d6e18fb414": {
          "model_module": "@jupyter-widgets/controls",
          "model_name": "HTMLModel",
          "model_module_version": "1.5.0",
          "state": {
            "_dom_classes": [],
            "_model_module": "@jupyter-widgets/controls",
            "_model_module_version": "1.5.0",
            "_model_name": "HTMLModel",
            "_view_count": null,
            "_view_module": "@jupyter-widgets/controls",
            "_view_module_version": "1.5.0",
            "_view_name": "HTMLView",
            "description": "",
            "description_tooltip": null,
            "layout": "IPY_MODEL_b087bed3b27040d1908afffa8e6bd6e8",
            "placeholder": "​",
            "style": "IPY_MODEL_e39d6da02860456eb8f38d09e19cb07c",
            "value": "Downloading (…)olve/main/vocab.json: 100%"
          }
        },
        "06b5ecb3c65042c2b027058e11bef1f5": {
          "model_module": "@jupyter-widgets/controls",
          "model_name": "FloatProgressModel",
          "model_module_version": "1.5.0",
          "state": {
            "_dom_classes": [],
            "_model_module": "@jupyter-widgets/controls",
            "_model_module_version": "1.5.0",
            "_model_name": "FloatProgressModel",
            "_view_count": null,
            "_view_module": "@jupyter-widgets/controls",
            "_view_module_version": "1.5.0",
            "_view_name": "ProgressView",
            "bar_style": "success",
            "description": "",
            "description_tooltip": null,
            "layout": "IPY_MODEL_a6c14f55f318459ebc1a7fa9752d0ede",
            "max": 898823,
            "min": 0,
            "orientation": "horizontal",
            "style": "IPY_MODEL_d62dd0e20fa547019cee57fa580b5116",
            "value": 898823
          }
        },
        "3a76750d503c4faa9937bc338179d385": {
          "model_module": "@jupyter-widgets/controls",
          "model_name": "HTMLModel",
          "model_module_version": "1.5.0",
          "state": {
            "_dom_classes": [],
            "_model_module": "@jupyter-widgets/controls",
            "_model_module_version": "1.5.0",
            "_model_name": "HTMLModel",
            "_view_count": null,
            "_view_module": "@jupyter-widgets/controls",
            "_view_module_version": "1.5.0",
            "_view_name": "HTMLView",
            "description": "",
            "description_tooltip": null,
            "layout": "IPY_MODEL_9626267c9cd448a5af51d726ac3a7892",
            "placeholder": "​",
            "style": "IPY_MODEL_14030d2f6c5c4dd893c605a28cdc9e23",
            "value": " 899k/899k [00:00&lt;00:00, 2.31MB/s]"
          }
        },
        "5f690246bef740b4b5c3e1d4f16429a9": {
          "model_module": "@jupyter-widgets/base",
          "model_name": "LayoutModel",
          "model_module_version": "1.2.0",
          "state": {
            "_model_module": "@jupyter-widgets/base",
            "_model_module_version": "1.2.0",
            "_model_name": "LayoutModel",
            "_view_count": null,
            "_view_module": "@jupyter-widgets/base",
            "_view_module_version": "1.2.0",
            "_view_name": "LayoutView",
            "align_content": null,
            "align_items": null,
            "align_self": null,
            "border": null,
            "bottom": null,
            "display": null,
            "flex": null,
            "flex_flow": null,
            "grid_area": null,
            "grid_auto_columns": null,
            "grid_auto_flow": null,
            "grid_auto_rows": null,
            "grid_column": null,
            "grid_gap": null,
            "grid_row": null,
            "grid_template_areas": null,
            "grid_template_columns": null,
            "grid_template_rows": null,
            "height": null,
            "justify_content": null,
            "justify_items": null,
            "left": null,
            "margin": null,
            "max_height": null,
            "max_width": null,
            "min_height": null,
            "min_width": null,
            "object_fit": null,
            "object_position": null,
            "order": null,
            "overflow": null,
            "overflow_x": null,
            "overflow_y": null,
            "padding": null,
            "right": null,
            "top": null,
            "visibility": null,
            "width": null
          }
        },
        "b087bed3b27040d1908afffa8e6bd6e8": {
          "model_module": "@jupyter-widgets/base",
          "model_name": "LayoutModel",
          "model_module_version": "1.2.0",
          "state": {
            "_model_module": "@jupyter-widgets/base",
            "_model_module_version": "1.2.0",
            "_model_name": "LayoutModel",
            "_view_count": null,
            "_view_module": "@jupyter-widgets/base",
            "_view_module_version": "1.2.0",
            "_view_name": "LayoutView",
            "align_content": null,
            "align_items": null,
            "align_self": null,
            "border": null,
            "bottom": null,
            "display": null,
            "flex": null,
            "flex_flow": null,
            "grid_area": null,
            "grid_auto_columns": null,
            "grid_auto_flow": null,
            "grid_auto_rows": null,
            "grid_column": null,
            "grid_gap": null,
            "grid_row": null,
            "grid_template_areas": null,
            "grid_template_columns": null,
            "grid_template_rows": null,
            "height": null,
            "justify_content": null,
            "justify_items": null,
            "left": null,
            "margin": null,
            "max_height": null,
            "max_width": null,
            "min_height": null,
            "min_width": null,
            "object_fit": null,
            "object_position": null,
            "order": null,
            "overflow": null,
            "overflow_x": null,
            "overflow_y": null,
            "padding": null,
            "right": null,
            "top": null,
            "visibility": null,
            "width": null
          }
        },
        "e39d6da02860456eb8f38d09e19cb07c": {
          "model_module": "@jupyter-widgets/controls",
          "model_name": "DescriptionStyleModel",
          "model_module_version": "1.5.0",
          "state": {
            "_model_module": "@jupyter-widgets/controls",
            "_model_module_version": "1.5.0",
            "_model_name": "DescriptionStyleModel",
            "_view_count": null,
            "_view_module": "@jupyter-widgets/base",
            "_view_module_version": "1.2.0",
            "_view_name": "StyleView",
            "description_width": ""
          }
        },
        "a6c14f55f318459ebc1a7fa9752d0ede": {
          "model_module": "@jupyter-widgets/base",
          "model_name": "LayoutModel",
          "model_module_version": "1.2.0",
          "state": {
            "_model_module": "@jupyter-widgets/base",
            "_model_module_version": "1.2.0",
            "_model_name": "LayoutModel",
            "_view_count": null,
            "_view_module": "@jupyter-widgets/base",
            "_view_module_version": "1.2.0",
            "_view_name": "LayoutView",
            "align_content": null,
            "align_items": null,
            "align_self": null,
            "border": null,
            "bottom": null,
            "display": null,
            "flex": null,
            "flex_flow": null,
            "grid_area": null,
            "grid_auto_columns": null,
            "grid_auto_flow": null,
            "grid_auto_rows": null,
            "grid_column": null,
            "grid_gap": null,
            "grid_row": null,
            "grid_template_areas": null,
            "grid_template_columns": null,
            "grid_template_rows": null,
            "height": null,
            "justify_content": null,
            "justify_items": null,
            "left": null,
            "margin": null,
            "max_height": null,
            "max_width": null,
            "min_height": null,
            "min_width": null,
            "object_fit": null,
            "object_position": null,
            "order": null,
            "overflow": null,
            "overflow_x": null,
            "overflow_y": null,
            "padding": null,
            "right": null,
            "top": null,
            "visibility": null,
            "width": null
          }
        },
        "d62dd0e20fa547019cee57fa580b5116": {
          "model_module": "@jupyter-widgets/controls",
          "model_name": "ProgressStyleModel",
          "model_module_version": "1.5.0",
          "state": {
            "_model_module": "@jupyter-widgets/controls",
            "_model_module_version": "1.5.0",
            "_model_name": "ProgressStyleModel",
            "_view_count": null,
            "_view_module": "@jupyter-widgets/base",
            "_view_module_version": "1.2.0",
            "_view_name": "StyleView",
            "bar_color": null,
            "description_width": ""
          }
        },
        "9626267c9cd448a5af51d726ac3a7892": {
          "model_module": "@jupyter-widgets/base",
          "model_name": "LayoutModel",
          "model_module_version": "1.2.0",
          "state": {
            "_model_module": "@jupyter-widgets/base",
            "_model_module_version": "1.2.0",
            "_model_name": "LayoutModel",
            "_view_count": null,
            "_view_module": "@jupyter-widgets/base",
            "_view_module_version": "1.2.0",
            "_view_name": "LayoutView",
            "align_content": null,
            "align_items": null,
            "align_self": null,
            "border": null,
            "bottom": null,
            "display": null,
            "flex": null,
            "flex_flow": null,
            "grid_area": null,
            "grid_auto_columns": null,
            "grid_auto_flow": null,
            "grid_auto_rows": null,
            "grid_column": null,
            "grid_gap": null,
            "grid_row": null,
            "grid_template_areas": null,
            "grid_template_columns": null,
            "grid_template_rows": null,
            "height": null,
            "justify_content": null,
            "justify_items": null,
            "left": null,
            "margin": null,
            "max_height": null,
            "max_width": null,
            "min_height": null,
            "min_width": null,
            "object_fit": null,
            "object_position": null,
            "order": null,
            "overflow": null,
            "overflow_x": null,
            "overflow_y": null,
            "padding": null,
            "right": null,
            "top": null,
            "visibility": null,
            "width": null
          }
        },
        "14030d2f6c5c4dd893c605a28cdc9e23": {
          "model_module": "@jupyter-widgets/controls",
          "model_name": "DescriptionStyleModel",
          "model_module_version": "1.5.0",
          "state": {
            "_model_module": "@jupyter-widgets/controls",
            "_model_module_version": "1.5.0",
            "_model_name": "DescriptionStyleModel",
            "_view_count": null,
            "_view_module": "@jupyter-widgets/base",
            "_view_module_version": "1.2.0",
            "_view_name": "StyleView",
            "description_width": ""
          }
        },
        "8939d4d749c947aab217b692c53015b8": {
          "model_module": "@jupyter-widgets/controls",
          "model_name": "HBoxModel",
          "model_module_version": "1.5.0",
          "state": {
            "_dom_classes": [],
            "_model_module": "@jupyter-widgets/controls",
            "_model_module_version": "1.5.0",
            "_model_name": "HBoxModel",
            "_view_count": null,
            "_view_module": "@jupyter-widgets/controls",
            "_view_module_version": "1.5.0",
            "_view_name": "HBoxView",
            "box_style": "",
            "children": [
              "IPY_MODEL_5c5fa164b2f04e2eaa459349e5307f5c",
              "IPY_MODEL_10939f5ff34d46a0b31cd54e1c6e9d12",
              "IPY_MODEL_744d65e348304557bbcf16aa5d96dec4"
            ],
            "layout": "IPY_MODEL_3f99b0b72fc441be8f564dab540d58dd"
          }
        },
        "5c5fa164b2f04e2eaa459349e5307f5c": {
          "model_module": "@jupyter-widgets/controls",
          "model_name": "HTMLModel",
          "model_module_version": "1.5.0",
          "state": {
            "_dom_classes": [],
            "_model_module": "@jupyter-widgets/controls",
            "_model_module_version": "1.5.0",
            "_model_name": "HTMLModel",
            "_view_count": null,
            "_view_module": "@jupyter-widgets/controls",
            "_view_module_version": "1.5.0",
            "_view_name": "HTMLView",
            "description": "",
            "description_tooltip": null,
            "layout": "IPY_MODEL_f592696e531b417da96f47145ab61c5c",
            "placeholder": "​",
            "style": "IPY_MODEL_d8073cf90a2b4f95ae1da00737d07315",
            "value": "Downloading (…)olve/main/merges.txt: 100%"
          }
        },
        "10939f5ff34d46a0b31cd54e1c6e9d12": {
          "model_module": "@jupyter-widgets/controls",
          "model_name": "FloatProgressModel",
          "model_module_version": "1.5.0",
          "state": {
            "_dom_classes": [],
            "_model_module": "@jupyter-widgets/controls",
            "_model_module_version": "1.5.0",
            "_model_name": "FloatProgressModel",
            "_view_count": null,
            "_view_module": "@jupyter-widgets/controls",
            "_view_module_version": "1.5.0",
            "_view_name": "ProgressView",
            "bar_style": "success",
            "description": "",
            "description_tooltip": null,
            "layout": "IPY_MODEL_7475fc92877b412ca485c5ffff903fc6",
            "max": 456318,
            "min": 0,
            "orientation": "horizontal",
            "style": "IPY_MODEL_4704f529623f49569394d8d9878a1ad2",
            "value": 456318
          }
        },
        "744d65e348304557bbcf16aa5d96dec4": {
          "model_module": "@jupyter-widgets/controls",
          "model_name": "HTMLModel",
          "model_module_version": "1.5.0",
          "state": {
            "_dom_classes": [],
            "_model_module": "@jupyter-widgets/controls",
            "_model_module_version": "1.5.0",
            "_model_name": "HTMLModel",
            "_view_count": null,
            "_view_module": "@jupyter-widgets/controls",
            "_view_module_version": "1.5.0",
            "_view_name": "HTMLView",
            "description": "",
            "description_tooltip": null,
            "layout": "IPY_MODEL_4043fa66bdf84daf9baf437824b01734",
            "placeholder": "​",
            "style": "IPY_MODEL_89b0a440a5144b60b2c1e2b3d22cf89e",
            "value": " 456k/456k [00:00&lt;00:00, 27.2MB/s]"
          }
        },
        "3f99b0b72fc441be8f564dab540d58dd": {
          "model_module": "@jupyter-widgets/base",
          "model_name": "LayoutModel",
          "model_module_version": "1.2.0",
          "state": {
            "_model_module": "@jupyter-widgets/base",
            "_model_module_version": "1.2.0",
            "_model_name": "LayoutModel",
            "_view_count": null,
            "_view_module": "@jupyter-widgets/base",
            "_view_module_version": "1.2.0",
            "_view_name": "LayoutView",
            "align_content": null,
            "align_items": null,
            "align_self": null,
            "border": null,
            "bottom": null,
            "display": null,
            "flex": null,
            "flex_flow": null,
            "grid_area": null,
            "grid_auto_columns": null,
            "grid_auto_flow": null,
            "grid_auto_rows": null,
            "grid_column": null,
            "grid_gap": null,
            "grid_row": null,
            "grid_template_areas": null,
            "grid_template_columns": null,
            "grid_template_rows": null,
            "height": null,
            "justify_content": null,
            "justify_items": null,
            "left": null,
            "margin": null,
            "max_height": null,
            "max_width": null,
            "min_height": null,
            "min_width": null,
            "object_fit": null,
            "object_position": null,
            "order": null,
            "overflow": null,
            "overflow_x": null,
            "overflow_y": null,
            "padding": null,
            "right": null,
            "top": null,
            "visibility": null,
            "width": null
          }
        },
        "f592696e531b417da96f47145ab61c5c": {
          "model_module": "@jupyter-widgets/base",
          "model_name": "LayoutModel",
          "model_module_version": "1.2.0",
          "state": {
            "_model_module": "@jupyter-widgets/base",
            "_model_module_version": "1.2.0",
            "_model_name": "LayoutModel",
            "_view_count": null,
            "_view_module": "@jupyter-widgets/base",
            "_view_module_version": "1.2.0",
            "_view_name": "LayoutView",
            "align_content": null,
            "align_items": null,
            "align_self": null,
            "border": null,
            "bottom": null,
            "display": null,
            "flex": null,
            "flex_flow": null,
            "grid_area": null,
            "grid_auto_columns": null,
            "grid_auto_flow": null,
            "grid_auto_rows": null,
            "grid_column": null,
            "grid_gap": null,
            "grid_row": null,
            "grid_template_areas": null,
            "grid_template_columns": null,
            "grid_template_rows": null,
            "height": null,
            "justify_content": null,
            "justify_items": null,
            "left": null,
            "margin": null,
            "max_height": null,
            "max_width": null,
            "min_height": null,
            "min_width": null,
            "object_fit": null,
            "object_position": null,
            "order": null,
            "overflow": null,
            "overflow_x": null,
            "overflow_y": null,
            "padding": null,
            "right": null,
            "top": null,
            "visibility": null,
            "width": null
          }
        },
        "d8073cf90a2b4f95ae1da00737d07315": {
          "model_module": "@jupyter-widgets/controls",
          "model_name": "DescriptionStyleModel",
          "model_module_version": "1.5.0",
          "state": {
            "_model_module": "@jupyter-widgets/controls",
            "_model_module_version": "1.5.0",
            "_model_name": "DescriptionStyleModel",
            "_view_count": null,
            "_view_module": "@jupyter-widgets/base",
            "_view_module_version": "1.2.0",
            "_view_name": "StyleView",
            "description_width": ""
          }
        },
        "7475fc92877b412ca485c5ffff903fc6": {
          "model_module": "@jupyter-widgets/base",
          "model_name": "LayoutModel",
          "model_module_version": "1.2.0",
          "state": {
            "_model_module": "@jupyter-widgets/base",
            "_model_module_version": "1.2.0",
            "_model_name": "LayoutModel",
            "_view_count": null,
            "_view_module": "@jupyter-widgets/base",
            "_view_module_version": "1.2.0",
            "_view_name": "LayoutView",
            "align_content": null,
            "align_items": null,
            "align_self": null,
            "border": null,
            "bottom": null,
            "display": null,
            "flex": null,
            "flex_flow": null,
            "grid_area": null,
            "grid_auto_columns": null,
            "grid_auto_flow": null,
            "grid_auto_rows": null,
            "grid_column": null,
            "grid_gap": null,
            "grid_row": null,
            "grid_template_areas": null,
            "grid_template_columns": null,
            "grid_template_rows": null,
            "height": null,
            "justify_content": null,
            "justify_items": null,
            "left": null,
            "margin": null,
            "max_height": null,
            "max_width": null,
            "min_height": null,
            "min_width": null,
            "object_fit": null,
            "object_position": null,
            "order": null,
            "overflow": null,
            "overflow_x": null,
            "overflow_y": null,
            "padding": null,
            "right": null,
            "top": null,
            "visibility": null,
            "width": null
          }
        },
        "4704f529623f49569394d8d9878a1ad2": {
          "model_module": "@jupyter-widgets/controls",
          "model_name": "ProgressStyleModel",
          "model_module_version": "1.5.0",
          "state": {
            "_model_module": "@jupyter-widgets/controls",
            "_model_module_version": "1.5.0",
            "_model_name": "ProgressStyleModel",
            "_view_count": null,
            "_view_module": "@jupyter-widgets/base",
            "_view_module_version": "1.2.0",
            "_view_name": "StyleView",
            "bar_color": null,
            "description_width": ""
          }
        },
        "4043fa66bdf84daf9baf437824b01734": {
          "model_module": "@jupyter-widgets/base",
          "model_name": "LayoutModel",
          "model_module_version": "1.2.0",
          "state": {
            "_model_module": "@jupyter-widgets/base",
            "_model_module_version": "1.2.0",
            "_model_name": "LayoutModel",
            "_view_count": null,
            "_view_module": "@jupyter-widgets/base",
            "_view_module_version": "1.2.0",
            "_view_name": "LayoutView",
            "align_content": null,
            "align_items": null,
            "align_self": null,
            "border": null,
            "bottom": null,
            "display": null,
            "flex": null,
            "flex_flow": null,
            "grid_area": null,
            "grid_auto_columns": null,
            "grid_auto_flow": null,
            "grid_auto_rows": null,
            "grid_column": null,
            "grid_gap": null,
            "grid_row": null,
            "grid_template_areas": null,
            "grid_template_columns": null,
            "grid_template_rows": null,
            "height": null,
            "justify_content": null,
            "justify_items": null,
            "left": null,
            "margin": null,
            "max_height": null,
            "max_width": null,
            "min_height": null,
            "min_width": null,
            "object_fit": null,
            "object_position": null,
            "order": null,
            "overflow": null,
            "overflow_x": null,
            "overflow_y": null,
            "padding": null,
            "right": null,
            "top": null,
            "visibility": null,
            "width": null
          }
        },
        "89b0a440a5144b60b2c1e2b3d22cf89e": {
          "model_module": "@jupyter-widgets/controls",
          "model_name": "DescriptionStyleModel",
          "model_module_version": "1.5.0",
          "state": {
            "_model_module": "@jupyter-widgets/controls",
            "_model_module_version": "1.5.0",
            "_model_name": "DescriptionStyleModel",
            "_view_count": null,
            "_view_module": "@jupyter-widgets/base",
            "_view_module_version": "1.2.0",
            "_view_name": "StyleView",
            "description_width": ""
          }
        },
        "039573ef2da345ccbd0be73425b00ae8": {
          "model_module": "@jupyter-widgets/controls",
          "model_name": "HBoxModel",
          "model_module_version": "1.5.0",
          "state": {
            "_dom_classes": [],
            "_model_module": "@jupyter-widgets/controls",
            "_model_module_version": "1.5.0",
            "_model_name": "HBoxModel",
            "_view_count": null,
            "_view_module": "@jupyter-widgets/controls",
            "_view_module_version": "1.5.0",
            "_view_name": "HBoxView",
            "box_style": "",
            "children": [
              "IPY_MODEL_f910725e9d42456f8c29acf4f7c8974b",
              "IPY_MODEL_95477ee8df4e480b9e6290450708f88f",
              "IPY_MODEL_dfad7666c2914f639bcd5e7af619d707"
            ],
            "layout": "IPY_MODEL_b508c26691614b66aed2bde6bc243525"
          }
        },
        "f910725e9d42456f8c29acf4f7c8974b": {
          "model_module": "@jupyter-widgets/controls",
          "model_name": "HTMLModel",
          "model_module_version": "1.5.0",
          "state": {
            "_dom_classes": [],
            "_model_module": "@jupyter-widgets/controls",
            "_model_module_version": "1.5.0",
            "_model_name": "HTMLModel",
            "_view_count": null,
            "_view_module": "@jupyter-widgets/controls",
            "_view_module_version": "1.5.0",
            "_view_name": "HTMLView",
            "description": "",
            "description_tooltip": null,
            "layout": "IPY_MODEL_c86bfa69a7d24131b9a42b4dd7751a87",
            "placeholder": "​",
            "style": "IPY_MODEL_9b14a004630449f6a107849ec257b062",
            "value": "Downloading (…)lve/main/config.json: 100%"
          }
        },
        "95477ee8df4e480b9e6290450708f88f": {
          "model_module": "@jupyter-widgets/controls",
          "model_name": "FloatProgressModel",
          "model_module_version": "1.5.0",
          "state": {
            "_dom_classes": [],
            "_model_module": "@jupyter-widgets/controls",
            "_model_module_version": "1.5.0",
            "_model_name": "FloatProgressModel",
            "_view_count": null,
            "_view_module": "@jupyter-widgets/controls",
            "_view_module_version": "1.5.0",
            "_view_name": "ProgressView",
            "bar_style": "success",
            "description": "",
            "description_tooltip": null,
            "layout": "IPY_MODEL_3e6bd4da7b734304853ecb6f83493eca",
            "max": 481,
            "min": 0,
            "orientation": "horizontal",
            "style": "IPY_MODEL_a70da428d6a9412e8e43d544d7f04f94",
            "value": 481
          }
        },
        "dfad7666c2914f639bcd5e7af619d707": {
          "model_module": "@jupyter-widgets/controls",
          "model_name": "HTMLModel",
          "model_module_version": "1.5.0",
          "state": {
            "_dom_classes": [],
            "_model_module": "@jupyter-widgets/controls",
            "_model_module_version": "1.5.0",
            "_model_name": "HTMLModel",
            "_view_count": null,
            "_view_module": "@jupyter-widgets/controls",
            "_view_module_version": "1.5.0",
            "_view_name": "HTMLView",
            "description": "",
            "description_tooltip": null,
            "layout": "IPY_MODEL_e2ae40e486234d1b868e4fc329d7c80b",
            "placeholder": "​",
            "style": "IPY_MODEL_9a6587f839eb44c49e33e3fc18289c46",
            "value": " 481/481 [00:00&lt;00:00, 46.9kB/s]"
          }
        },
        "b508c26691614b66aed2bde6bc243525": {
          "model_module": "@jupyter-widgets/base",
          "model_name": "LayoutModel",
          "model_module_version": "1.2.0",
          "state": {
            "_model_module": "@jupyter-widgets/base",
            "_model_module_version": "1.2.0",
            "_model_name": "LayoutModel",
            "_view_count": null,
            "_view_module": "@jupyter-widgets/base",
            "_view_module_version": "1.2.0",
            "_view_name": "LayoutView",
            "align_content": null,
            "align_items": null,
            "align_self": null,
            "border": null,
            "bottom": null,
            "display": null,
            "flex": null,
            "flex_flow": null,
            "grid_area": null,
            "grid_auto_columns": null,
            "grid_auto_flow": null,
            "grid_auto_rows": null,
            "grid_column": null,
            "grid_gap": null,
            "grid_row": null,
            "grid_template_areas": null,
            "grid_template_columns": null,
            "grid_template_rows": null,
            "height": null,
            "justify_content": null,
            "justify_items": null,
            "left": null,
            "margin": null,
            "max_height": null,
            "max_width": null,
            "min_height": null,
            "min_width": null,
            "object_fit": null,
            "object_position": null,
            "order": null,
            "overflow": null,
            "overflow_x": null,
            "overflow_y": null,
            "padding": null,
            "right": null,
            "top": null,
            "visibility": null,
            "width": null
          }
        },
        "c86bfa69a7d24131b9a42b4dd7751a87": {
          "model_module": "@jupyter-widgets/base",
          "model_name": "LayoutModel",
          "model_module_version": "1.2.0",
          "state": {
            "_model_module": "@jupyter-widgets/base",
            "_model_module_version": "1.2.0",
            "_model_name": "LayoutModel",
            "_view_count": null,
            "_view_module": "@jupyter-widgets/base",
            "_view_module_version": "1.2.0",
            "_view_name": "LayoutView",
            "align_content": null,
            "align_items": null,
            "align_self": null,
            "border": null,
            "bottom": null,
            "display": null,
            "flex": null,
            "flex_flow": null,
            "grid_area": null,
            "grid_auto_columns": null,
            "grid_auto_flow": null,
            "grid_auto_rows": null,
            "grid_column": null,
            "grid_gap": null,
            "grid_row": null,
            "grid_template_areas": null,
            "grid_template_columns": null,
            "grid_template_rows": null,
            "height": null,
            "justify_content": null,
            "justify_items": null,
            "left": null,
            "margin": null,
            "max_height": null,
            "max_width": null,
            "min_height": null,
            "min_width": null,
            "object_fit": null,
            "object_position": null,
            "order": null,
            "overflow": null,
            "overflow_x": null,
            "overflow_y": null,
            "padding": null,
            "right": null,
            "top": null,
            "visibility": null,
            "width": null
          }
        },
        "9b14a004630449f6a107849ec257b062": {
          "model_module": "@jupyter-widgets/controls",
          "model_name": "DescriptionStyleModel",
          "model_module_version": "1.5.0",
          "state": {
            "_model_module": "@jupyter-widgets/controls",
            "_model_module_version": "1.5.0",
            "_model_name": "DescriptionStyleModel",
            "_view_count": null,
            "_view_module": "@jupyter-widgets/base",
            "_view_module_version": "1.2.0",
            "_view_name": "StyleView",
            "description_width": ""
          }
        },
        "3e6bd4da7b734304853ecb6f83493eca": {
          "model_module": "@jupyter-widgets/base",
          "model_name": "LayoutModel",
          "model_module_version": "1.2.0",
          "state": {
            "_model_module": "@jupyter-widgets/base",
            "_model_module_version": "1.2.0",
            "_model_name": "LayoutModel",
            "_view_count": null,
            "_view_module": "@jupyter-widgets/base",
            "_view_module_version": "1.2.0",
            "_view_name": "LayoutView",
            "align_content": null,
            "align_items": null,
            "align_self": null,
            "border": null,
            "bottom": null,
            "display": null,
            "flex": null,
            "flex_flow": null,
            "grid_area": null,
            "grid_auto_columns": null,
            "grid_auto_flow": null,
            "grid_auto_rows": null,
            "grid_column": null,
            "grid_gap": null,
            "grid_row": null,
            "grid_template_areas": null,
            "grid_template_columns": null,
            "grid_template_rows": null,
            "height": null,
            "justify_content": null,
            "justify_items": null,
            "left": null,
            "margin": null,
            "max_height": null,
            "max_width": null,
            "min_height": null,
            "min_width": null,
            "object_fit": null,
            "object_position": null,
            "order": null,
            "overflow": null,
            "overflow_x": null,
            "overflow_y": null,
            "padding": null,
            "right": null,
            "top": null,
            "visibility": null,
            "width": null
          }
        },
        "a70da428d6a9412e8e43d544d7f04f94": {
          "model_module": "@jupyter-widgets/controls",
          "model_name": "ProgressStyleModel",
          "model_module_version": "1.5.0",
          "state": {
            "_model_module": "@jupyter-widgets/controls",
            "_model_module_version": "1.5.0",
            "_model_name": "ProgressStyleModel",
            "_view_count": null,
            "_view_module": "@jupyter-widgets/base",
            "_view_module_version": "1.2.0",
            "_view_name": "StyleView",
            "bar_color": null,
            "description_width": ""
          }
        },
        "e2ae40e486234d1b868e4fc329d7c80b": {
          "model_module": "@jupyter-widgets/base",
          "model_name": "LayoutModel",
          "model_module_version": "1.2.0",
          "state": {
            "_model_module": "@jupyter-widgets/base",
            "_model_module_version": "1.2.0",
            "_model_name": "LayoutModel",
            "_view_count": null,
            "_view_module": "@jupyter-widgets/base",
            "_view_module_version": "1.2.0",
            "_view_name": "LayoutView",
            "align_content": null,
            "align_items": null,
            "align_self": null,
            "border": null,
            "bottom": null,
            "display": null,
            "flex": null,
            "flex_flow": null,
            "grid_area": null,
            "grid_auto_columns": null,
            "grid_auto_flow": null,
            "grid_auto_rows": null,
            "grid_column": null,
            "grid_gap": null,
            "grid_row": null,
            "grid_template_areas": null,
            "grid_template_columns": null,
            "grid_template_rows": null,
            "height": null,
            "justify_content": null,
            "justify_items": null,
            "left": null,
            "margin": null,
            "max_height": null,
            "max_width": null,
            "min_height": null,
            "min_width": null,
            "object_fit": null,
            "object_position": null,
            "order": null,
            "overflow": null,
            "overflow_x": null,
            "overflow_y": null,
            "padding": null,
            "right": null,
            "top": null,
            "visibility": null,
            "width": null
          }
        },
        "9a6587f839eb44c49e33e3fc18289c46": {
          "model_module": "@jupyter-widgets/controls",
          "model_name": "DescriptionStyleModel",
          "model_module_version": "1.5.0",
          "state": {
            "_model_module": "@jupyter-widgets/controls",
            "_model_module_version": "1.5.0",
            "_model_name": "DescriptionStyleModel",
            "_view_count": null,
            "_view_module": "@jupyter-widgets/base",
            "_view_module_version": "1.2.0",
            "_view_name": "StyleView",
            "description_width": ""
          }
        },
        "f6a0b19dee67435996da8673cf69d30d": {
          "model_module": "@jupyter-widgets/controls",
          "model_name": "HBoxModel",
          "model_module_version": "1.5.0",
          "state": {
            "_dom_classes": [],
            "_model_module": "@jupyter-widgets/controls",
            "_model_module_version": "1.5.0",
            "_model_name": "HBoxModel",
            "_view_count": null,
            "_view_module": "@jupyter-widgets/controls",
            "_view_module_version": "1.5.0",
            "_view_name": "HBoxView",
            "box_style": "",
            "children": [
              "IPY_MODEL_cc34538acda547dfb195d4df7a6c3e1d",
              "IPY_MODEL_20a3d2af839a423ba87c62a268b926b8",
              "IPY_MODEL_83418c9e2af642d38fb6068de75a9655"
            ],
            "layout": "IPY_MODEL_d1671043da834de5bbdb4ddf8fec9ce5"
          }
        },
        "cc34538acda547dfb195d4df7a6c3e1d": {
          "model_module": "@jupyter-widgets/controls",
          "model_name": "HTMLModel",
          "model_module_version": "1.5.0",
          "state": {
            "_dom_classes": [],
            "_model_module": "@jupyter-widgets/controls",
            "_model_module_version": "1.5.0",
            "_model_name": "HTMLModel",
            "_view_count": null,
            "_view_module": "@jupyter-widgets/controls",
            "_view_module_version": "1.5.0",
            "_view_name": "HTMLView",
            "description": "",
            "description_tooltip": null,
            "layout": "IPY_MODEL_046fb0792ae447a688f8305b5520a50b",
            "placeholder": "​",
            "style": "IPY_MODEL_6608d271c1e74e3d93970325349bab4a",
            "value": "Downloading model.safetensors: 100%"
          }
        },
        "20a3d2af839a423ba87c62a268b926b8": {
          "model_module": "@jupyter-widgets/controls",
          "model_name": "FloatProgressModel",
          "model_module_version": "1.5.0",
          "state": {
            "_dom_classes": [],
            "_model_module": "@jupyter-widgets/controls",
            "_model_module_version": "1.5.0",
            "_model_name": "FloatProgressModel",
            "_view_count": null,
            "_view_module": "@jupyter-widgets/controls",
            "_view_module_version": "1.5.0",
            "_view_name": "ProgressView",
            "bar_style": "success",
            "description": "",
            "description_tooltip": null,
            "layout": "IPY_MODEL_6fa63771e987437d94ae08278586de43",
            "max": 498818054,
            "min": 0,
            "orientation": "horizontal",
            "style": "IPY_MODEL_a19882bbebf74b81b5c87a9e37ed615c",
            "value": 498818054
          }
        },
        "83418c9e2af642d38fb6068de75a9655": {
          "model_module": "@jupyter-widgets/controls",
          "model_name": "HTMLModel",
          "model_module_version": "1.5.0",
          "state": {
            "_dom_classes": [],
            "_model_module": "@jupyter-widgets/controls",
            "_model_module_version": "1.5.0",
            "_model_name": "HTMLModel",
            "_view_count": null,
            "_view_module": "@jupyter-widgets/controls",
            "_view_module_version": "1.5.0",
            "_view_name": "HTMLView",
            "description": "",
            "description_tooltip": null,
            "layout": "IPY_MODEL_4b48a5f6958f4702b64392a9a70976dd",
            "placeholder": "​",
            "style": "IPY_MODEL_6041f2849d1445faa981f453a85fb45e",
            "value": " 499M/499M [00:07&lt;00:00, 71.7MB/s]"
          }
        },
        "d1671043da834de5bbdb4ddf8fec9ce5": {
          "model_module": "@jupyter-widgets/base",
          "model_name": "LayoutModel",
          "model_module_version": "1.2.0",
          "state": {
            "_model_module": "@jupyter-widgets/base",
            "_model_module_version": "1.2.0",
            "_model_name": "LayoutModel",
            "_view_count": null,
            "_view_module": "@jupyter-widgets/base",
            "_view_module_version": "1.2.0",
            "_view_name": "LayoutView",
            "align_content": null,
            "align_items": null,
            "align_self": null,
            "border": null,
            "bottom": null,
            "display": null,
            "flex": null,
            "flex_flow": null,
            "grid_area": null,
            "grid_auto_columns": null,
            "grid_auto_flow": null,
            "grid_auto_rows": null,
            "grid_column": null,
            "grid_gap": null,
            "grid_row": null,
            "grid_template_areas": null,
            "grid_template_columns": null,
            "grid_template_rows": null,
            "height": null,
            "justify_content": null,
            "justify_items": null,
            "left": null,
            "margin": null,
            "max_height": null,
            "max_width": null,
            "min_height": null,
            "min_width": null,
            "object_fit": null,
            "object_position": null,
            "order": null,
            "overflow": null,
            "overflow_x": null,
            "overflow_y": null,
            "padding": null,
            "right": null,
            "top": null,
            "visibility": null,
            "width": null
          }
        },
        "046fb0792ae447a688f8305b5520a50b": {
          "model_module": "@jupyter-widgets/base",
          "model_name": "LayoutModel",
          "model_module_version": "1.2.0",
          "state": {
            "_model_module": "@jupyter-widgets/base",
            "_model_module_version": "1.2.0",
            "_model_name": "LayoutModel",
            "_view_count": null,
            "_view_module": "@jupyter-widgets/base",
            "_view_module_version": "1.2.0",
            "_view_name": "LayoutView",
            "align_content": null,
            "align_items": null,
            "align_self": null,
            "border": null,
            "bottom": null,
            "display": null,
            "flex": null,
            "flex_flow": null,
            "grid_area": null,
            "grid_auto_columns": null,
            "grid_auto_flow": null,
            "grid_auto_rows": null,
            "grid_column": null,
            "grid_gap": null,
            "grid_row": null,
            "grid_template_areas": null,
            "grid_template_columns": null,
            "grid_template_rows": null,
            "height": null,
            "justify_content": null,
            "justify_items": null,
            "left": null,
            "margin": null,
            "max_height": null,
            "max_width": null,
            "min_height": null,
            "min_width": null,
            "object_fit": null,
            "object_position": null,
            "order": null,
            "overflow": null,
            "overflow_x": null,
            "overflow_y": null,
            "padding": null,
            "right": null,
            "top": null,
            "visibility": null,
            "width": null
          }
        },
        "6608d271c1e74e3d93970325349bab4a": {
          "model_module": "@jupyter-widgets/controls",
          "model_name": "DescriptionStyleModel",
          "model_module_version": "1.5.0",
          "state": {
            "_model_module": "@jupyter-widgets/controls",
            "_model_module_version": "1.5.0",
            "_model_name": "DescriptionStyleModel",
            "_view_count": null,
            "_view_module": "@jupyter-widgets/base",
            "_view_module_version": "1.2.0",
            "_view_name": "StyleView",
            "description_width": ""
          }
        },
        "6fa63771e987437d94ae08278586de43": {
          "model_module": "@jupyter-widgets/base",
          "model_name": "LayoutModel",
          "model_module_version": "1.2.0",
          "state": {
            "_model_module": "@jupyter-widgets/base",
            "_model_module_version": "1.2.0",
            "_model_name": "LayoutModel",
            "_view_count": null,
            "_view_module": "@jupyter-widgets/base",
            "_view_module_version": "1.2.0",
            "_view_name": "LayoutView",
            "align_content": null,
            "align_items": null,
            "align_self": null,
            "border": null,
            "bottom": null,
            "display": null,
            "flex": null,
            "flex_flow": null,
            "grid_area": null,
            "grid_auto_columns": null,
            "grid_auto_flow": null,
            "grid_auto_rows": null,
            "grid_column": null,
            "grid_gap": null,
            "grid_row": null,
            "grid_template_areas": null,
            "grid_template_columns": null,
            "grid_template_rows": null,
            "height": null,
            "justify_content": null,
            "justify_items": null,
            "left": null,
            "margin": null,
            "max_height": null,
            "max_width": null,
            "min_height": null,
            "min_width": null,
            "object_fit": null,
            "object_position": null,
            "order": null,
            "overflow": null,
            "overflow_x": null,
            "overflow_y": null,
            "padding": null,
            "right": null,
            "top": null,
            "visibility": null,
            "width": null
          }
        },
        "a19882bbebf74b81b5c87a9e37ed615c": {
          "model_module": "@jupyter-widgets/controls",
          "model_name": "ProgressStyleModel",
          "model_module_version": "1.5.0",
          "state": {
            "_model_module": "@jupyter-widgets/controls",
            "_model_module_version": "1.5.0",
            "_model_name": "ProgressStyleModel",
            "_view_count": null,
            "_view_module": "@jupyter-widgets/base",
            "_view_module_version": "1.2.0",
            "_view_name": "StyleView",
            "bar_color": null,
            "description_width": ""
          }
        },
        "4b48a5f6958f4702b64392a9a70976dd": {
          "model_module": "@jupyter-widgets/base",
          "model_name": "LayoutModel",
          "model_module_version": "1.2.0",
          "state": {
            "_model_module": "@jupyter-widgets/base",
            "_model_module_version": "1.2.0",
            "_model_name": "LayoutModel",
            "_view_count": null,
            "_view_module": "@jupyter-widgets/base",
            "_view_module_version": "1.2.0",
            "_view_name": "LayoutView",
            "align_content": null,
            "align_items": null,
            "align_self": null,
            "border": null,
            "bottom": null,
            "display": null,
            "flex": null,
            "flex_flow": null,
            "grid_area": null,
            "grid_auto_columns": null,
            "grid_auto_flow": null,
            "grid_auto_rows": null,
            "grid_column": null,
            "grid_gap": null,
            "grid_row": null,
            "grid_template_areas": null,
            "grid_template_columns": null,
            "grid_template_rows": null,
            "height": null,
            "justify_content": null,
            "justify_items": null,
            "left": null,
            "margin": null,
            "max_height": null,
            "max_width": null,
            "min_height": null,
            "min_width": null,
            "object_fit": null,
            "object_position": null,
            "order": null,
            "overflow": null,
            "overflow_x": null,
            "overflow_y": null,
            "padding": null,
            "right": null,
            "top": null,
            "visibility": null,
            "width": null
          }
        },
        "6041f2849d1445faa981f453a85fb45e": {
          "model_module": "@jupyter-widgets/controls",
          "model_name": "DescriptionStyleModel",
          "model_module_version": "1.5.0",
          "state": {
            "_model_module": "@jupyter-widgets/controls",
            "_model_module_version": "1.5.0",
            "_model_name": "DescriptionStyleModel",
            "_view_count": null,
            "_view_module": "@jupyter-widgets/base",
            "_view_module_version": "1.2.0",
            "_view_name": "StyleView",
            "description_width": ""
          }
        },
        "caf80a293b0e4ef48ad3550bf3641395": {
          "model_module": "@jupyter-widgets/controls",
          "model_name": "HBoxModel",
          "model_module_version": "1.5.0",
          "state": {
            "_dom_classes": [],
            "_model_module": "@jupyter-widgets/controls",
            "_model_module_version": "1.5.0",
            "_model_name": "HBoxModel",
            "_view_count": null,
            "_view_module": "@jupyter-widgets/controls",
            "_view_module_version": "1.5.0",
            "_view_name": "HBoxView",
            "box_style": "",
            "children": [
              "IPY_MODEL_c8354ca71bb4404aa6e10a375835c345",
              "IPY_MODEL_5f3be920e4fb4b57826affefb6e2304f",
              "IPY_MODEL_a1f7f6f35c3f4f5f8d8efbe6161250a5"
            ],
            "layout": "IPY_MODEL_5bbada8628944ffbaa051be5d01e4cd6"
          }
        },
        "c8354ca71bb4404aa6e10a375835c345": {
          "model_module": "@jupyter-widgets/controls",
          "model_name": "HTMLModel",
          "model_module_version": "1.5.0",
          "state": {
            "_dom_classes": [],
            "_model_module": "@jupyter-widgets/controls",
            "_model_module_version": "1.5.0",
            "_model_name": "HTMLModel",
            "_view_count": null,
            "_view_module": "@jupyter-widgets/controls",
            "_view_module_version": "1.5.0",
            "_view_name": "HTMLView",
            "description": "",
            "description_tooltip": null,
            "layout": "IPY_MODEL_2e426e11e14743cb852751c078ed931e",
            "placeholder": "​",
            "style": "IPY_MODEL_cecdcf3344524f4d90a73b5e2c4a762f",
            "value": " 80%"
          }
        },
        "5f3be920e4fb4b57826affefb6e2304f": {
          "model_module": "@jupyter-widgets/controls",
          "model_name": "FloatProgressModel",
          "model_module_version": "1.5.0",
          "state": {
            "_dom_classes": [],
            "_model_module": "@jupyter-widgets/controls",
            "_model_module_version": "1.5.0",
            "_model_name": "FloatProgressModel",
            "_view_count": null,
            "_view_module": "@jupyter-widgets/controls",
            "_view_module_version": "1.5.0",
            "_view_name": "ProgressView",
            "bar_style": "danger",
            "description": "",
            "description_tooltip": null,
            "layout": "IPY_MODEL_4a26f892986e4bd2b01ea7c0bedc662b",
            "max": 5,
            "min": 0,
            "orientation": "horizontal",
            "style": "IPY_MODEL_012b5deba64345508317751f0d2a7901",
            "value": 4
          }
        },
        "a1f7f6f35c3f4f5f8d8efbe6161250a5": {
          "model_module": "@jupyter-widgets/controls",
          "model_name": "HTMLModel",
          "model_module_version": "1.5.0",
          "state": {
            "_dom_classes": [],
            "_model_module": "@jupyter-widgets/controls",
            "_model_module_version": "1.5.0",
            "_model_name": "HTMLModel",
            "_view_count": null,
            "_view_module": "@jupyter-widgets/controls",
            "_view_module_version": "1.5.0",
            "_view_name": "HTMLView",
            "description": "",
            "description_tooltip": null,
            "layout": "IPY_MODEL_8200bd931989469fb36018a3077efa36",
            "placeholder": "​",
            "style": "IPY_MODEL_85c07df419f547f1909436fb4cd08f75",
            "value": " 4/5 [00:00&lt;00:00,  7.89it/s]"
          }
        },
        "5bbada8628944ffbaa051be5d01e4cd6": {
          "model_module": "@jupyter-widgets/base",
          "model_name": "LayoutModel",
          "model_module_version": "1.2.0",
          "state": {
            "_model_module": "@jupyter-widgets/base",
            "_model_module_version": "1.2.0",
            "_model_name": "LayoutModel",
            "_view_count": null,
            "_view_module": "@jupyter-widgets/base",
            "_view_module_version": "1.2.0",
            "_view_name": "LayoutView",
            "align_content": null,
            "align_items": null,
            "align_self": null,
            "border": null,
            "bottom": null,
            "display": null,
            "flex": null,
            "flex_flow": null,
            "grid_area": null,
            "grid_auto_columns": null,
            "grid_auto_flow": null,
            "grid_auto_rows": null,
            "grid_column": null,
            "grid_gap": null,
            "grid_row": null,
            "grid_template_areas": null,
            "grid_template_columns": null,
            "grid_template_rows": null,
            "height": null,
            "justify_content": null,
            "justify_items": null,
            "left": null,
            "margin": null,
            "max_height": null,
            "max_width": null,
            "min_height": null,
            "min_width": null,
            "object_fit": null,
            "object_position": null,
            "order": null,
            "overflow": null,
            "overflow_x": null,
            "overflow_y": null,
            "padding": null,
            "right": null,
            "top": null,
            "visibility": null,
            "width": null
          }
        },
        "2e426e11e14743cb852751c078ed931e": {
          "model_module": "@jupyter-widgets/base",
          "model_name": "LayoutModel",
          "model_module_version": "1.2.0",
          "state": {
            "_model_module": "@jupyter-widgets/base",
            "_model_module_version": "1.2.0",
            "_model_name": "LayoutModel",
            "_view_count": null,
            "_view_module": "@jupyter-widgets/base",
            "_view_module_version": "1.2.0",
            "_view_name": "LayoutView",
            "align_content": null,
            "align_items": null,
            "align_self": null,
            "border": null,
            "bottom": null,
            "display": null,
            "flex": null,
            "flex_flow": null,
            "grid_area": null,
            "grid_auto_columns": null,
            "grid_auto_flow": null,
            "grid_auto_rows": null,
            "grid_column": null,
            "grid_gap": null,
            "grid_row": null,
            "grid_template_areas": null,
            "grid_template_columns": null,
            "grid_template_rows": null,
            "height": null,
            "justify_content": null,
            "justify_items": null,
            "left": null,
            "margin": null,
            "max_height": null,
            "max_width": null,
            "min_height": null,
            "min_width": null,
            "object_fit": null,
            "object_position": null,
            "order": null,
            "overflow": null,
            "overflow_x": null,
            "overflow_y": null,
            "padding": null,
            "right": null,
            "top": null,
            "visibility": null,
            "width": null
          }
        },
        "cecdcf3344524f4d90a73b5e2c4a762f": {
          "model_module": "@jupyter-widgets/controls",
          "model_name": "DescriptionStyleModel",
          "model_module_version": "1.5.0",
          "state": {
            "_model_module": "@jupyter-widgets/controls",
            "_model_module_version": "1.5.0",
            "_model_name": "DescriptionStyleModel",
            "_view_count": null,
            "_view_module": "@jupyter-widgets/base",
            "_view_module_version": "1.2.0",
            "_view_name": "StyleView",
            "description_width": ""
          }
        },
        "4a26f892986e4bd2b01ea7c0bedc662b": {
          "model_module": "@jupyter-widgets/base",
          "model_name": "LayoutModel",
          "model_module_version": "1.2.0",
          "state": {
            "_model_module": "@jupyter-widgets/base",
            "_model_module_version": "1.2.0",
            "_model_name": "LayoutModel",
            "_view_count": null,
            "_view_module": "@jupyter-widgets/base",
            "_view_module_version": "1.2.0",
            "_view_name": "LayoutView",
            "align_content": null,
            "align_items": null,
            "align_self": null,
            "border": null,
            "bottom": null,
            "display": null,
            "flex": null,
            "flex_flow": null,
            "grid_area": null,
            "grid_auto_columns": null,
            "grid_auto_flow": null,
            "grid_auto_rows": null,
            "grid_column": null,
            "grid_gap": null,
            "grid_row": null,
            "grid_template_areas": null,
            "grid_template_columns": null,
            "grid_template_rows": null,
            "height": null,
            "justify_content": null,
            "justify_items": null,
            "left": null,
            "margin": null,
            "max_height": null,
            "max_width": null,
            "min_height": null,
            "min_width": null,
            "object_fit": null,
            "object_position": null,
            "order": null,
            "overflow": null,
            "overflow_x": null,
            "overflow_y": null,
            "padding": null,
            "right": null,
            "top": null,
            "visibility": null,
            "width": null
          }
        },
        "012b5deba64345508317751f0d2a7901": {
          "model_module": "@jupyter-widgets/controls",
          "model_name": "ProgressStyleModel",
          "model_module_version": "1.5.0",
          "state": {
            "_model_module": "@jupyter-widgets/controls",
            "_model_module_version": "1.5.0",
            "_model_name": "ProgressStyleModel",
            "_view_count": null,
            "_view_module": "@jupyter-widgets/base",
            "_view_module_version": "1.2.0",
            "_view_name": "StyleView",
            "bar_color": null,
            "description_width": ""
          }
        },
        "8200bd931989469fb36018a3077efa36": {
          "model_module": "@jupyter-widgets/base",
          "model_name": "LayoutModel",
          "model_module_version": "1.2.0",
          "state": {
            "_model_module": "@jupyter-widgets/base",
            "_model_module_version": "1.2.0",
            "_model_name": "LayoutModel",
            "_view_count": null,
            "_view_module": "@jupyter-widgets/base",
            "_view_module_version": "1.2.0",
            "_view_name": "LayoutView",
            "align_content": null,
            "align_items": null,
            "align_self": null,
            "border": null,
            "bottom": null,
            "display": null,
            "flex": null,
            "flex_flow": null,
            "grid_area": null,
            "grid_auto_columns": null,
            "grid_auto_flow": null,
            "grid_auto_rows": null,
            "grid_column": null,
            "grid_gap": null,
            "grid_row": null,
            "grid_template_areas": null,
            "grid_template_columns": null,
            "grid_template_rows": null,
            "height": null,
            "justify_content": null,
            "justify_items": null,
            "left": null,
            "margin": null,
            "max_height": null,
            "max_width": null,
            "min_height": null,
            "min_width": null,
            "object_fit": null,
            "object_position": null,
            "order": null,
            "overflow": null,
            "overflow_x": null,
            "overflow_y": null,
            "padding": null,
            "right": null,
            "top": null,
            "visibility": null,
            "width": null
          }
        },
        "85c07df419f547f1909436fb4cd08f75": {
          "model_module": "@jupyter-widgets/controls",
          "model_name": "DescriptionStyleModel",
          "model_module_version": "1.5.0",
          "state": {
            "_model_module": "@jupyter-widgets/controls",
            "_model_module_version": "1.5.0",
            "_model_name": "DescriptionStyleModel",
            "_view_count": null,
            "_view_module": "@jupyter-widgets/base",
            "_view_module_version": "1.2.0",
            "_view_name": "StyleView",
            "description_width": ""
          }
        }
      }
    }
  },
  "nbformat": 4,
  "nbformat_minor": 0
}